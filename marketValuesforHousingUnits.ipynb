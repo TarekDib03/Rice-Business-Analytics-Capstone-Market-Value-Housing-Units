{
 "cells": [
  {
   "cell_type": "markdown",
   "id": "3a979ff3",
   "metadata": {},
   "source": [
    "### Reading Data and Importing Modules"
   ]
  },
  {
   "cell_type": "code",
   "execution_count": 2,
   "id": "c9c9243f",
   "metadata": {},
   "outputs": [],
   "source": [
    "# Change working directory\n",
    "import os\n",
    "os.chdir(\"D:\\Rice_Uni_Business_Analytics_Capstone\\Data\")"
   ]
  },
  {
   "cell_type": "code",
   "execution_count": 3,
   "id": "0ee8d69d",
   "metadata": {},
   "outputs": [
    {
     "data": {
      "text/plain": [
       "['thads2001.txt',\n",
       " 'thads2003.txt',\n",
       " 'thads2005.txt',\n",
       " 'thads2007.txt',\n",
       " 'thads2009.txt',\n",
       " 'thads2011.txt',\n",
       " 'thads2013.txt']"
      ]
     },
     "execution_count": 3,
     "metadata": {},
     "output_type": "execute_result"
    }
   ],
   "source": [
    "# Data files with extension .txt\n",
    "txt_files = [item for item in os.listdir() if item.endswith(\".txt\")]\n",
    "txt_files"
   ]
  },
  {
   "cell_type": "code",
   "execution_count": 4,
   "id": "9e7d9dbe",
   "metadata": {},
   "outputs": [],
   "source": [
    "# Columns slected to be used for analysis\n",
    "usecols = [\"CONTROL\", \"AGE1\", \"METRO3\", \"REGION\", \"LMED\", \"FMR\", \"IPOV\", \"BEDRMS\", \"BUILT\", \"STATUS\", \n",
    "           \"TYPE\", \"VALUE\", \"NUNITS\",\"ROOMS\", \"PER\", \"ZINC2\", \"ZADEQ\", \"ZSMHC\", \"STRUCTURETYPE\", \n",
    "           \"OWNRENT\", \"UTILITY\", \"OTHERCOST\", \"COST06\", \"COST08\",\"COST12\", \"COSTMED\", \"ASSISTED\"]"
   ]
  },
  {
   "cell_type": "code",
   "execution_count": 5,
   "id": "3561eaf5",
   "metadata": {},
   "outputs": [],
   "source": [
    "# Import modules\n",
    "import pandas as pd\n",
    "import numpy as np\n",
    "import seaborn as sns\n",
    "import matplotlib.pyplot as plt\n",
    "import statsmodels.api as sm\n",
    "from statsmodels.stats.outliers_influence import variance_inflation_factor\n",
    "from statsmodels.formula.api import ols\n",
    "from scipy import stats\n",
    "import warnings"
   ]
  },
  {
   "cell_type": "code",
   "execution_count": 6,
   "id": "367f29eb",
   "metadata": {},
   "outputs": [],
   "source": [
    "data_2001 = pd.read_csv(\"thads2001.txt\", sep=\",\", usecols=usecols)\n",
    "data_2003 = pd.read_csv(\"thads2003.txt\", sep=\",\", usecols=usecols)\n",
    "data_2005 = pd.read_csv(\"thads2005.txt\", sep=\",\", usecols=usecols)\n",
    "data_2007 = pd.read_csv(\"thads2007.txt\", sep=\",\", usecols=usecols)\n",
    "data_2009 = pd.read_csv(\"thads2009.txt\", sep=\",\", usecols=usecols)\n",
    "data_2011 = pd.read_csv(\"thads2011.txt\", sep=\",\", usecols=usecols)\n",
    "data_2013 = pd.read_csv(\"thads2013.txt\", sep=\",\", usecols=usecols)"
   ]
  },
  {
   "cell_type": "markdown",
   "id": "5d0b0a3d",
   "metadata": {},
   "source": [
    "### Data Manipulation and Statistical Analysis"
   ]
  },
  {
   "cell_type": "code",
   "execution_count": 7,
   "id": "5c0eae3e",
   "metadata": {},
   "outputs": [],
   "source": [
    "# Initialize a list\n",
    "size_list = []\n",
    "# Iterate over the length of txt_files to append the size of each file to the size_list. Select \n",
    "# only market values that are $1000 or more\n",
    "for i in range(len(txt_files)):\n",
    "    df = pd.read_csv(txt_files[i], sep=\",\", usecols=usecols)\n",
    "    df = df[df[\"VALUE\"] >= 1000]\n",
    "    size_list.append(df.shape[0])"
   ]
  },
  {
   "cell_type": "code",
   "execution_count": 8,
   "id": "b09db5d5",
   "metadata": {},
   "outputs": [
    {
     "name": "stdout",
     "output_type": "stream",
     "text": [
      "The number of housing units that have market values of $1,000 or more in 2001 is 29381\n",
      "The number of housing units that have market values of $1,000 or more in 2003 is 33434\n",
      "The number of housing units that have market values of $1,000 or more in 2005 is 30514\n",
      "The number of housing units that have market values of $1,000 or more in 2007 is 27785\n",
      "The number of housing units that have market values of $1,000 or more in 2009 is 31317\n",
      "The number of housing units that have market values of $1,000 or more in 2011 is 85050\n",
      "The number of housing units that have market values of $1,000 or more in 2013 is 36675\n"
     ]
    }
   ],
   "source": [
    "# Print the size of each file as formated below\n",
    "years = range(2001, 2015, 2)\n",
    "for i in range(len(txt_files)):\n",
    "    print(\"The number of housing units that have market values of $1,000 or more in {} is {}\"\n",
    "          .format(years[i], size_list[i]))"
   ]
  },
  {
   "cell_type": "code",
   "execution_count": 9,
   "id": "6b58c373",
   "metadata": {},
   "outputs": [],
   "source": [
    "# Extract the names of the dataframes\n",
    "def get_df_name(df):\n",
    "    '''Extract the name of the data frame. Input of the function is the dataframe df'''\n",
    "    name =[x for x in globals() if globals()[x] is df][0]\n",
    "    return name"
   ]
  },
  {
   "cell_type": "code",
   "execution_count": 10,
   "id": "7cd94738",
   "metadata": {},
   "outputs": [],
   "source": [
    "# Change names of the `VALUE` and `STATUS` variables to match the year\n",
    "def column_name_change(df):\n",
    "    '''Change the names of the VALUE and STATUS columns. Input is a dataframe'''\n",
    "    df.rename(columns={\"VALUE\": \"VALUE_{}\".format(get_df_name(df)[-4:]), \n",
    "                       \"STATUS\": \"STATUS_{}\".format(get_df_name(df)[-4:]), \n",
    "                       \"FMR\": \"FMR_{}\".format(get_df_name(df)[-4:])}, inplace = True)"
   ]
  },
  {
   "cell_type": "code",
   "execution_count": 11,
   "id": "f1c23c49",
   "metadata": {},
   "outputs": [
    {
     "data": {
      "text/plain": [
       "'data_2001'"
      ]
     },
     "execution_count": 11,
     "metadata": {},
     "output_type": "execute_result"
    }
   ],
   "source": [
    "# Test\n",
    "get_df_name(data_2001)"
   ]
  },
  {
   "cell_type": "code",
   "execution_count": 12,
   "id": "b22a58ad",
   "metadata": {},
   "outputs": [],
   "source": [
    "dfs = [data_2005, data_2007, data_2009, data_2011, data_2013]\n",
    "for df_name in dfs:\n",
    "    column_name_change(df_name)"
   ]
  },
  {
   "cell_type": "code",
   "execution_count": 13,
   "id": "7f85bf3f",
   "metadata": {},
   "outputs": [
    {
     "data": {
      "text/plain": [
       "246504.11244019138"
      ]
     },
     "execution_count": 13,
     "metadata": {},
     "output_type": "execute_result"
    }
   ],
   "source": [
    "# Now what is the average market value (in $) across all housing units for year 2005\n",
    "data_2005[data_2005[\"VALUE_2005\"] >= 1000][\"VALUE_2005\"].mean()"
   ]
  },
  {
   "cell_type": "code",
   "execution_count": 14,
   "id": "47cd1fc2",
   "metadata": {},
   "outputs": [],
   "source": [
    "# Subsets of the dataframes - market value is $1000 or more\n",
    "def f(df, x):\n",
    "    return df[df[x] >= 1000]"
   ]
  },
  {
   "cell_type": "code",
   "execution_count": 15,
   "id": "ca3bd025",
   "metadata": {},
   "outputs": [],
   "source": [
    "# A list of the yearly market value variables\n",
    "yearly_value = [\"VALUE_2005\", \"VALUE_2007\", \"VALUE_2009\", \"VALUE_2011\", \"VALUE_2013\"]\n",
    "# A list of yearly status\n",
    "yearly_status = [\"STATUS_2005\", \"STATUS_2007\", \"STATUS_2009\", \"STATUS_2011\", \"STATUS_2013\"]\n",
    "# A list of the dataframes of the years 2005 through 2013\n",
    "dfs = [data_2005, data_2007, data_2009, data_2011, data_2013]\n",
    "\n",
    "# Initialize the status list\n",
    "status = []\n",
    "# Iterate over the yearly data and group it by status to count the number of occupied vs. vacant apartments in these housing \n",
    "# units\n",
    "for i in range(len(yearly_value)):\n",
    "    status.append(f(dfs[i], yearly_value[i]).groupby([yearly_status[i]])[yearly_status[i]].count())\n",
    "\n",
    "# Convert the list to a datafram\n",
    "status_df = pd.DataFrame(status)    # '1': occupied, '3': not occupied\n",
    "# Rename columns to Occupied and Vacant, respectively\n",
    "status_df.rename(columns={\"'1'\": 'Occupied', \"'3'\": 'Vacant'}, inplace=True)"
   ]
  },
  {
   "cell_type": "code",
   "execution_count": 16,
   "id": "e578482d",
   "metadata": {},
   "outputs": [
    {
     "data": {
      "text/plain": [
       "<Axes: title={'center': 'Vacant Houses'}, ylabel='Vacant'>"
      ]
     },
     "execution_count": 16,
     "metadata": {},
     "output_type": "execute_result"
    },
    {
     "data": {
      "image/png": "[encoded data removed]",
      "text/plain": [
       "<Figure size 1600x400 with 2 Axes>"
      ]
     },
     "metadata": {},
     "output_type": "display_data"
    }
   ],
   "source": [
    "fig, axes = plt.subplots(1, 2, sharex=True, figsize=(16,4))\n",
    "fig.suptitle('Occupied and Vacant Houses')\n",
    "axes[0].set_title('Occupied Houses')\n",
    "axes[1].set_title('Vacant Houses')\n",
    "sns.barplot(ax = axes[0], x = status_df.index, y = status_df.Occupied)\n",
    "sns.barplot(ax = axes[1], x = status_df.index, y = status_df.Vacant)"
   ]
  },
  {
   "cell_type": "code",
   "execution_count": 17,
   "id": "e3b5d96f",
   "metadata": {},
   "outputs": [
    {
     "data": {
      "text/html": [
       "<div>\n",
       "<style scoped>\n",
       "    .dataframe tbody tr th:only-of-type {\n",
       "        vertical-align: middle;\n",
       "    }\n",
       "\n",
       "    .dataframe tbody tr th {\n",
       "        vertical-align: top;\n",
       "    }\n",
       "\n",
       "    .dataframe thead th {\n",
       "        text-align: right;\n",
       "    }\n",
       "</style>\n",
       "<table border=\"1\" class=\"dataframe\">\n",
       "  <thead>\n",
       "    <tr style=\"text-align: right;\">\n",
       "      <th></th>\n",
       "      <th>VALUE_2007</th>\n",
       "    </tr>\n",
       "    <tr>\n",
       "      <th>STATUS_2007</th>\n",
       "      <th></th>\n",
       "    </tr>\n",
       "  </thead>\n",
       "  <tbody>\n",
       "    <tr>\n",
       "      <th>'1'</th>\n",
       "      <td>278960.75</td>\n",
       "    </tr>\n",
       "    <tr>\n",
       "      <th>'3'</th>\n",
       "      <td>289004.49</td>\n",
       "    </tr>\n",
       "  </tbody>\n",
       "</table>\n",
       "</div>"
      ],
      "text/plain": [
       "             VALUE_2007\n",
       "STATUS_2007            \n",
       "'1'           278960.75\n",
       "'3'           289004.49"
      ]
     },
     "execution_count": 17,
     "metadata": {},
     "output_type": "execute_result"
    }
   ],
   "source": [
    "# Comparison of the average market value between occupied and vacant housing units \n",
    "df_2007_sub = f(data_2007[[\"STATUS_2007\", \"VALUE_2007\"]], \"VALUE_2007\")\n",
    "df_2007_sub.groupby(\"STATUS_2007\").mean().round(2)"
   ]
  },
  {
   "cell_type": "code",
   "execution_count": 18,
   "id": "dbcf2be1",
   "metadata": {},
   "outputs": [
    {
     "data": {
      "text/html": [
       "<div>\n",
       "<style scoped>\n",
       "    .dataframe tbody tr th:only-of-type {\n",
       "        vertical-align: middle;\n",
       "    }\n",
       "\n",
       "    .dataframe tbody tr th {\n",
       "        vertical-align: top;\n",
       "    }\n",
       "\n",
       "    .dataframe thead th {\n",
       "        text-align: right;\n",
       "    }\n",
       "</style>\n",
       "<table border=\"1\" class=\"dataframe\">\n",
       "  <thead>\n",
       "    <tr style=\"text-align: right;\">\n",
       "      <th></th>\n",
       "      <th>VALUE_2007</th>\n",
       "    </tr>\n",
       "    <tr>\n",
       "      <th>STATUS_2007</th>\n",
       "      <th></th>\n",
       "    </tr>\n",
       "  </thead>\n",
       "  <tbody>\n",
       "    <tr>\n",
       "      <th>'1'</th>\n",
       "      <td>317162.77</td>\n",
       "    </tr>\n",
       "    <tr>\n",
       "      <th>'3'</th>\n",
       "      <td>306203.82</td>\n",
       "    </tr>\n",
       "  </tbody>\n",
       "</table>\n",
       "</div>"
      ],
      "text/plain": [
       "             VALUE_2007\n",
       "STATUS_2007            \n",
       "'1'           317162.77\n",
       "'3'           306203.82"
      ]
     },
     "execution_count": 18,
     "metadata": {},
     "output_type": "execute_result"
    }
   ],
   "source": [
    "# Standard deviation\n",
    "df_2007_sub.groupby(\"STATUS_2007\").std().round(2)"
   ]
  },
  {
   "cell_type": "code",
   "execution_count": 19,
   "id": "83c900de",
   "metadata": {},
   "outputs": [
    {
     "name": "stdout",
     "output_type": "stream",
     "text": [
      "             VALUE_2013\n",
      "STATUS_2013            \n",
      "'1'           249858.55\n",
      "'3'           251996.82\n",
      "             VALUE_2013\n",
      "STATUS_2013            \n",
      "'1'           282290.65\n",
      "'3'           389653.09\n"
     ]
    }
   ],
   "source": [
    "# Now mean and standard deviation for 2013\n",
    "df_2013_sub = f(data_2013[[\"STATUS_2013\", \"VALUE_2013\"]], \"VALUE_2013\")\n",
    "print(df_2013_sub.groupby(\"STATUS_2013\").mean().round(2))\n",
    "print(df_2013_sub.groupby(\"STATUS_2013\").std().round(2))"
   ]
  },
  {
   "cell_type": "code",
   "execution_count": 20,
   "id": "ab5e379a",
   "metadata": {},
   "outputs": [
    {
     "name": "stdout",
     "output_type": "stream",
     "text": [
      "6.397 0.0\n"
     ]
    }
   ],
   "source": [
    "# Report the t-statistic from the difference in means test using the 2011 data\n",
    "\n",
    "# Two-sample independent t-test\n",
    "\n",
    "# 1. Import stats library from scipy\n",
    "from scipy import stats\n",
    "\n",
    "# 2. Prepare data\n",
    "occupied_2011 = f(data_2011, \"VALUE_2011\")[f(data_2011, \"VALUE_2011\")[\"STATUS_2011\"] == \"'1'\"][\"VALUE_2011\"]\n",
    "vacant_2011 = f(data_2011, \"VALUE_2011\")[f(data_2011, \"VALUE_2011\")[\"STATUS_2011\"] == \"'3'\"][\"VALUE_2011\"]\n",
    "\n",
    "# 3. Calculate the t-statistic and p-value\n",
    "t_stat, p_value = stats.ttest_ind(occupied_2011, vacant_2011)\n",
    "print(round(t_stat, 4), round(p_value, 4))"
   ]
  },
  {
   "cell_type": "code",
   "execution_count": 21,
   "id": "e604ba8f",
   "metadata": {},
   "outputs": [
    {
     "name": "stdout",
     "output_type": "stream",
     "text": [
      "-0.2599 0.7949\n"
     ]
    }
   ],
   "source": [
    "# Now the t-statistic from the difference in means test using the 2013 data\n",
    "occupied_2013 = f(data_2013, \"VALUE_2013\")[f(data_2013, \"VALUE_2013\")[\"STATUS_2013\"] == \"'1'\"][\"VALUE_2013\"]\n",
    "vacant_2013 = f(data_2013, \"VALUE_2013\")[f(data_2013, \"VALUE_2013\")[\"STATUS_2013\"] == \"'3'\"][\"VALUE_2013\"]\n",
    "\n",
    "# 3. Calculate the t-statistic and p-value\n",
    "t_stat_2013, p_value_2013 = stats.ttest_ind(occupied_2013, vacant_2013)\n",
    "print(round(t_stat_2013, 4), round(p_value_2013, 4))"
   ]
  },
  {
   "cell_type": "code",
   "execution_count": 22,
   "id": "2c7ddf4c",
   "metadata": {},
   "outputs": [],
   "source": [
    "def diff_in_means_test(df, x, y):\n",
    "    '''Difference in means test for current market vlaues of occupied vs. vacant housing units.\n",
    "    Inputs: dataframe df, x: column name (string), y: column name (string) \n",
    "    '''\n",
    "    occupied = f(df, x)[f(df, x)[y] == \"'1'\"][x]\n",
    "    vacant = f(df, x)[f(df, x)[y] == \"'3'\"][x]\n",
    "    t_stat, p_value = stats.ttest_ind(occupied, vacant)\n",
    "    return round(t_stat, 4), round(p_value, 4)"
   ]
  },
  {
   "cell_type": "code",
   "execution_count": 23,
   "id": "ec1953a9",
   "metadata": {},
   "outputs": [],
   "source": [
    "# Years\n",
    "years_2 = range(2005, 2015, 2)\n",
    "# Empty dictionary for the t statistics values\n",
    "t_stats = {}\n",
    "# Empty dictionary for the p-values\n",
    "p_values = {} \n",
    "# Iterate over the length of the names of dataframes within the list dfs to populate the above dictionaries\n",
    "for i in range(len(dfs)):\n",
    "    t_stats[years_2[i]] = diff_in_means_test(dfs[i], yearly_value[i], yearly_status[i])[0]\n",
    "    p_values[years_2[i]] = diff_in_means_test(dfs[i], yearly_value[i], yearly_status[i])[1]"
   ]
  },
  {
   "cell_type": "code",
   "execution_count": 24,
   "id": "7c39508e",
   "metadata": {},
   "outputs": [
    {
     "data": {
      "text/html": [
       "<div>\n",
       "<style scoped>\n",
       "    .dataframe tbody tr th:only-of-type {\n",
       "        vertical-align: middle;\n",
       "    }\n",
       "\n",
       "    .dataframe tbody tr th {\n",
       "        vertical-align: top;\n",
       "    }\n",
       "\n",
       "    .dataframe thead th {\n",
       "        text-align: right;\n",
       "    }\n",
       "</style>\n",
       "<table border=\"1\" class=\"dataframe\">\n",
       "  <thead>\n",
       "    <tr style=\"text-align: right;\">\n",
       "      <th></th>\n",
       "      <th>Year</th>\n",
       "      <th>t_stat</th>\n",
       "    </tr>\n",
       "  </thead>\n",
       "  <tbody>\n",
       "    <tr>\n",
       "      <th>0</th>\n",
       "      <td>0</td>\n",
       "      <td>6.397</td>\n",
       "    </tr>\n",
       "  </tbody>\n",
       "</table>\n",
       "</div>"
      ],
      "text/plain": [
       "   Year  t_stat\n",
       "0     0   6.397"
      ]
     },
     "execution_count": 24,
     "metadata": {},
     "output_type": "execute_result"
    }
   ],
   "source": [
    "pd.melt(pd.DataFrame([t_stat])).rename(columns={\"variable\": \"Year\", \"value\": \"t_stat\"})"
   ]
  },
  {
   "cell_type": "code",
   "execution_count": 25,
   "id": "cb613dac",
   "metadata": {},
   "outputs": [
    {
     "data": {
      "text/html": [
       "<div>\n",
       "<style scoped>\n",
       "    .dataframe tbody tr th:only-of-type {\n",
       "        vertical-align: middle;\n",
       "    }\n",
       "\n",
       "    .dataframe tbody tr th {\n",
       "        vertical-align: top;\n",
       "    }\n",
       "\n",
       "    .dataframe thead th {\n",
       "        text-align: right;\n",
       "    }\n",
       "</style>\n",
       "<table border=\"1\" class=\"dataframe\">\n",
       "  <thead>\n",
       "    <tr style=\"text-align: right;\">\n",
       "      <th></th>\n",
       "      <th>Year</th>\n",
       "      <th>p_value</th>\n",
       "    </tr>\n",
       "  </thead>\n",
       "  <tbody>\n",
       "    <tr>\n",
       "      <th>0</th>\n",
       "      <td>2005</td>\n",
       "      <td>0.0416</td>\n",
       "    </tr>\n",
       "    <tr>\n",
       "      <th>1</th>\n",
       "      <td>2007</td>\n",
       "      <td>0.2609</td>\n",
       "    </tr>\n",
       "    <tr>\n",
       "      <th>2</th>\n",
       "      <td>2009</td>\n",
       "      <td>0.8465</td>\n",
       "    </tr>\n",
       "    <tr>\n",
       "      <th>3</th>\n",
       "      <td>2011</td>\n",
       "      <td>0.0000</td>\n",
       "    </tr>\n",
       "    <tr>\n",
       "      <th>4</th>\n",
       "      <td>2013</td>\n",
       "      <td>0.7949</td>\n",
       "    </tr>\n",
       "  </tbody>\n",
       "</table>\n",
       "</div>"
      ],
      "text/plain": [
       "   Year  p_value\n",
       "0  2005   0.0416\n",
       "1  2007   0.2609\n",
       "2  2009   0.8465\n",
       "3  2011   0.0000\n",
       "4  2013   0.7949"
      ]
     },
     "execution_count": 25,
     "metadata": {},
     "output_type": "execute_result"
    }
   ],
   "source": [
    "pd.melt(pd.DataFrame([p_values])).rename(columns={\"variable\": \"Year\", \"value\": \"p_value\"})"
   ]
  },
  {
   "cell_type": "code",
   "execution_count": 26,
   "id": "3e1f9962",
   "metadata": {},
   "outputs": [],
   "source": [
    "# Similar to the above, but the test is one sided t-test\n",
    "def one_sided_ttest(df, x, y):\n",
    "    occupied = f(df, x)[f(df, x)[y] == \"'1'\"][x]\n",
    "    vacant = f(df, x)[f(df, x)[y] == \"'3'\"][x]\n",
    "    t_stat, p_value = stats.ttest_ind(occupied, vacant, alternative = 'less')\n",
    "    return round(t_stat, 4), round(p_value, 4)"
   ]
  },
  {
   "cell_type": "code",
   "execution_count": 27,
   "id": "042c9393",
   "metadata": {},
   "outputs": [],
   "source": [
    "t_stats_one = {}\n",
    "p_values_one = {} \n",
    "\n",
    "for i in range(len(dfs)):\n",
    "    p_values_one[years_2[i]] = one_sided_ttest(dfs[i], yearly_value[i], yearly_status[i])[1]"
   ]
  },
  {
   "cell_type": "code",
   "execution_count": 28,
   "id": "aa56c3df",
   "metadata": {},
   "outputs": [
    {
     "data": {
      "text/html": [
       "<div>\n",
       "<style scoped>\n",
       "    .dataframe tbody tr th:only-of-type {\n",
       "        vertical-align: middle;\n",
       "    }\n",
       "\n",
       "    .dataframe tbody tr th {\n",
       "        vertical-align: top;\n",
       "    }\n",
       "\n",
       "    .dataframe thead th {\n",
       "        text-align: right;\n",
       "    }\n",
       "</style>\n",
       "<table border=\"1\" class=\"dataframe\">\n",
       "  <thead>\n",
       "    <tr style=\"text-align: right;\">\n",
       "      <th></th>\n",
       "      <th>Year</th>\n",
       "      <th>p_value</th>\n",
       "    </tr>\n",
       "  </thead>\n",
       "  <tbody>\n",
       "    <tr>\n",
       "      <th>0</th>\n",
       "      <td>2005</td>\n",
       "      <td>0.9792</td>\n",
       "    </tr>\n",
       "    <tr>\n",
       "      <th>1</th>\n",
       "      <td>2007</td>\n",
       "      <td>0.1305</td>\n",
       "    </tr>\n",
       "    <tr>\n",
       "      <th>2</th>\n",
       "      <td>2009</td>\n",
       "      <td>0.4232</td>\n",
       "    </tr>\n",
       "    <tr>\n",
       "      <th>3</th>\n",
       "      <td>2011</td>\n",
       "      <td>1.0000</td>\n",
       "    </tr>\n",
       "    <tr>\n",
       "      <th>4</th>\n",
       "      <td>2013</td>\n",
       "      <td>0.3975</td>\n",
       "    </tr>\n",
       "  </tbody>\n",
       "</table>\n",
       "</div>"
      ],
      "text/plain": [
       "   Year  p_value\n",
       "0  2005   0.9792\n",
       "1  2007   0.1305\n",
       "2  2009   0.4232\n",
       "3  2011   1.0000\n",
       "4  2013   0.3975"
      ]
     },
     "execution_count": 28,
     "metadata": {},
     "output_type": "execute_result"
    }
   ],
   "source": [
    "pd.melt(pd.DataFrame([p_values_one])).rename(columns={\"variable\": \"Year\", \"value\": \"p_value\"})"
   ]
  },
  {
   "cell_type": "code",
   "execution_count": 29,
   "id": "882fb0d3",
   "metadata": {},
   "outputs": [],
   "source": [
    "# Merge all the data frames (2005 through 2013)\n",
    "yearly_fmr = data_2005[[\"CONTROL\", \"FMR_2005\"]].merge(\n",
    "    data_2007[[\"CONTROL\", \"FMR_2007\"]], on=\"CONTROL\").merge(\n",
    "    data_2009[[\"CONTROL\", \"FMR_2009\"]], on=\"CONTROL\").merge(\n",
    "    data_2011[[\"CONTROL\", \"FMR_2011\"]], on=\"CONTROL\").merge(\n",
    "    data_2013[[\"CONTROL\", \"FMR_2013\"]], on=\"CONTROL\")"
   ]
  },
  {
   "cell_type": "code",
   "execution_count": 30,
   "id": "36242edf",
   "metadata": {},
   "outputs": [
    {
     "data": {
      "text/html": [
       "<div>\n",
       "<style scoped>\n",
       "    .dataframe tbody tr th:only-of-type {\n",
       "        vertical-align: middle;\n",
       "    }\n",
       "\n",
       "    .dataframe tbody tr th {\n",
       "        vertical-align: top;\n",
       "    }\n",
       "\n",
       "    .dataframe thead th {\n",
       "        text-align: right;\n",
       "    }\n",
       "</style>\n",
       "<table border=\"1\" class=\"dataframe\">\n",
       "  <thead>\n",
       "    <tr style=\"text-align: right;\">\n",
       "      <th></th>\n",
       "      <th>CONTROL</th>\n",
       "      <th>FMR_2005</th>\n",
       "      <th>FMR_2007</th>\n",
       "      <th>FMR_2009</th>\n",
       "      <th>FMR_2011</th>\n",
       "      <th>FMR_2013</th>\n",
       "    </tr>\n",
       "  </thead>\n",
       "  <tbody>\n",
       "    <tr>\n",
       "      <th>0</th>\n",
       "      <td>'100007130148'</td>\n",
       "      <td>519</td>\n",
       "      <td>616</td>\n",
       "      <td>685</td>\n",
       "      <td>711</td>\n",
       "      <td>737</td>\n",
       "    </tr>\n",
       "    <tr>\n",
       "      <th>1</th>\n",
       "      <td>'100007390148'</td>\n",
       "      <td>600</td>\n",
       "      <td>605</td>\n",
       "      <td>670</td>\n",
       "      <td>673</td>\n",
       "      <td>657</td>\n",
       "    </tr>\n",
       "    <tr>\n",
       "      <th>2</th>\n",
       "      <td>'100007540148'</td>\n",
       "      <td>788</td>\n",
       "      <td>807</td>\n",
       "      <td>897</td>\n",
       "      <td>935</td>\n",
       "      <td>988</td>\n",
       "    </tr>\n",
       "    <tr>\n",
       "      <th>3</th>\n",
       "      <td>'100008700141'</td>\n",
       "      <td>702</td>\n",
       "      <td>778</td>\n",
       "      <td>743</td>\n",
       "      <td>796</td>\n",
       "      <td>773</td>\n",
       "    </tr>\n",
       "    <tr>\n",
       "      <th>4</th>\n",
       "      <td>'100009170148'</td>\n",
       "      <td>546</td>\n",
       "      <td>599</td>\n",
       "      <td>503</td>\n",
       "      <td>531</td>\n",
       "      <td>552</td>\n",
       "    </tr>\n",
       "  </tbody>\n",
       "</table>\n",
       "</div>"
      ],
      "text/plain": [
       "          CONTROL  FMR_2005  FMR_2007  FMR_2009  FMR_2011  FMR_2013\n",
       "0  '100007130148'       519       616       685       711       737\n",
       "1  '100007390148'       600       605       670       673       657\n",
       "2  '100007540148'       788       807       897       935       988\n",
       "3  '100008700141'       702       778       743       796       773\n",
       "4  '100009170148'       546       599       503       531       552"
      ]
     },
     "execution_count": 30,
     "metadata": {},
     "output_type": "execute_result"
    }
   ],
   "source": [
    "yearly_fmr.head()"
   ]
  },
  {
   "cell_type": "code",
   "execution_count": 31,
   "id": "4fca8762",
   "metadata": {},
   "outputs": [
    {
     "data": {
      "text/plain": [
       "(26373, 6)"
      ]
     },
     "execution_count": 31,
     "metadata": {},
     "output_type": "execute_result"
    }
   ],
   "source": [
    "fmr_columns = []\n",
    "warnings.filterwarnings(\"ignore\")\n",
    "for column in list(yearly_fmr.columns):\n",
    "    if column.startswith(\"FMR\"):\n",
    "        fmr_columns.append(column)\n",
    "\n",
    "yearly_fmr_sub = yearly_fmr\n",
    "\n",
    "for fmr in fmr_columns:\n",
    "    yearly_fmr_sub = yearly_fmr_sub[yearly_fmr[fmr] > 0]\n",
    "yearly_fmr_sub.shape"
   ]
  },
  {
   "cell_type": "code",
   "execution_count": 32,
   "id": "559193bc",
   "metadata": {},
   "outputs": [
    {
     "data": {
      "text/plain": [
       "[360, 387, 427, 424, 421]"
      ]
     },
     "execution_count": 32,
     "metadata": {},
     "output_type": "execute_result"
    }
   ],
   "source": [
    "# Test\n",
    "fmr_min = []\n",
    "for fmr in fmr_columns:\n",
    "    fmr_min.append(yearly_fmr_sub[fmr].min())\n",
    "fmr_min"
   ]
  },
  {
   "cell_type": "code",
   "execution_count": 33,
   "id": "c459b96c",
   "metadata": {},
   "outputs": [
    {
     "data": {
      "text/plain": [
       "[929.04, 977.77, 1063.87, 1116.38, 1151.57]"
      ]
     },
     "execution_count": 33,
     "metadata": {},
     "output_type": "execute_result"
    }
   ],
   "source": [
    "fmr_yearly_avgs = []\n",
    "warnings.filterwarnings(\"ignore\")\n",
    "for i in range(5):\n",
    "    fmr_yearly_avgs.append(round(yearly_fmr_sub.describe().loc['mean'][i],2))\n",
    "fmr_yearly_avgs"
   ]
  },
  {
   "cell_type": "code",
   "execution_count": 34,
   "id": "fa5fadc0",
   "metadata": {},
   "outputs": [],
   "source": [
    "# Paired ttest\n",
    "def paired_ttest(x, y):\n",
    "    t_stat, p_value = stats.ttest_rel(yearly_fmr_sub[x], yearly_fmr_sub[y])\n",
    "    return round(t_stat, 4), round(p_value, 4)"
   ]
  },
  {
   "cell_type": "code",
   "execution_count": 35,
   "id": "0a0d29e8",
   "metadata": {},
   "outputs": [
    {
     "data": {
      "text/plain": [
       "[69.4904, 124.3222, 74.1512, 58.2109]"
      ]
     },
     "execution_count": 35,
     "metadata": {},
     "output_type": "execute_result"
    }
   ],
   "source": [
    "t_stats_paired = []\n",
    "p_values_paired = []\n",
    "fmrs = [\"FMR_2005\", \"FMR_2007\", \"FMR_2009\", \"FMR_2011\", \"FMR_2013\"]\n",
    "\n",
    "for i in range(1, len(fmrs)):\n",
    "    t_stats_paired.append(paired_ttest(fmrs[i], fmrs[i-1])[0])\n",
    "\n",
    "t_stats_paired"
   ]
  },
  {
   "cell_type": "code",
   "execution_count": 36,
   "id": "5c7af25f",
   "metadata": {},
   "outputs": [
    {
     "name": "stdout",
     "output_type": "stream",
     "text": [
      "The t-statistic for the difference in means test for the years 2005 and 2007 is 69.4904\n",
      "The t-statistic for the difference in means test for the years 2007 and 2009 is 124.3222\n",
      "The t-statistic for the difference in means test for the years 2009 and 2011 is 74.1512\n",
      "The t-statistic for the difference in means test for the years 2011 and 2013 is 58.2109\n"
     ]
    }
   ],
   "source": [
    "# OR\n",
    "for i in range(1, len(fmrs)):\n",
    "    print(\"The t-statistic for the difference in means test for the years {} and {} is {}\".\n",
    "          format(fmrs[i-1][-4:], fmrs[i][-4:], paired_ttest(fmrs[i], fmrs[i-1])[0]))"
   ]
  },
  {
   "cell_type": "code",
   "execution_count": 37,
   "id": "3df88446",
   "metadata": {},
   "outputs": [],
   "source": [
    "def percent_increase_fmr(x, y):\n",
    "    return((yearly_fmr_sub[y] - yearly_fmr_sub[x]) / yearly_fmr_sub[x] * 100)"
   ]
  },
  {
   "cell_type": "code",
   "execution_count": 38,
   "id": "3f3b3092",
   "metadata": {},
   "outputs": [
    {
     "name": "stdout",
     "output_type": "stream",
     "text": [
      "The average percent increase in fair market rent between 2005 and 2007 is 6.21%\n",
      "The average percent increase in fair market rent between 2007 and 2009 is 9.28%\n",
      "The average percent increase in fair market rent between 2009 and 2011 is 5.09%\n",
      "The average percent increase in fair market rent between 2011 and 2013 is 3.77%\n"
     ]
    }
   ],
   "source": [
    "for i in range(1, len(fmrs)):\n",
    "    print(\"The average percent increase in fair market rent between {} and {} is {}%\".\n",
    "          format(fmrs[i-1][-4:], fmrs[i][-4:], \n",
    "                 round(percent_increase_fmr(fmrs[i-1], fmrs[i]).mean(),2)))"
   ]
  },
  {
   "cell_type": "code",
   "execution_count": 39,
   "id": "c8233b23",
   "metadata": {},
   "outputs": [
    {
     "data": {
      "text/html": [
       "<div>\n",
       "<style scoped>\n",
       "    .dataframe tbody tr th:only-of-type {\n",
       "        vertical-align: middle;\n",
       "    }\n",
       "\n",
       "    .dataframe tbody tr th {\n",
       "        vertical-align: top;\n",
       "    }\n",
       "\n",
       "    .dataframe thead th {\n",
       "        text-align: right;\n",
       "    }\n",
       "</style>\n",
       "<table border=\"1\" class=\"dataframe\">\n",
       "  <thead>\n",
       "    <tr style=\"text-align: right;\">\n",
       "      <th></th>\n",
       "      <th>year</th>\n",
       "      <th>avg_yearly_fmr</th>\n",
       "    </tr>\n",
       "  </thead>\n",
       "  <tbody>\n",
       "    <tr>\n",
       "      <th>0</th>\n",
       "      <td>2005</td>\n",
       "      <td>929.04</td>\n",
       "    </tr>\n",
       "    <tr>\n",
       "      <th>1</th>\n",
       "      <td>2007</td>\n",
       "      <td>977.77</td>\n",
       "    </tr>\n",
       "    <tr>\n",
       "      <th>2</th>\n",
       "      <td>2009</td>\n",
       "      <td>1063.87</td>\n",
       "    </tr>\n",
       "    <tr>\n",
       "      <th>3</th>\n",
       "      <td>2011</td>\n",
       "      <td>1116.38</td>\n",
       "    </tr>\n",
       "    <tr>\n",
       "      <th>4</th>\n",
       "      <td>2013</td>\n",
       "      <td>1151.57</td>\n",
       "    </tr>\n",
       "  </tbody>\n",
       "</table>\n",
       "</div>"
      ],
      "text/plain": [
       "   year  avg_yearly_fmr\n",
       "0  2005          929.04\n",
       "1  2007          977.77\n",
       "2  2009         1063.87\n",
       "3  2011         1116.38\n",
       "4  2013         1151.57"
      ]
     },
     "execution_count": 39,
     "metadata": {},
     "output_type": "execute_result"
    }
   ],
   "source": [
    "# lets draw a line chart for the fair market values for the years 2005 through 2013\n",
    "years = [2005, 2007, 2009, 2011, 2013]\n",
    "fmr_yearly_data = pd.DataFrame({\"year\": years, \"avg_yearly_fmr\": fmr_yearly_avgs})\n",
    "fmr_yearly_data"
   ]
  },
  {
   "cell_type": "code",
   "execution_count": 40,
   "id": "b7d03bef",
   "metadata": {},
   "outputs": [
    {
     "data": {
      "image/png": "[encoded data removed]",
      "text/plain": [
       "<Figure size 600x300 with 1 Axes>"
      ]
     },
     "metadata": {},
     "output_type": "display_data"
    }
   ],
   "source": [
    "fig, ax = plt.subplots(figsize=(6, 3))\n",
    "warnings.filterwarnings(\"ignore\")\n",
    "sns.lineplot(data = fmr_yearly_data, x = \"year\", y = \"avg_yearly_fmr\", ax=ax)\n",
    "ax.set_xlim(2003,2015)\n",
    "ax.set_xticks(range(2005,2015,2))\n",
    "plt.title(\"Yearly Average Fair Market Rent\")\n",
    "plt.xlabel(\"Year\")\n",
    "plt.ylabel(\"Average Fair Market Rent\");"
   ]
  },
  {
   "cell_type": "code",
   "execution_count": 41,
   "id": "5bc4746d",
   "metadata": {},
   "outputs": [
    {
     "name": "stdout",
     "output_type": "stream",
     "text": [
      "1706.7912624191479 0.0\n"
     ]
    }
   ],
   "source": [
    "fvalue, pvalue = stats.f_oneway(yearly_fmr_sub[\"FMR_2005\"], yearly_fmr_sub[\"FMR_2007\"], \n",
    "                               yearly_fmr_sub[\"FMR_2009\"], yearly_fmr_sub[\"FMR_2011\"],\n",
    "                               yearly_fmr_sub[\"FMR_2013\"])\n",
    "print(fvalue, pvalue)"
   ]
  },
  {
   "cell_type": "markdown",
   "id": "c7eb9596",
   "metadata": {},
   "source": [
    "## Data from 2013 for Linear Regression Analysis - Owned Single Family House Units"
   ]
  },
  {
   "cell_type": "markdown",
   "id": "30d3b6cc",
   "metadata": {},
   "source": [
    "#### Define the Variables used in Remaining Analysis for the Year 2013\n",
    "\n",
    "- CONTROL\tCharacter: A control variable for Housing Unit. Useful to match data across datasets from different years.\n",
    "- AGE1: Age of head of household\n",
    "- METRO3 - a character variable with options ‘1’,’2’, ‘3’, ‘4’ or ‘5’ where ‘1’ : Central City, ‘2’, ‘3’, ‘4’, ‘5’ :Others\n",
    "- REGION\tCharacter ‘1’,’2’, ‘3’ or ‘4’. The four census regions—Northeast, Midwest, South, and West. \n",
    "- LMED (Numerical, \\$\\): Area Median Income\n",
    "- FMR (Numerical, \\$\\): Fair Market Monthly Rent\n",
    "- IPOV (Numerical, \\$\\): Poverty Income threshold\n",
    "- BEDRMS (Numerical): Number of Bedrooms in the unit\n",
    "- BUILT (Numerical): Year the unit was built\n",
    "- STATUS (Character) ‘1’, ‘3’ \tOccupied or Vacant\n",
    "- TYPE (Numerical): Structure Type\n",
    "    - 1 \tHouse, apartment, flat \n",
    "    - 2 \tMobile home with no permanent room added \n",
    "    - 3 \tMobile home with permanent room added\n",
    "    - 4 \tHU, in nontransient hotel, motel, etc\n",
    "    - 5 \tHU, in permanent transient hotel, motel, etc\n",
    "    - 6 \tHU, in rooming house\n",
    "    - 7 \tBoat or recreation vehicle\n",
    "    - 9 \tHU, not specified above\n",
    "- VALUE\t(Numerical, \\$\\)): Current market value of unit\n",
    "- NUNITS (Numerical): Number of Units in Building\n",
    "- ROOMS\t(Numerical): Number of rooms in the unit\n",
    "- PER (Numerical): Number of persons in Household\n",
    "- ZINC2 (Numerical): Annual Household income\n",
    "- ZADEQ\t(Character): Adequacy of unit - ‘1’: Adequate, '2’: Moderately Inadequate, '3’: Severely Inadequate, ‘-6’: Vacant - No information\n",
    "- ZSMHC\t(Numerical, \\$\\): Monthly housing costs. For renters, housing cost is contract rent plus utility costs. For Owners, mortgage is not included\n",
    "- STRUCTURETYPE (Numerical)\tStructure Type\n",
    "    - 1 \tSingle Family\n",
    "    - 2 \t2-4 units\n",
    "    - 3 \t5-19 units\n",
    "    - 4 \t20-49 units\n",
    "    - 5 \t50+ units\n",
    "    - 6 \tMobile Home\n",
    "    - -9 \tNot Known\n",
    "- OWNRENT (Character), ‘1’,  ‘2’\t\n",
    "    - ‘1’:\tOwner: Owner occupied, vacant for sale, and sold but not occupied.\n",
    "    - ‘2’: \tRental: Occupied units rented for cash and without payment of cash rent. Vacant for rent, vacant for rent or sale, and rented but not occupied.\n",
    "- UTILITY (Numerical \\$)\tMonthly utilities cost (gas, oil, electricity, other fuel, trash collection, and water)\n",
    "- OTHERCOST\t(Numerical \\$)\tSum of ‘other monthly costs’ such as Home owners’ or renters’ insurance, Land rent (where distinct from unit rent), Condominium fees (where applicable), Other mobile home fees (where applicable).\n",
    "- COST06 (Numerical \\$): Monthly mortgage payments assuming 6% interest. This applies only to “Owners”.\n",
    "- COST08 (Numerical \\$): Monthly mortgage payments assuming 8% interest. This applies only to “Owners”.\n",
    "- COST12 (Numerical \\$): Monthly mortgage payments assuming 12% interest. This applies only to “Owners”.\n",
    "- COSTMED\t(Numerical \\$): Monthly mortgage payments assuming median interest. This applies only to “Owners”.\n",
    "- ASSISTED (Numerical)\tDid the housing unit receive some governmental ‘assistance”? \n",
    "    - 0 \tNot assisted\n",
    "    - 1 \tAssisted\n",
    "    - -9 \tNot Known"
   ]
  },
  {
   "cell_type": "markdown",
   "id": "bc571bed",
   "metadata": {},
   "source": [
    "In the proceeding analysis, only data from 2013 will be used. Owned single family housing units will be considered for the rest of the analysis. The data will be used to build a multiple linear regression model that would predict the current market values of housing units based on a set of explanatory features. "
   ]
  },
  {
   "cell_type": "code",
   "execution_count": 42,
   "id": "8bc64ab9",
   "metadata": {},
   "outputs": [
    {
     "data": {
      "text/plain": [
       "(64535, 27)"
      ]
     },
     "execution_count": 42,
     "metadata": {},
     "output_type": "execute_result"
    }
   ],
   "source": [
    "# Read the 2013 into a different dataframe than the one used before\n",
    "data_2013_df = pd.read_csv(\"thads2013.txt\", sep=\",\", usecols=usecols)\n",
    "data_2013_df.shape"
   ]
  },
  {
   "cell_type": "markdown",
   "id": "4b9660ec",
   "metadata": {},
   "source": [
    "#### Data Processing and Manipulation"
   ]
  },
  {
   "cell_type": "code",
   "execution_count": 43,
   "id": "9500d088",
   "metadata": {},
   "outputs": [],
   "source": [
    "def owned_single_family_housing(df, x = \"VALUE\", value=1000, type=1, structure_type=1, owned=\"'1'\"):\n",
    "    '''The function inputs a dataframe, a variable name x to condition over, with default values\n",
    "    of value of $1000, type=1 (house), structure_type=1 (single family), and owned house'''\n",
    "    return df[(df[x] >= value) & \n",
    "              (df[\"TYPE\"] == type) & \n",
    "              (df[\"STRUCTURETYPE\"] == structure_type) &\n",
    "              (df[\"OWNRENT\"] == owned)].reset_index(drop=True)\n",
    "owned_single_family_housing_df = owned_single_family_housing(data_2013_df)"
   ]
  },
  {
   "cell_type": "code",
   "execution_count": 44,
   "id": "cfe18ee9",
   "metadata": {},
   "outputs": [
    {
     "name": "stdout",
     "output_type": "stream",
     "text": [
      "<class 'pandas.core.frame.DataFrame'>\n",
      "RangeIndex: 32825 entries, 0 to 32824\n",
      "Data columns (total 27 columns):\n",
      " #   Column         Non-Null Count  Dtype  \n",
      "---  ------         --------------  -----  \n",
      " 0   CONTROL        32825 non-null  object \n",
      " 1   AGE1           32825 non-null  int64  \n",
      " 2   METRO3         32825 non-null  object \n",
      " 3   REGION         32825 non-null  object \n",
      " 4   LMED           32825 non-null  int64  \n",
      " 5   FMR            32825 non-null  int64  \n",
      " 6   IPOV           32825 non-null  int64  \n",
      " 7   BEDRMS         32825 non-null  int64  \n",
      " 8   BUILT          32825 non-null  int64  \n",
      " 9   STATUS         32825 non-null  object \n",
      " 10  TYPE           32825 non-null  int64  \n",
      " 11  VALUE          32825 non-null  int64  \n",
      " 12  NUNITS         32825 non-null  int64  \n",
      " 13  ROOMS          32825 non-null  int64  \n",
      " 14  PER            32825 non-null  int64  \n",
      " 15  ZINC2          32825 non-null  int64  \n",
      " 16  ZADEQ          32825 non-null  object \n",
      " 17  ZSMHC          32825 non-null  int64  \n",
      " 18  STRUCTURETYPE  32825 non-null  int64  \n",
      " 19  OWNRENT        32825 non-null  object \n",
      " 20  UTILITY        32825 non-null  float64\n",
      " 21  OTHERCOST      32825 non-null  float64\n",
      " 22  COST06         32825 non-null  float64\n",
      " 23  COST12         32825 non-null  float64\n",
      " 24  COST08         32825 non-null  float64\n",
      " 25  COSTMED        32825 non-null  float64\n",
      " 26  ASSISTED       32825 non-null  int64  \n",
      "dtypes: float64(6), int64(15), object(6)\n",
      "memory usage: 6.8+ MB\n"
     ]
    }
   ],
   "source": [
    "owned_single_family_housing_df.info()"
   ]
  },
  {
   "cell_type": "code",
   "execution_count": 45,
   "id": "0bc20b60",
   "metadata": {},
   "outputs": [],
   "source": [
    "owned_single_family_housing_df.drop(columns=[\"TYPE\", \"STRUCTURETYPE\", \"OWNRENT\"], inplace=True)"
   ]
  },
  {
   "cell_type": "code",
   "execution_count": 46,
   "id": "4462b27c",
   "metadata": {},
   "outputs": [],
   "source": [
    "# In the METRO3 (metropolitan status) variable, replace '1' with Central City and '2', '3', '4', or '5'\n",
    "# with Other\n",
    "import numpy as np\n",
    "owned_single_family_housing_df[\"METRO3\"] = np.where(owned_single_family_housing_df.METRO3 == \"'1'\",\n",
    "                                                   \"central_city\", \"Other\")"
   ]
  },
  {
   "cell_type": "code",
   "execution_count": 47,
   "id": "b2624aa4",
   "metadata": {},
   "outputs": [],
   "source": [
    "# STATUS variable: '1': Occupied, '3': Vacant\n",
    "owned_single_family_housing_df[\"STATUS\"] = np.where(owned_single_family_housing_df.STATUS == \"'1'\",\n",
    "                                                   \"occupied\", \"vacant\")"
   ]
  },
  {
   "cell_type": "code",
   "execution_count": 48,
   "id": "3f996893",
   "metadata": {},
   "outputs": [],
   "source": [
    "owned_single_family_housing_df.replace({\"REGION\":{\"'1'\": \"Northeast\", \"'2'\": \"Midwest\", \n",
    "                                                 \"'3'\": \"South\", \"'4'\": \"West\"}}, inplace = True)"
   ]
  },
  {
   "cell_type": "code",
   "execution_count": 49,
   "id": "5f370738",
   "metadata": {},
   "outputs": [],
   "source": [
    "owned_single_family_housing_df.replace({\"ZADEQ\":{\"'1'\": \"Adequate\", \"'2'\": \"Moderately_inadequate\",\n",
    "                    \"'3'\": \"Severely_inadequate\", \"'-6'\": \"Vacant_No_Info\"}}, inplace = True)"
   ]
  },
  {
   "cell_type": "code",
   "execution_count": 50,
   "id": "0231f44b",
   "metadata": {},
   "outputs": [],
   "source": [
    "owned_single_family_housing_df.replace({\"ASSISTED\":{0:\"Not_Assisted\", 1:\"Assisted\", -9:\"Not_known\"}}, \n",
    "                                        inplace=True)"
   ]
  },
  {
   "cell_type": "code",
   "execution_count": 51,
   "id": "fcf4b8af",
   "metadata": {},
   "outputs": [
    {
     "data": {
      "text/html": [
       "<div>\n",
       "<style scoped>\n",
       "    .dataframe tbody tr th:only-of-type {\n",
       "        vertical-align: middle;\n",
       "    }\n",
       "\n",
       "    .dataframe tbody tr th {\n",
       "        vertical-align: top;\n",
       "    }\n",
       "\n",
       "    .dataframe thead th {\n",
       "        text-align: right;\n",
       "    }\n",
       "</style>\n",
       "<table border=\"1\" class=\"dataframe\">\n",
       "  <thead>\n",
       "    <tr style=\"text-align: right;\">\n",
       "      <th></th>\n",
       "      <th>AGE1</th>\n",
       "      <th>LMED</th>\n",
       "      <th>FMR</th>\n",
       "      <th>IPOV</th>\n",
       "      <th>BEDRMS</th>\n",
       "      <th>BUILT</th>\n",
       "      <th>VALUE</th>\n",
       "      <th>NUNITS</th>\n",
       "      <th>ROOMS</th>\n",
       "      <th>PER</th>\n",
       "      <th>ZINC2</th>\n",
       "      <th>ZSMHC</th>\n",
       "      <th>UTILITY</th>\n",
       "      <th>OTHERCOST</th>\n",
       "      <th>COST06</th>\n",
       "      <th>COST12</th>\n",
       "      <th>COST08</th>\n",
       "      <th>COSTMED</th>\n",
       "    </tr>\n",
       "  </thead>\n",
       "  <tbody>\n",
       "    <tr>\n",
       "      <th>count</th>\n",
       "      <td>32825.000000</td>\n",
       "      <td>32825.000000</td>\n",
       "      <td>32825.000000</td>\n",
       "      <td>32825.000000</td>\n",
       "      <td>32825.000000</td>\n",
       "      <td>32825.000000</td>\n",
       "      <td>3.282500e+04</td>\n",
       "      <td>32825.0</td>\n",
       "      <td>32825.000000</td>\n",
       "      <td>32825.000000</td>\n",
       "      <td>3.282500e+04</td>\n",
       "      <td>32825.000000</td>\n",
       "      <td>32825.000000</td>\n",
       "      <td>32825.000000</td>\n",
       "      <td>32825.000000</td>\n",
       "      <td>32825.000000</td>\n",
       "      <td>32825.000000</td>\n",
       "      <td>32825.000000</td>\n",
       "    </tr>\n",
       "    <tr>\n",
       "      <th>mean</th>\n",
       "      <td>53.624158</td>\n",
       "      <td>68158.426078</td>\n",
       "      <td>1277.328835</td>\n",
       "      <td>17184.712628</td>\n",
       "      <td>3.251942</td>\n",
       "      <td>1967.431104</td>\n",
       "      <td>2.573874e+05</td>\n",
       "      <td>1.0</td>\n",
       "      <td>6.730967</td>\n",
       "      <td>2.365362</td>\n",
       "      <td>8.488523e+04</td>\n",
       "      <td>1311.889992</td>\n",
       "      <td>245.215319</td>\n",
       "      <td>95.374486</td>\n",
       "      <td>2051.174528</td>\n",
       "      <td>3045.090902</td>\n",
       "      <td>2362.079521</td>\n",
       "      <td>1836.053536</td>\n",
       "    </tr>\n",
       "    <tr>\n",
       "      <th>std</th>\n",
       "      <td>19.027382</td>\n",
       "      <td>12502.711452</td>\n",
       "      <td>396.375112</td>\n",
       "      <td>6657.658062</td>\n",
       "      <td>0.848657</td>\n",
       "      <td>26.742731</td>\n",
       "      <td>2.826902e+05</td>\n",
       "      <td>0.0</td>\n",
       "      <td>1.649389</td>\n",
       "      <td>2.070924</td>\n",
       "      <td>8.565889e+04</td>\n",
       "      <td>1087.194787</td>\n",
       "      <td>123.231149</td>\n",
       "      <td>104.399267</td>\n",
       "      <td>1961.990997</td>\n",
       "      <td>3051.403698</td>\n",
       "      <td>2302.542808</td>\n",
       "      <td>1726.568892</td>\n",
       "    </tr>\n",
       "    <tr>\n",
       "      <th>min</th>\n",
       "      <td>-9.000000</td>\n",
       "      <td>38500.000000</td>\n",
       "      <td>421.000000</td>\n",
       "      <td>-6.000000</td>\n",
       "      <td>0.000000</td>\n",
       "      <td>1919.000000</td>\n",
       "      <td>1.000000e+04</td>\n",
       "      <td>1.0</td>\n",
       "      <td>2.000000</td>\n",
       "      <td>-6.000000</td>\n",
       "      <td>-1.170000e+02</td>\n",
       "      <td>-6.000000</td>\n",
       "      <td>0.000000</td>\n",
       "      <td>0.000000</td>\n",
       "      <td>66.459547</td>\n",
       "      <td>105.075134</td>\n",
       "      <td>78.538812</td>\n",
       "      <td>58.101678</td>\n",
       "    </tr>\n",
       "    <tr>\n",
       "      <th>25%</th>\n",
       "      <td>43.000000</td>\n",
       "      <td>60060.000000</td>\n",
       "      <td>1004.000000</td>\n",
       "      <td>13948.000000</td>\n",
       "      <td>3.000000</td>\n",
       "      <td>1950.000000</td>\n",
       "      <td>1.100000e+05</td>\n",
       "      <td>1.0</td>\n",
       "      <td>6.000000</td>\n",
       "      <td>2.000000</td>\n",
       "      <td>3.000000e+04</td>\n",
       "      <td>550.000000</td>\n",
       "      <td>165.000000</td>\n",
       "      <td>41.666667</td>\n",
       "      <td>1011.974114</td>\n",
       "      <td>1428.901605</td>\n",
       "      <td>1141.132406</td>\n",
       "      <td>919.600112</td>\n",
       "    </tr>\n",
       "    <tr>\n",
       "      <th>50%</th>\n",
       "      <td>55.000000</td>\n",
       "      <td>64810.000000</td>\n",
       "      <td>1204.000000</td>\n",
       "      <td>15470.000000</td>\n",
       "      <td>3.000000</td>\n",
       "      <td>1970.000000</td>\n",
       "      <td>1.800000e+05</td>\n",
       "      <td>1.0</td>\n",
       "      <td>7.000000</td>\n",
       "      <td>2.000000</td>\n",
       "      <td>6.397400e+04</td>\n",
       "      <td>1057.000000</td>\n",
       "      <td>222.666667</td>\n",
       "      <td>70.000000</td>\n",
       "      <td>1546.190945</td>\n",
       "      <td>2263.760874</td>\n",
       "      <td>1770.776233</td>\n",
       "      <td>1391.950224</td>\n",
       "    </tr>\n",
       "    <tr>\n",
       "      <th>75%</th>\n",
       "      <td>66.000000</td>\n",
       "      <td>74008.000000</td>\n",
       "      <td>1445.000000</td>\n",
       "      <td>23401.000000</td>\n",
       "      <td>4.000000</td>\n",
       "      <td>1990.000000</td>\n",
       "      <td>3.000000e+05</td>\n",
       "      <td>1.0</td>\n",
       "      <td>8.000000</td>\n",
       "      <td>4.000000</td>\n",
       "      <td>1.092000e+05</td>\n",
       "      <td>1740.000000</td>\n",
       "      <td>299.000000</td>\n",
       "      <td>108.333333</td>\n",
       "      <td>2441.455512</td>\n",
       "      <td>3624.254012</td>\n",
       "      <td>2814.497683</td>\n",
       "      <td>2187.058726</td>\n",
       "    </tr>\n",
       "    <tr>\n",
       "      <th>max</th>\n",
       "      <td>93.000000</td>\n",
       "      <td>115300.000000</td>\n",
       "      <td>3511.000000</td>\n",
       "      <td>51635.000000</td>\n",
       "      <td>7.000000</td>\n",
       "      <td>2013.000000</td>\n",
       "      <td>2.520000e+06</td>\n",
       "      <td>1.0</td>\n",
       "      <td>15.000000</td>\n",
       "      <td>20.000000</td>\n",
       "      <td>1.061921e+06</td>\n",
       "      <td>10667.000000</td>\n",
       "      <td>1249.000000</td>\n",
       "      <td>2020.916667</td>\n",
       "      <td>19261.472577</td>\n",
       "      <td>28992.600365</td>\n",
       "      <td>22305.447202</td>\n",
       "      <td>17155.289494</td>\n",
       "    </tr>\n",
       "  </tbody>\n",
       "</table>\n",
       "</div>"
      ],
      "text/plain": [
       "               AGE1           LMED           FMR          IPOV        BEDRMS  \\\n",
       "count  32825.000000   32825.000000  32825.000000  32825.000000  32825.000000   \n",
       "mean      53.624158   68158.426078   1277.328835  17184.712628      3.251942   \n",
       "std       19.027382   12502.711452    396.375112   6657.658062      0.848657   \n",
       "min       -9.000000   38500.000000    421.000000     -6.000000      0.000000   \n",
       "25%       43.000000   60060.000000   1004.000000  13948.000000      3.000000   \n",
       "50%       55.000000   64810.000000   1204.000000  15470.000000      3.000000   \n",
       "75%       66.000000   74008.000000   1445.000000  23401.000000      4.000000   \n",
       "max       93.000000  115300.000000   3511.000000  51635.000000      7.000000   \n",
       "\n",
       "              BUILT         VALUE   NUNITS         ROOMS           PER  \\\n",
       "count  32825.000000  3.282500e+04  32825.0  32825.000000  32825.000000   \n",
       "mean    1967.431104  2.573874e+05      1.0      6.730967      2.365362   \n",
       "std       26.742731  2.826902e+05      0.0      1.649389      2.070924   \n",
       "min     1919.000000  1.000000e+04      1.0      2.000000     -6.000000   \n",
       "25%     1950.000000  1.100000e+05      1.0      6.000000      2.000000   \n",
       "50%     1970.000000  1.800000e+05      1.0      7.000000      2.000000   \n",
       "75%     1990.000000  3.000000e+05      1.0      8.000000      4.000000   \n",
       "max     2013.000000  2.520000e+06      1.0     15.000000     20.000000   \n",
       "\n",
       "              ZINC2         ZSMHC       UTILITY     OTHERCOST        COST06  \\\n",
       "count  3.282500e+04  32825.000000  32825.000000  32825.000000  32825.000000   \n",
       "mean   8.488523e+04   1311.889992    245.215319     95.374486   2051.174528   \n",
       "std    8.565889e+04   1087.194787    123.231149    104.399267   1961.990997   \n",
       "min   -1.170000e+02     -6.000000      0.000000      0.000000     66.459547   \n",
       "25%    3.000000e+04    550.000000    165.000000     41.666667   1011.974114   \n",
       "50%    6.397400e+04   1057.000000    222.666667     70.000000   1546.190945   \n",
       "75%    1.092000e+05   1740.000000    299.000000    108.333333   2441.455512   \n",
       "max    1.061921e+06  10667.000000   1249.000000   2020.916667  19261.472577   \n",
       "\n",
       "             COST12        COST08       COSTMED  \n",
       "count  32825.000000  32825.000000  32825.000000  \n",
       "mean    3045.090902   2362.079521   1836.053536  \n",
       "std     3051.403698   2302.542808   1726.568892  \n",
       "min      105.075134     78.538812     58.101678  \n",
       "25%     1428.901605   1141.132406    919.600112  \n",
       "50%     2263.760874   1770.776233   1391.950224  \n",
       "75%     3624.254012   2814.497683   2187.058726  \n",
       "max    28992.600365  22305.447202  17155.289494  "
      ]
     },
     "execution_count": 51,
     "metadata": {},
     "output_type": "execute_result"
    }
   ],
   "source": [
    "owned_single_family_housing_df.describe()"
   ]
  },
  {
   "cell_type": "code",
   "execution_count": 52,
   "id": "2b376616",
   "metadata": {},
   "outputs": [
    {
     "name": "stdout",
     "output_type": "stream",
     "text": [
      "['AGE1', 'IPOV', 'BEDRMS', 'NUNITS', 'PER', 'ZINC2', 'ZSMHC', 'UTILITY', 'OTHERCOST']\n"
     ]
    }
   ],
   "source": [
    "# Numeric fields that each have values less than 0\n",
    "x = list(owned_single_family_housing_df\n",
    "                 .describe()\n",
    "                 .min()[owned_single_family_housing_df.describe().min() <= 0]\n",
    "                 .index)\n",
    "print(x)"
   ]
  },
  {
   "cell_type": "code",
   "execution_count": 53,
   "id": "112edf8c",
   "metadata": {},
   "outputs": [],
   "source": [
    "owned_single_family_housing_df = owned_single_family_housing_df[\n",
    "    (owned_single_family_housing_df[x] > 0).all(axis=1)]\n",
    "minimums = pd.DataFrame(owned_single_family_housing_df.describe().min())\n",
    "min_field_vals = minimums.rename(columns={0: \"Minimum\"}).reset_index().rename(\n",
    "    columns={\"index\": \"Field\"}).sort_values(by = \"Minimum\")\n",
    "min_field_vals.reset_index(inplace=True, drop=True)"
   ]
  },
  {
   "cell_type": "markdown",
   "id": "175edfab",
   "metadata": {},
   "source": [
    "Now, all the numeric fields have positive values that are 0 or more as shown in the above summary statistics table. All of the numeric fields have a minimum value that is 0 or more."
   ]
  },
  {
   "cell_type": "code",
   "execution_count": 54,
   "id": "1a2494e4",
   "metadata": {},
   "outputs": [
    {
     "data": {
      "text/plain": [
       "(30174, 24)"
      ]
     },
     "execution_count": 54,
     "metadata": {},
     "output_type": "execute_result"
    }
   ],
   "source": [
    "owned_single_family_housing_df.shape"
   ]
  },
  {
   "cell_type": "markdown",
   "id": "e1ae73ab",
   "metadata": {},
   "source": [
    "### Exploratory Data Analysis"
   ]
  },
  {
   "cell_type": "code",
   "execution_count": 55,
   "id": "2c017aeb",
   "metadata": {},
   "outputs": [
    {
     "data": {
      "text/html": [
       "<div>\n",
       "<style scoped>\n",
       "    .dataframe tbody tr th:only-of-type {\n",
       "        vertical-align: middle;\n",
       "    }\n",
       "\n",
       "    .dataframe tbody tr th {\n",
       "        vertical-align: top;\n",
       "    }\n",
       "\n",
       "    .dataframe thead th {\n",
       "        text-align: right;\n",
       "    }\n",
       "</style>\n",
       "<table border=\"1\" class=\"dataframe\">\n",
       "  <thead>\n",
       "    <tr style=\"text-align: right;\">\n",
       "      <th></th>\n",
       "      <th>Statistics</th>\n",
       "      <th>Value</th>\n",
       "    </tr>\n",
       "  </thead>\n",
       "  <tbody>\n",
       "    <tr>\n",
       "      <th>0</th>\n",
       "      <td>count</td>\n",
       "      <td>30174.00</td>\n",
       "    </tr>\n",
       "    <tr>\n",
       "      <th>1</th>\n",
       "      <td>mean</td>\n",
       "      <td>262685.76</td>\n",
       "    </tr>\n",
       "    <tr>\n",
       "      <th>2</th>\n",
       "      <td>std</td>\n",
       "      <td>281724.78</td>\n",
       "    </tr>\n",
       "    <tr>\n",
       "      <th>3</th>\n",
       "      <td>min</td>\n",
       "      <td>10000.00</td>\n",
       "    </tr>\n",
       "    <tr>\n",
       "      <th>4</th>\n",
       "      <td>25%</td>\n",
       "      <td>120000.00</td>\n",
       "    </tr>\n",
       "    <tr>\n",
       "      <th>5</th>\n",
       "      <td>50%</td>\n",
       "      <td>190000.00</td>\n",
       "    </tr>\n",
       "    <tr>\n",
       "      <th>6</th>\n",
       "      <td>75%</td>\n",
       "      <td>310000.00</td>\n",
       "    </tr>\n",
       "    <tr>\n",
       "      <th>7</th>\n",
       "      <td>max</td>\n",
       "      <td>2520000.00</td>\n",
       "    </tr>\n",
       "  </tbody>\n",
       "</table>\n",
       "</div>"
      ],
      "text/plain": [
       "  Statistics       Value\n",
       "0      count    30174.00\n",
       "1       mean   262685.76\n",
       "2        std   281724.78\n",
       "3        min    10000.00\n",
       "4        25%   120000.00\n",
       "5        50%   190000.00\n",
       "6        75%   310000.00\n",
       "7        max  2520000.00"
      ]
     },
     "execution_count": 55,
     "metadata": {},
     "output_type": "execute_result"
    }
   ],
   "source": [
    "# Descriptive statistics for the outcome variable \"VALUE\"\n",
    "value_descriptive_statistics = pd.DataFrame(owned_single_family_housing_df[\"VALUE\"].describe().round(2)).reset_index()\n",
    "value_descriptive_statistics.rename(columns={\"index\": \"Statistics\", \"VALUE\": \"Value\"})"
   ]
  },
  {
   "cell_type": "code",
   "execution_count": 56,
   "id": "47dafd80",
   "metadata": {},
   "outputs": [],
   "source": [
    "value_descriptive_statistics.to_csv(\"value.csv\")"
   ]
  },
  {
   "cell_type": "code",
   "execution_count": 57,
   "id": "520fc54c",
   "metadata": {},
   "outputs": [
    {
     "data": {
      "text/html": [
       "<div>\n",
       "<style scoped>\n",
       "    .dataframe tbody tr th:only-of-type {\n",
       "        vertical-align: middle;\n",
       "    }\n",
       "\n",
       "    .dataframe tbody tr th {\n",
       "        vertical-align: top;\n",
       "    }\n",
       "\n",
       "    .dataframe thead th {\n",
       "        text-align: right;\n",
       "    }\n",
       "</style>\n",
       "<table border=\"1\" class=\"dataframe\">\n",
       "  <thead>\n",
       "    <tr style=\"text-align: right;\">\n",
       "      <th></th>\n",
       "      <th>CONTROL</th>\n",
       "      <th>METRO3</th>\n",
       "      <th>REGION</th>\n",
       "      <th>STATUS</th>\n",
       "      <th>ZADEQ</th>\n",
       "      <th>ASSISTED</th>\n",
       "    </tr>\n",
       "  </thead>\n",
       "  <tbody>\n",
       "    <tr>\n",
       "      <th>count</th>\n",
       "      <td>30174</td>\n",
       "      <td>30174</td>\n",
       "      <td>30174</td>\n",
       "      <td>30174</td>\n",
       "      <td>30174</td>\n",
       "      <td>30174</td>\n",
       "    </tr>\n",
       "    <tr>\n",
       "      <th>unique</th>\n",
       "      <td>30174</td>\n",
       "      <td>2</td>\n",
       "      <td>4</td>\n",
       "      <td>1</td>\n",
       "      <td>3</td>\n",
       "      <td>1</td>\n",
       "    </tr>\n",
       "    <tr>\n",
       "      <th>top</th>\n",
       "      <td>'100003130103'</td>\n",
       "      <td>Other</td>\n",
       "      <td>Midwest</td>\n",
       "      <td>occupied</td>\n",
       "      <td>Adequate</td>\n",
       "      <td>Not_known</td>\n",
       "    </tr>\n",
       "    <tr>\n",
       "      <th>freq</th>\n",
       "      <td>1</td>\n",
       "      <td>23750</td>\n",
       "      <td>9015</td>\n",
       "      <td>30174</td>\n",
       "      <td>29478</td>\n",
       "      <td>30174</td>\n",
       "    </tr>\n",
       "  </tbody>\n",
       "</table>\n",
       "</div>"
      ],
      "text/plain": [
       "               CONTROL METRO3   REGION    STATUS     ZADEQ   ASSISTED\n",
       "count            30174  30174    30174     30174     30174      30174\n",
       "unique           30174      2        4         1         3          1\n",
       "top     '100003130103'  Other  Midwest  occupied  Adequate  Not_known\n",
       "freq                 1  23750     9015     30174     29478      30174"
      ]
     },
     "execution_count": 57,
     "metadata": {},
     "output_type": "execute_result"
    }
   ],
   "source": [
    "# Summary statistics for categorical variables\n",
    "owned_single_family_housing_df.describe(include='object')"
   ]
  },
  {
   "cell_type": "markdown",
   "id": "a64dcfbf",
   "metadata": {},
   "source": [
    "From the table above, all of the remaining 30,174 housing units are occupied. Therefore, the variable `STATTUS` will not be included in the regression model, because it will not add any information to the final model. In addition, since about 98% (29,478 out of 30,174) of the housing units have adequate space in the response of the Variable `ZADEQ`, it will not be included in the linear regression model. Therefore the variables `STATUS` AND `ZADEQ` will be dropped from the above dataframe.  "
   ]
  },
  {
   "cell_type": "code",
   "execution_count": 58,
   "id": "f00ad430",
   "metadata": {},
   "outputs": [
    {
     "data": {
      "image/png": "[encoded data removed]",
      "text/plain": [
       "<Figure size 700x300 with 1 Axes>"
      ]
     },
     "metadata": {},
     "output_type": "display_data"
    }
   ],
   "source": [
    "plt.figure(figsize=(7,3))\n",
    "sns.boxplot(owned_single_family_housing_df, x='REGION', y='VALUE')\n",
    "plt.ylabel(\"Current Market Value ($)\")\n",
    "plt.xlabel(\"Region\")\n",
    "plt.title(\"Distribution of Current Market Value Grouped by Region\");"
   ]
  },
  {
   "cell_type": "code",
   "execution_count": 59,
   "id": "3b254386",
   "metadata": {},
   "outputs": [
    {
     "data": {
      "text/html": [
       "<div>\n",
       "<style scoped>\n",
       "    .dataframe tbody tr th:only-of-type {\n",
       "        vertical-align: middle;\n",
       "    }\n",
       "\n",
       "    .dataframe tbody tr th {\n",
       "        vertical-align: top;\n",
       "    }\n",
       "\n",
       "    .dataframe thead th {\n",
       "        text-align: right;\n",
       "    }\n",
       "</style>\n",
       "<table border=\"1\" class=\"dataframe\">\n",
       "  <thead>\n",
       "    <tr style=\"text-align: right;\">\n",
       "      <th></th>\n",
       "      <th>REGION</th>\n",
       "      <th>VALUE</th>\n",
       "    </tr>\n",
       "  </thead>\n",
       "  <tbody>\n",
       "    <tr>\n",
       "      <th>0</th>\n",
       "      <td>Midwest</td>\n",
       "      <td>186871.0</td>\n",
       "    </tr>\n",
       "    <tr>\n",
       "      <th>1</th>\n",
       "      <td>South</td>\n",
       "      <td>216831.0</td>\n",
       "    </tr>\n",
       "    <tr>\n",
       "      <th>2</th>\n",
       "      <td>Northeast</td>\n",
       "      <td>328229.0</td>\n",
       "    </tr>\n",
       "    <tr>\n",
       "      <th>3</th>\n",
       "      <td>West</td>\n",
       "      <td>387586.0</td>\n",
       "    </tr>\n",
       "  </tbody>\n",
       "</table>\n",
       "</div>"
      ],
      "text/plain": [
       "      REGION     VALUE\n",
       "0    Midwest  186871.0\n",
       "1      South  216831.0\n",
       "2  Northeast  328229.0\n",
       "3       West  387586.0"
      ]
     },
     "execution_count": 59,
     "metadata": {},
     "output_type": "execute_result"
    }
   ],
   "source": [
    "# Average current market value in each region \n",
    "pd.DataFrame(owned_single_family_housing_df.groupby(\"REGION\")[\"VALUE\"].\n",
    "             mean().round()).sort_values(by=\"VALUE\").reset_index()"
   ]
  },
  {
   "cell_type": "markdown",
   "id": "4399ea4f",
   "metadata": {},
   "source": [
    "All 4 regions have the same maximum market value of \\\\$2.52 million, and the same minimum of \\\\$10,000. However, the average market value ranges between \\\\$186,871 in the Midwest and \\\\$387,586 in the West. On average, housing units in the Midwest and South are much cheaper than those in the Northeast and the West. "
   ]
  },
  {
   "cell_type": "code",
   "execution_count": 60,
   "id": "ea3f4bde",
   "metadata": {},
   "outputs": [],
   "source": [
    "# Use pivot table to count the number of housing units each year and estimate their market values\n",
    "tbl = pd.pivot_table(owned_single_family_housing_df, values=[\"VALUE\"],\n",
    "            index=['BUILT'], aggfunc={\"mean\", \"count\"}).reset_index().round()\n",
    "# Extract the mean and count from the above tbl datafram\n",
    "units_stats = tbl[\"VALUE\"]\n",
    "# Rename columns\n",
    "units_stats.rename(columns={\"mean\": \"yearly_avg_value\", \"count\": \"number_of_units\"}, inplace=True)"
   ]
  },
  {
   "cell_type": "code",
   "execution_count": 61,
   "id": "ca8e8c61",
   "metadata": {},
   "outputs": [
    {
     "data": {
      "text/html": [
       "<div>\n",
       "<style scoped>\n",
       "    .dataframe tbody tr th:only-of-type {\n",
       "        vertical-align: middle;\n",
       "    }\n",
       "\n",
       "    .dataframe tbody tr th {\n",
       "        vertical-align: top;\n",
       "    }\n",
       "\n",
       "    .dataframe thead th {\n",
       "        text-align: right;\n",
       "    }\n",
       "</style>\n",
       "<table border=\"1\" class=\"dataframe\">\n",
       "  <thead>\n",
       "    <tr style=\"text-align: right;\">\n",
       "      <th></th>\n",
       "      <th>year</th>\n",
       "      <th>number_of_units</th>\n",
       "      <th>yearly_avg_value</th>\n",
       "    </tr>\n",
       "  </thead>\n",
       "  <tbody>\n",
       "    <tr>\n",
       "      <th>0</th>\n",
       "      <td>2013</td>\n",
       "      <td>13</td>\n",
       "      <td>608462.0</td>\n",
       "    </tr>\n",
       "    <tr>\n",
       "      <th>1</th>\n",
       "      <td>2011</td>\n",
       "      <td>128</td>\n",
       "      <td>362969.0</td>\n",
       "    </tr>\n",
       "    <tr>\n",
       "      <th>2</th>\n",
       "      <td>2012</td>\n",
       "      <td>144</td>\n",
       "      <td>355764.0</td>\n",
       "    </tr>\n",
       "    <tr>\n",
       "      <th>3</th>\n",
       "      <td>2010</td>\n",
       "      <td>169</td>\n",
       "      <td>303018.0</td>\n",
       "    </tr>\n",
       "    <tr>\n",
       "      <th>4</th>\n",
       "      <td>2009</td>\n",
       "      <td>200</td>\n",
       "      <td>297150.0</td>\n",
       "    </tr>\n",
       "    <tr>\n",
       "      <th>5</th>\n",
       "      <td>2008</td>\n",
       "      <td>292</td>\n",
       "      <td>356370.0</td>\n",
       "    </tr>\n",
       "    <tr>\n",
       "      <th>6</th>\n",
       "      <td>2002</td>\n",
       "      <td>376</td>\n",
       "      <td>302234.0</td>\n",
       "    </tr>\n",
       "    <tr>\n",
       "      <th>7</th>\n",
       "      <td>2000</td>\n",
       "      <td>430</td>\n",
       "      <td>299395.0</td>\n",
       "    </tr>\n",
       "    <tr>\n",
       "      <th>8</th>\n",
       "      <td>2007</td>\n",
       "      <td>431</td>\n",
       "      <td>300650.0</td>\n",
       "    </tr>\n",
       "    <tr>\n",
       "      <th>9</th>\n",
       "      <td>2001</td>\n",
       "      <td>443</td>\n",
       "      <td>318623.0</td>\n",
       "    </tr>\n",
       "    <tr>\n",
       "      <th>10</th>\n",
       "      <td>2003</td>\n",
       "      <td>449</td>\n",
       "      <td>304321.0</td>\n",
       "    </tr>\n",
       "    <tr>\n",
       "      <th>11</th>\n",
       "      <td>2004</td>\n",
       "      <td>479</td>\n",
       "      <td>274551.0</td>\n",
       "    </tr>\n",
       "    <tr>\n",
       "      <th>12</th>\n",
       "      <td>2006</td>\n",
       "      <td>483</td>\n",
       "      <td>308489.0</td>\n",
       "    </tr>\n",
       "    <tr>\n",
       "      <th>13</th>\n",
       "      <td>2005</td>\n",
       "      <td>491</td>\n",
       "      <td>287515.0</td>\n",
       "    </tr>\n",
       "    <tr>\n",
       "      <th>14</th>\n",
       "      <td>1920</td>\n",
       "      <td>1121</td>\n",
       "      <td>263390.0</td>\n",
       "    </tr>\n",
       "    <tr>\n",
       "      <th>15</th>\n",
       "      <td>1930</td>\n",
       "      <td>1181</td>\n",
       "      <td>261431.0</td>\n",
       "    </tr>\n",
       "    <tr>\n",
       "      <th>16</th>\n",
       "      <td>1990</td>\n",
       "      <td>1252</td>\n",
       "      <td>307388.0</td>\n",
       "    </tr>\n",
       "    <tr>\n",
       "      <th>17</th>\n",
       "      <td>1980</td>\n",
       "      <td>1393</td>\n",
       "      <td>249311.0</td>\n",
       "    </tr>\n",
       "    <tr>\n",
       "      <th>18</th>\n",
       "      <td>1940</td>\n",
       "      <td>1783</td>\n",
       "      <td>231032.0</td>\n",
       "    </tr>\n",
       "    <tr>\n",
       "      <th>19</th>\n",
       "      <td>1919</td>\n",
       "      <td>1796</td>\n",
       "      <td>253207.0</td>\n",
       "    </tr>\n",
       "    <tr>\n",
       "      <th>20</th>\n",
       "      <td>1985</td>\n",
       "      <td>1846</td>\n",
       "      <td>298754.0</td>\n",
       "    </tr>\n",
       "    <tr>\n",
       "      <th>21</th>\n",
       "      <td>1970</td>\n",
       "      <td>2072</td>\n",
       "      <td>245594.0</td>\n",
       "    </tr>\n",
       "    <tr>\n",
       "      <th>22</th>\n",
       "      <td>1975</td>\n",
       "      <td>2657</td>\n",
       "      <td>244212.0</td>\n",
       "    </tr>\n",
       "    <tr>\n",
       "      <th>23</th>\n",
       "      <td>1995</td>\n",
       "      <td>2861</td>\n",
       "      <td>277407.0</td>\n",
       "    </tr>\n",
       "    <tr>\n",
       "      <th>24</th>\n",
       "      <td>1960</td>\n",
       "      <td>3627</td>\n",
       "      <td>242677.0</td>\n",
       "    </tr>\n",
       "    <tr>\n",
       "      <th>25</th>\n",
       "      <td>1950</td>\n",
       "      <td>4057</td>\n",
       "      <td>233823.0</td>\n",
       "    </tr>\n",
       "  </tbody>\n",
       "</table>\n",
       "</div>"
      ],
      "text/plain": [
       "    year  number_of_units  yearly_avg_value\n",
       "0   2013               13          608462.0\n",
       "1   2011              128          362969.0\n",
       "2   2012              144          355764.0\n",
       "3   2010              169          303018.0\n",
       "4   2009              200          297150.0\n",
       "5   2008              292          356370.0\n",
       "6   2002              376          302234.0\n",
       "7   2000              430          299395.0\n",
       "8   2007              431          300650.0\n",
       "9   2001              443          318623.0\n",
       "10  2003              449          304321.0\n",
       "11  2004              479          274551.0\n",
       "12  2006              483          308489.0\n",
       "13  2005              491          287515.0\n",
       "14  1920             1121          263390.0\n",
       "15  1930             1181          261431.0\n",
       "16  1990             1252          307388.0\n",
       "17  1980             1393          249311.0\n",
       "18  1940             1783          231032.0\n",
       "19  1919             1796          253207.0\n",
       "20  1985             1846          298754.0\n",
       "21  1970             2072          245594.0\n",
       "22  1975             2657          244212.0\n",
       "23  1995             2861          277407.0\n",
       "24  1960             3627          242677.0\n",
       "25  1950             4057          233823.0"
      ]
     },
     "execution_count": 61,
     "metadata": {},
     "output_type": "execute_result"
    }
   ],
   "source": [
    "# Concatenate the year to the mean of market values and the count of housing unitrs\n",
    "units_df = pd.concat([pd.DataFrame(tbl[\"BUILT\"]), units_stats], axis=1)\n",
    "units_df.rename(columns={\"mean\": \"yearly_avg_value\", \n",
    "                            \"count\": \"number_of_units\", \n",
    "                            \"BUILT\": \"year\"}, inplace=True)\n",
    "units_df.sort_values(by=\"number_of_units\").reset_index(drop=True)"
   ]
  },
  {
   "cell_type": "code",
   "execution_count": 62,
   "id": "f83a638c",
   "metadata": {},
   "outputs": [],
   "source": [
    "units_df.to_csv(\"year.csv\")"
   ]
  },
  {
   "cell_type": "markdown",
   "id": "7b1b5a81",
   "metadata": {},
   "source": [
    "From the table above, the yearly average market value barely increases for housing units built between 1940 (\\\\$231,032) and 1980 (\\\\$249,311). This accounts for a change of only about an 8% increase in market value for housing units built between 1940 and 1980. For those built between 1919 and 1930, the yearly average market values do not seem to change significantly (~3% increase in market values between 1919 and 1930). Housing units built in 1940 have the lowest average market value of about \\\\$231,032. The most expensive are housing units built in 2013."
   ]
  },
  {
   "cell_type": "markdown",
   "id": "0d137700",
   "metadata": {},
   "source": [
    "Since there are only 13 housing units built in 2013, and the average market value is almost double the average market value in 2011, housing units built in 2013 will be excluded because the number of units is very low in 2013, and may bias the results!"
   ]
  },
  {
   "cell_type": "code",
   "execution_count": 63,
   "id": "6bd1c790",
   "metadata": {},
   "outputs": [],
   "source": [
    "units_df = units_df[units_df[\"year\"] != 2013]"
   ]
  },
  {
   "cell_type": "code",
   "execution_count": 64,
   "id": "27fd52d2",
   "metadata": {},
   "outputs": [
    {
     "data": {
      "image/png": "[encoded data removed]",
      "text/plain": [
       "<Figure size 1200x500 with 1 Axes>"
      ]
     },
     "metadata": {},
     "output_type": "display_data"
    }
   ],
   "source": [
    "plt.figure(figsize=(12,5))\n",
    "sns.barplot(units_df, x='year', y='yearly_avg_value')\n",
    "plt.title(\"Average Current Market Values of Units Grouped by Year the Units were built\")\n",
    "plt.ylabel(\"Avearge Current Market Value of Units\");"
   ]
  },
  {
   "cell_type": "markdown",
   "id": "baa621e7",
   "metadata": {},
   "source": [
    "Current average market values for housing units range between \\\\$231,032 for those built in 1940 and \\\\$362,969 built-in 2011, an increase of about 57% in market value in housing units built in 1940. The yearly average market values for housing units built during the global financial crisis (2007 - 2009) fluctuate significantly. For housing units built in 2008, the average market values sit at about \\\\$356,370. However, for housing units built in 2009, the average market values drop significantly to \\\\$297,150, i.e. a drop of about 17%. From the above barplot, the average market value is approximately uniformly distributed throughout the years from 1919 to 2012. The average market value per housing unit is estimated to be about \\\\$262,686. The Variable `BUILT` will not be included in the linear regression model. No time series analysis will be discussed in this report!  "
   ]
  },
  {
   "cell_type": "code",
   "execution_count": 65,
   "id": "403d9cfc",
   "metadata": {},
   "outputs": [
    {
     "data": {
      "text/html": [
       "<div>\n",
       "<style scoped>\n",
       "    .dataframe tbody tr th:only-of-type {\n",
       "        vertical-align: middle;\n",
       "    }\n",
       "\n",
       "    .dataframe tbody tr th {\n",
       "        vertical-align: top;\n",
       "    }\n",
       "\n",
       "    .dataframe thead th {\n",
       "        text-align: right;\n",
       "    }\n",
       "</style>\n",
       "<table border=\"1\" class=\"dataframe\">\n",
       "  <thead>\n",
       "    <tr style=\"text-align: right;\">\n",
       "      <th></th>\n",
       "      <th>Midwest</th>\n",
       "      <th>Northeast</th>\n",
       "      <th>South</th>\n",
       "      <th>West</th>\n",
       "      <th>Other</th>\n",
       "      <th>central_city</th>\n",
       "      <th>Adequate</th>\n",
       "      <th>Moderately_inadequate</th>\n",
       "      <th>Severely_inadequate</th>\n",
       "    </tr>\n",
       "  </thead>\n",
       "  <tbody>\n",
       "    <tr>\n",
       "      <th>0</th>\n",
       "      <td>0</td>\n",
       "      <td>1</td>\n",
       "      <td>0</td>\n",
       "      <td>0</td>\n",
       "      <td>1</td>\n",
       "      <td>0</td>\n",
       "      <td>1</td>\n",
       "      <td>0</td>\n",
       "      <td>0</td>\n",
       "    </tr>\n",
       "    <tr>\n",
       "      <th>1</th>\n",
       "      <td>0</td>\n",
       "      <td>0</td>\n",
       "      <td>1</td>\n",
       "      <td>0</td>\n",
       "      <td>1</td>\n",
       "      <td>0</td>\n",
       "      <td>1</td>\n",
       "      <td>0</td>\n",
       "      <td>0</td>\n",
       "    </tr>\n",
       "    <tr>\n",
       "      <th>2</th>\n",
       "      <td>0</td>\n",
       "      <td>0</td>\n",
       "      <td>1</td>\n",
       "      <td>0</td>\n",
       "      <td>1</td>\n",
       "      <td>0</td>\n",
       "      <td>1</td>\n",
       "      <td>0</td>\n",
       "      <td>0</td>\n",
       "    </tr>\n",
       "    <tr>\n",
       "      <th>3</th>\n",
       "      <td>0</td>\n",
       "      <td>0</td>\n",
       "      <td>1</td>\n",
       "      <td>0</td>\n",
       "      <td>1</td>\n",
       "      <td>0</td>\n",
       "      <td>1</td>\n",
       "      <td>0</td>\n",
       "      <td>0</td>\n",
       "    </tr>\n",
       "    <tr>\n",
       "      <th>4</th>\n",
       "      <td>0</td>\n",
       "      <td>0</td>\n",
       "      <td>1</td>\n",
       "      <td>0</td>\n",
       "      <td>0</td>\n",
       "      <td>1</td>\n",
       "      <td>1</td>\n",
       "      <td>0</td>\n",
       "      <td>0</td>\n",
       "    </tr>\n",
       "  </tbody>\n",
       "</table>\n",
       "</div>"
      ],
      "text/plain": [
       "   Midwest  Northeast  South  West  Other  central_city  Adequate  \\\n",
       "0        0          1      0     0      1             0         1   \n",
       "1        0          0      1     0      1             0         1   \n",
       "2        0          0      1     0      1             0         1   \n",
       "3        0          0      1     0      1             0         1   \n",
       "4        0          0      1     0      0             1         1   \n",
       "\n",
       "   Moderately_inadequate  Severely_inadequate  \n",
       "0                      0                    0  \n",
       "1                      0                    0  \n",
       "2                      0                    0  \n",
       "3                      0                    0  \n",
       "4                      0                    0  "
      ]
     },
     "execution_count": 65,
     "metadata": {},
     "output_type": "execute_result"
    }
   ],
   "source": [
    "# Create the dummy variables for the categorical variables\n",
    "region_d = pd.get_dummies(owned_single_family_housing_df['REGION'], dtype=int)\n",
    "metro_d = pd.get_dummies(owned_single_family_housing_df['METRO3'], dtype=int)\n",
    "adequacy_d = pd.get_dummies(owned_single_family_housing_df['ZADEQ'], dtype=int)\n",
    "# Concatenate all the dummy variables into one dataframe\n",
    "d_df = pd.concat([region_d, metro_d, adequacy_d], axis=1)\n",
    "d_df.head()"
   ]
  },
  {
   "cell_type": "code",
   "execution_count": 66,
   "id": "b98ced29",
   "metadata": {},
   "outputs": [
    {
     "data": {
      "image/png": "[encoded data removed]",
      "text/plain": [
       "<Figure size 500x500 with 1 Axes>"
      ]
     },
     "metadata": {},
     "output_type": "display_data"
    }
   ],
   "source": [
    "plt.figure(figsize=(5,5))\n",
    "sns.scatterplot(data = owned_single_family_housing_df, \n",
    "                x = owned_single_family_housing_df.COST06, \n",
    "                y = owned_single_family_housing_df.VALUE)\n",
    "sns.scatterplot(data = owned_single_family_housing_df, \n",
    "                x = owned_single_family_housing_df.COST08, \n",
    "                y = owned_single_family_housing_df.VALUE)\n",
    "sns.scatterplot(data = owned_single_family_housing_df, \n",
    "                x = owned_single_family_housing_df.COST12, \n",
    "                y = owned_single_family_housing_df.VALUE)\n",
    "sns.scatterplot(data = owned_single_family_housing_df, \n",
    "                x = owned_single_family_housing_df.COSTMED, \n",
    "                y = owned_single_family_housing_df.VALUE)\n",
    "#ax.legend(loc='lower ',ncol=4, title=\"Title\")\n",
    "plt.legend(title='Monthly Mortgage Payments', loc='lower right', \n",
    "           labels=['6%', '8%', '12%', 'median rate'])\n",
    "plt.xlabel(\"Monthly Mortgage Payment\")\n",
    "plt.ylabel(\"Housing Market Value\")\n",
    "plt.title(\"Current Market Values of Units vs. Monthly Mortgage Payment\");"
   ]
  },
  {
   "cell_type": "markdown",
   "id": "c729b00d",
   "metadata": {},
   "source": [
    "As expected, from the scatterplot above, the higher the monthly motgage payment, the higher the market values of the housing units. Though this is true, however, for the purpose of our study, monthly mortgage payments will not add any information to predict the current market value (price) of the housing units. Thus, these variables will not be included in the regression model. "
   ]
  },
  {
   "cell_type": "code",
   "execution_count": 67,
   "id": "a68818fd",
   "metadata": {},
   "outputs": [
    {
     "data": {
      "image/png": "[encoded data removed]",
      "text/plain": [
       "<Figure size 600x300 with 1 Axes>"
      ]
     },
     "metadata": {},
     "output_type": "display_data"
    }
   ],
   "source": [
    "plt.figure(figsize=(6,3))\n",
    "sns.scatterplot(data=owned_single_family_housing_df, x=\"BEDRMS\", y=\"ROOMS\")\n",
    "plt.xlabel(\"Number of Bedrooms\")\n",
    "plt.ylabel(\"Number of Rooms\")\n",
    "plt.title(\"Number of Rooms vs. Number of Bedrooms\");"
   ]
  },
  {
   "cell_type": "markdown",
   "id": "ebc2a71e",
   "metadata": {},
   "source": [
    "Number of rooms and number of bedrooms are highly correlated as shown in the above scatterplot, and the high correlation between the 2 variables. The Variable `BEDRMS` will be dropped to avoid multicollinearity issue. "
   ]
  },
  {
   "cell_type": "code",
   "execution_count": 68,
   "id": "36753eb8",
   "metadata": {},
   "outputs": [],
   "source": [
    "# Create a total_cost variable as follows:\n",
    "owned_single_family_housing_df[\"total_cost\"] = owned_single_family_housing_df[\n",
    "    \"UTILITY\"] + owned_single_family_housing_df[\n",
    "    \"OTHERCOST\"] + owned_single_family_housing_df[\"ZSMHC\"]\n",
    "owned_single_family_housing_df[\"ln_value\"] = np.log(owned_single_family_housing_df.VALUE)"
   ]
  },
  {
   "cell_type": "code",
   "execution_count": 69,
   "id": "398f6dec",
   "metadata": {},
   "outputs": [],
   "source": [
    "X = owned_single_family_housing_df.drop(columns=[\"VALUE\", \"ln_value\", \"UTILITY\", \"OTHERCOST\", \"ZSMHC\",\n",
    "            \"UTILITY\", \"ASSISTED\", \"CONTROL\", \"NUNITS\", \"COST06\", \"COST08\", \"COST12\", \"COSTMED\"])\n",
    "X = pd.concat([X, d_df[['Midwest', 'Northeast', 'South', 'central_city', 'Adequate']]], axis=1)"
   ]
  },
  {
   "cell_type": "code",
   "execution_count": 70,
   "id": "260d4d22",
   "metadata": {},
   "outputs": [],
   "source": [
    "# Drop the Variables REGION, ZADEQ, METRO3, STATUS\n",
    "X.drop(columns=[\"REGION\", \"ZADEQ\", \"METRO3\", \"STATUS\"], inplace=True)"
   ]
  },
  {
   "cell_type": "code",
   "execution_count": 71,
   "id": "b4765205",
   "metadata": {},
   "outputs": [
    {
     "data": {
      "text/html": [
       "<div>\n",
       "<style scoped>\n",
       "    .dataframe tbody tr th:only-of-type {\n",
       "        vertical-align: middle;\n",
       "    }\n",
       "\n",
       "    .dataframe tbody tr th {\n",
       "        vertical-align: top;\n",
       "    }\n",
       "\n",
       "    .dataframe thead th {\n",
       "        text-align: right;\n",
       "    }\n",
       "</style>\n",
       "<table border=\"1\" class=\"dataframe\">\n",
       "  <thead>\n",
       "    <tr style=\"text-align: right;\">\n",
       "      <th></th>\n",
       "      <th>AGE1</th>\n",
       "      <th>LMED</th>\n",
       "      <th>FMR</th>\n",
       "      <th>IPOV</th>\n",
       "      <th>BEDRMS</th>\n",
       "      <th>BUILT</th>\n",
       "      <th>ROOMS</th>\n",
       "      <th>PER</th>\n",
       "      <th>ZINC2</th>\n",
       "      <th>total_cost</th>\n",
       "      <th>Midwest</th>\n",
       "      <th>Northeast</th>\n",
       "      <th>South</th>\n",
       "      <th>central_city</th>\n",
       "      <th>Adequate</th>\n",
       "    </tr>\n",
       "  </thead>\n",
       "  <tbody>\n",
       "    <tr>\n",
       "      <th>0</th>\n",
       "      <td>82</td>\n",
       "      <td>73738</td>\n",
       "      <td>956</td>\n",
       "      <td>11067</td>\n",
       "      <td>2</td>\n",
       "      <td>2006</td>\n",
       "      <td>6</td>\n",
       "      <td>1</td>\n",
       "      <td>18021</td>\n",
       "      <td>915.750000</td>\n",
       "      <td>0</td>\n",
       "      <td>1</td>\n",
       "      <td>0</td>\n",
       "      <td>0</td>\n",
       "      <td>1</td>\n",
       "    </tr>\n",
       "    <tr>\n",
       "      <th>1</th>\n",
       "      <td>50</td>\n",
       "      <td>55846</td>\n",
       "      <td>1100</td>\n",
       "      <td>24218</td>\n",
       "      <td>4</td>\n",
       "      <td>1980</td>\n",
       "      <td>6</td>\n",
       "      <td>4</td>\n",
       "      <td>122961</td>\n",
       "      <td>790.666667</td>\n",
       "      <td>0</td>\n",
       "      <td>0</td>\n",
       "      <td>1</td>\n",
       "      <td>0</td>\n",
       "      <td>1</td>\n",
       "    </tr>\n",
       "    <tr>\n",
       "      <th>2</th>\n",
       "      <td>53</td>\n",
       "      <td>55846</td>\n",
       "      <td>1100</td>\n",
       "      <td>15470</td>\n",
       "      <td>4</td>\n",
       "      <td>1985</td>\n",
       "      <td>7</td>\n",
       "      <td>2</td>\n",
       "      <td>27974</td>\n",
       "      <td>1601.500000</td>\n",
       "      <td>0</td>\n",
       "      <td>0</td>\n",
       "      <td>1</td>\n",
       "      <td>0</td>\n",
       "      <td>1</td>\n",
       "    </tr>\n",
       "    <tr>\n",
       "      <th>3</th>\n",
       "      <td>67</td>\n",
       "      <td>55846</td>\n",
       "      <td>949</td>\n",
       "      <td>13964</td>\n",
       "      <td>3</td>\n",
       "      <td>1985</td>\n",
       "      <td>6</td>\n",
       "      <td>2</td>\n",
       "      <td>32220</td>\n",
       "      <td>528.666667</td>\n",
       "      <td>0</td>\n",
       "      <td>0</td>\n",
       "      <td>1</td>\n",
       "      <td>0</td>\n",
       "      <td>1</td>\n",
       "    </tr>\n",
       "    <tr>\n",
       "      <th>4</th>\n",
       "      <td>50</td>\n",
       "      <td>60991</td>\n",
       "      <td>988</td>\n",
       "      <td>18050</td>\n",
       "      <td>3</td>\n",
       "      <td>1985</td>\n",
       "      <td>6</td>\n",
       "      <td>3</td>\n",
       "      <td>69962</td>\n",
       "      <td>1476.000000</td>\n",
       "      <td>0</td>\n",
       "      <td>0</td>\n",
       "      <td>1</td>\n",
       "      <td>1</td>\n",
       "      <td>1</td>\n",
       "    </tr>\n",
       "  </tbody>\n",
       "</table>\n",
       "</div>"
      ],
      "text/plain": [
       "   AGE1   LMED   FMR   IPOV  BEDRMS  BUILT  ROOMS  PER   ZINC2   total_cost  \\\n",
       "0    82  73738   956  11067       2   2006      6    1   18021   915.750000   \n",
       "1    50  55846  1100  24218       4   1980      6    4  122961   790.666667   \n",
       "2    53  55846  1100  15470       4   1985      7    2   27974  1601.500000   \n",
       "3    67  55846   949  13964       3   1985      6    2   32220   528.666667   \n",
       "4    50  60991   988  18050       3   1985      6    3   69962  1476.000000   \n",
       "\n",
       "   Midwest  Northeast  South  central_city  Adequate  \n",
       "0        0          1      0             0         1  \n",
       "1        0          0      1             0         1  \n",
       "2        0          0      1             0         1  \n",
       "3        0          0      1             0         1  \n",
       "4        0          0      1             1         1  "
      ]
     },
     "execution_count": 71,
     "metadata": {},
     "output_type": "execute_result"
    }
   ],
   "source": [
    "X.head()"
   ]
  },
  {
   "cell_type": "code",
   "execution_count": 72,
   "id": "119a4895",
   "metadata": {},
   "outputs": [
    {
     "data": {
      "text/html": [
       "<style type=\"text/css\">\n",
       "#T_e7ff3_row0_col0, #T_e7ff3_row1_col1, #T_e7ff3_row1_col2, #T_e7ff3_row1_col11, #T_e7ff3_row2_col1, #T_e7ff3_row2_col2, #T_e7ff3_row3_col3, #T_e7ff3_row3_col7, #T_e7ff3_row4_col4, #T_e7ff3_row4_col6, #T_e7ff3_row5_col5, #T_e7ff3_row6_col4, #T_e7ff3_row6_col6, #T_e7ff3_row7_col3, #T_e7ff3_row7_col7, #T_e7ff3_row8_col8, #T_e7ff3_row9_col9, #T_e7ff3_row10_col10, #T_e7ff3_row11_col1, #T_e7ff3_row11_col11, #T_e7ff3_row12_col12, #T_e7ff3_row13_col13, #T_e7ff3_row14_col14 {\n",
       "  color: red;\n",
       "}\n",
       "#T_e7ff3_row0_col1, #T_e7ff3_row0_col2, #T_e7ff3_row0_col3, #T_e7ff3_row0_col4, #T_e7ff3_row0_col5, #T_e7ff3_row0_col6, #T_e7ff3_row0_col7, #T_e7ff3_row0_col8, #T_e7ff3_row0_col9, #T_e7ff3_row0_col10, #T_e7ff3_row0_col11, #T_e7ff3_row0_col12, #T_e7ff3_row0_col13, #T_e7ff3_row0_col14, #T_e7ff3_row1_col0, #T_e7ff3_row1_col3, #T_e7ff3_row1_col4, #T_e7ff3_row1_col5, #T_e7ff3_row1_col6, #T_e7ff3_row1_col7, #T_e7ff3_row1_col8, #T_e7ff3_row1_col9, #T_e7ff3_row1_col10, #T_e7ff3_row1_col12, #T_e7ff3_row1_col13, #T_e7ff3_row1_col14, #T_e7ff3_row2_col0, #T_e7ff3_row2_col3, #T_e7ff3_row2_col4, #T_e7ff3_row2_col5, #T_e7ff3_row2_col6, #T_e7ff3_row2_col7, #T_e7ff3_row2_col8, #T_e7ff3_row2_col9, #T_e7ff3_row2_col10, #T_e7ff3_row2_col11, #T_e7ff3_row2_col12, #T_e7ff3_row2_col13, #T_e7ff3_row2_col14, #T_e7ff3_row3_col0, #T_e7ff3_row3_col1, #T_e7ff3_row3_col2, #T_e7ff3_row3_col4, #T_e7ff3_row3_col5, #T_e7ff3_row3_col6, #T_e7ff3_row3_col8, #T_e7ff3_row3_col9, #T_e7ff3_row3_col10, #T_e7ff3_row3_col11, #T_e7ff3_row3_col12, #T_e7ff3_row3_col13, #T_e7ff3_row3_col14, #T_e7ff3_row4_col0, #T_e7ff3_row4_col1, #T_e7ff3_row4_col2, #T_e7ff3_row4_col3, #T_e7ff3_row4_col5, #T_e7ff3_row4_col7, #T_e7ff3_row4_col8, #T_e7ff3_row4_col9, #T_e7ff3_row4_col10, #T_e7ff3_row4_col11, #T_e7ff3_row4_col12, #T_e7ff3_row4_col13, #T_e7ff3_row4_col14, #T_e7ff3_row5_col0, #T_e7ff3_row5_col1, #T_e7ff3_row5_col2, #T_e7ff3_row5_col3, #T_e7ff3_row5_col4, #T_e7ff3_row5_col6, #T_e7ff3_row5_col7, #T_e7ff3_row5_col8, #T_e7ff3_row5_col9, #T_e7ff3_row5_col10, #T_e7ff3_row5_col11, #T_e7ff3_row5_col12, #T_e7ff3_row5_col13, #T_e7ff3_row5_col14, #T_e7ff3_row6_col0, #T_e7ff3_row6_col1, #T_e7ff3_row6_col2, #T_e7ff3_row6_col3, #T_e7ff3_row6_col5, #T_e7ff3_row6_col7, #T_e7ff3_row6_col8, #T_e7ff3_row6_col9, #T_e7ff3_row6_col10, #T_e7ff3_row6_col11, #T_e7ff3_row6_col12, #T_e7ff3_row6_col13, #T_e7ff3_row6_col14, #T_e7ff3_row7_col0, #T_e7ff3_row7_col1, #T_e7ff3_row7_col2, #T_e7ff3_row7_col4, #T_e7ff3_row7_col5, #T_e7ff3_row7_col6, #T_e7ff3_row7_col8, #T_e7ff3_row7_col9, #T_e7ff3_row7_col10, #T_e7ff3_row7_col11, #T_e7ff3_row7_col12, #T_e7ff3_row7_col13, #T_e7ff3_row7_col14, #T_e7ff3_row8_col0, #T_e7ff3_row8_col1, #T_e7ff3_row8_col2, #T_e7ff3_row8_col3, #T_e7ff3_row8_col4, #T_e7ff3_row8_col5, #T_e7ff3_row8_col6, #T_e7ff3_row8_col7, #T_e7ff3_row8_col9, #T_e7ff3_row8_col10, #T_e7ff3_row8_col11, #T_e7ff3_row8_col12, #T_e7ff3_row8_col13, #T_e7ff3_row8_col14, #T_e7ff3_row9_col0, #T_e7ff3_row9_col1, #T_e7ff3_row9_col2, #T_e7ff3_row9_col3, #T_e7ff3_row9_col4, #T_e7ff3_row9_col5, #T_e7ff3_row9_col6, #T_e7ff3_row9_col7, #T_e7ff3_row9_col8, #T_e7ff3_row9_col10, #T_e7ff3_row9_col11, #T_e7ff3_row9_col12, #T_e7ff3_row9_col13, #T_e7ff3_row9_col14, #T_e7ff3_row10_col0, #T_e7ff3_row10_col1, #T_e7ff3_row10_col2, #T_e7ff3_row10_col3, #T_e7ff3_row10_col4, #T_e7ff3_row10_col5, #T_e7ff3_row10_col6, #T_e7ff3_row10_col7, #T_e7ff3_row10_col8, #T_e7ff3_row10_col9, #T_e7ff3_row10_col11, #T_e7ff3_row10_col12, #T_e7ff3_row10_col13, #T_e7ff3_row10_col14, #T_e7ff3_row11_col0, #T_e7ff3_row11_col2, #T_e7ff3_row11_col3, #T_e7ff3_row11_col4, #T_e7ff3_row11_col5, #T_e7ff3_row11_col6, #T_e7ff3_row11_col7, #T_e7ff3_row11_col8, #T_e7ff3_row11_col9, #T_e7ff3_row11_col10, #T_e7ff3_row11_col12, #T_e7ff3_row11_col13, #T_e7ff3_row11_col14, #T_e7ff3_row12_col0, #T_e7ff3_row12_col1, #T_e7ff3_row12_col2, #T_e7ff3_row12_col3, #T_e7ff3_row12_col4, #T_e7ff3_row12_col5, #T_e7ff3_row12_col6, #T_e7ff3_row12_col7, #T_e7ff3_row12_col8, #T_e7ff3_row12_col9, #T_e7ff3_row12_col10, #T_e7ff3_row12_col11, #T_e7ff3_row12_col13, #T_e7ff3_row12_col14, #T_e7ff3_row13_col0, #T_e7ff3_row13_col1, #T_e7ff3_row13_col2, #T_e7ff3_row13_col3, #T_e7ff3_row13_col4, #T_e7ff3_row13_col5, #T_e7ff3_row13_col6, #T_e7ff3_row13_col7, #T_e7ff3_row13_col8, #T_e7ff3_row13_col9, #T_e7ff3_row13_col10, #T_e7ff3_row13_col11, #T_e7ff3_row13_col12, #T_e7ff3_row13_col14, #T_e7ff3_row14_col0, #T_e7ff3_row14_col1, #T_e7ff3_row14_col2, #T_e7ff3_row14_col3, #T_e7ff3_row14_col4, #T_e7ff3_row14_col5, #T_e7ff3_row14_col6, #T_e7ff3_row14_col7, #T_e7ff3_row14_col8, #T_e7ff3_row14_col9, #T_e7ff3_row14_col10, #T_e7ff3_row14_col11, #T_e7ff3_row14_col12, #T_e7ff3_row14_col13 {\n",
       "  color: black;\n",
       "}\n",
       "</style>\n",
       "<table id=\"T_e7ff3\">\n",
       "  <thead>\n",
       "    <tr>\n",
       "      <th class=\"blank level0\" >&nbsp;</th>\n",
       "      <th id=\"T_e7ff3_level0_col0\" class=\"col_heading level0 col0\" >AGE1</th>\n",
       "      <th id=\"T_e7ff3_level0_col1\" class=\"col_heading level0 col1\" >LMED</th>\n",
       "      <th id=\"T_e7ff3_level0_col2\" class=\"col_heading level0 col2\" >FMR</th>\n",
       "      <th id=\"T_e7ff3_level0_col3\" class=\"col_heading level0 col3\" >IPOV</th>\n",
       "      <th id=\"T_e7ff3_level0_col4\" class=\"col_heading level0 col4\" >BEDRMS</th>\n",
       "      <th id=\"T_e7ff3_level0_col5\" class=\"col_heading level0 col5\" >BUILT</th>\n",
       "      <th id=\"T_e7ff3_level0_col6\" class=\"col_heading level0 col6\" >ROOMS</th>\n",
       "      <th id=\"T_e7ff3_level0_col7\" class=\"col_heading level0 col7\" >PER</th>\n",
       "      <th id=\"T_e7ff3_level0_col8\" class=\"col_heading level0 col8\" >ZINC2</th>\n",
       "      <th id=\"T_e7ff3_level0_col9\" class=\"col_heading level0 col9\" >total_cost</th>\n",
       "      <th id=\"T_e7ff3_level0_col10\" class=\"col_heading level0 col10\" >Midwest</th>\n",
       "      <th id=\"T_e7ff3_level0_col11\" class=\"col_heading level0 col11\" >Northeast</th>\n",
       "      <th id=\"T_e7ff3_level0_col12\" class=\"col_heading level0 col12\" >South</th>\n",
       "      <th id=\"T_e7ff3_level0_col13\" class=\"col_heading level0 col13\" >central_city</th>\n",
       "      <th id=\"T_e7ff3_level0_col14\" class=\"col_heading level0 col14\" >Adequate</th>\n",
       "    </tr>\n",
       "  </thead>\n",
       "  <tbody>\n",
       "    <tr>\n",
       "      <th id=\"T_e7ff3_level0_row0\" class=\"row_heading level0 row0\" >AGE1</th>\n",
       "      <td id=\"T_e7ff3_row0_col0\" class=\"data row0 col0\" >1.000000</td>\n",
       "      <td id=\"T_e7ff3_row0_col1\" class=\"data row0 col1\" >-0.010146</td>\n",
       "      <td id=\"T_e7ff3_row0_col2\" class=\"data row0 col2\" >-0.040166</td>\n",
       "      <td id=\"T_e7ff3_row0_col3\" class=\"data row0 col3\" >-0.440358</td>\n",
       "      <td id=\"T_e7ff3_row0_col4\" class=\"data row0 col4\" >-0.108804</td>\n",
       "      <td id=\"T_e7ff3_row0_col5\" class=\"data row0 col5\" >-0.138537</td>\n",
       "      <td id=\"T_e7ff3_row0_col6\" class=\"data row0 col6\" >-0.046702</td>\n",
       "      <td id=\"T_e7ff3_row0_col7\" class=\"data row0 col7\" >-0.401749</td>\n",
       "      <td id=\"T_e7ff3_row0_col8\" class=\"data row0 col8\" >-0.206399</td>\n",
       "      <td id=\"T_e7ff3_row0_col9\" class=\"data row0 col9\" >-0.237089</td>\n",
       "      <td id=\"T_e7ff3_row0_col10\" class=\"data row0 col10\" >-0.013970</td>\n",
       "      <td id=\"T_e7ff3_row0_col11\" class=\"data row0 col11\" >0.019804</td>\n",
       "      <td id=\"T_e7ff3_row0_col12\" class=\"data row0 col12\" >0.000219</td>\n",
       "      <td id=\"T_e7ff3_row0_col13\" class=\"data row0 col13\" >-0.018975</td>\n",
       "      <td id=\"T_e7ff3_row0_col14\" class=\"data row0 col14\" >0.002276</td>\n",
       "    </tr>\n",
       "    <tr>\n",
       "      <th id=\"T_e7ff3_level0_row1\" class=\"row_heading level0 row1\" >LMED</th>\n",
       "      <td id=\"T_e7ff3_row1_col0\" class=\"data row1 col0\" >-0.010146</td>\n",
       "      <td id=\"T_e7ff3_row1_col1\" class=\"data row1 col1\" >1.000000</td>\n",
       "      <td id=\"T_e7ff3_row1_col2\" class=\"data row1 col2\" >0.683971</td>\n",
       "      <td id=\"T_e7ff3_row1_col3\" class=\"data row1 col3\" >0.078243</td>\n",
       "      <td id=\"T_e7ff3_row1_col4\" class=\"data row1 col4\" >0.100760</td>\n",
       "      <td id=\"T_e7ff3_row1_col5\" class=\"data row1 col5\" >-0.158059</td>\n",
       "      <td id=\"T_e7ff3_row1_col6\" class=\"data row1 col6\" >0.123096</td>\n",
       "      <td id=\"T_e7ff3_row1_col7\" class=\"data row1 col7\" >0.077243</td>\n",
       "      <td id=\"T_e7ff3_row1_col8\" class=\"data row1 col8\" >0.172790</td>\n",
       "      <td id=\"T_e7ff3_row1_col9\" class=\"data row1 col9\" >0.329919</td>\n",
       "      <td id=\"T_e7ff3_row1_col10\" class=\"data row1 col10\" >-0.152054</td>\n",
       "      <td id=\"T_e7ff3_row1_col11\" class=\"data row1 col11\" >0.541857</td>\n",
       "      <td id=\"T_e7ff3_row1_col12\" class=\"data row1 col12\" >-0.372614</td>\n",
       "      <td id=\"T_e7ff3_row1_col13\" class=\"data row1 col13\" >-0.007961</td>\n",
       "      <td id=\"T_e7ff3_row1_col14\" class=\"data row1 col14\" >0.007868</td>\n",
       "    </tr>\n",
       "    <tr>\n",
       "      <th id=\"T_e7ff3_level0_row2\" class=\"row_heading level0 row2\" >FMR</th>\n",
       "      <td id=\"T_e7ff3_row2_col0\" class=\"data row2 col0\" >-0.040166</td>\n",
       "      <td id=\"T_e7ff3_row2_col1\" class=\"data row2 col1\" >0.683971</td>\n",
       "      <td id=\"T_e7ff3_row2_col2\" class=\"data row2 col2\" >1.000000</td>\n",
       "      <td id=\"T_e7ff3_row2_col3\" class=\"data row2 col3\" >0.216047</td>\n",
       "      <td id=\"T_e7ff3_row2_col4\" class=\"data row2 col4\" >0.478068</td>\n",
       "      <td id=\"T_e7ff3_row2_col5\" class=\"data row2 col5\" >-0.009525</td>\n",
       "      <td id=\"T_e7ff3_row2_col6\" class=\"data row2 col6\" >0.349391</td>\n",
       "      <td id=\"T_e7ff3_row2_col7\" class=\"data row2 col7\" >0.218579</td>\n",
       "      <td id=\"T_e7ff3_row2_col8\" class=\"data row2 col8\" >0.248834</td>\n",
       "      <td id=\"T_e7ff3_row2_col9\" class=\"data row2 col9\" >0.456375</td>\n",
       "      <td id=\"T_e7ff3_row2_col10\" class=\"data row2 col10\" >-0.380552</td>\n",
       "      <td id=\"T_e7ff3_row2_col11\" class=\"data row2 col11\" >0.330926</td>\n",
       "      <td id=\"T_e7ff3_row2_col12\" class=\"data row2 col12\" >-0.197852</td>\n",
       "      <td id=\"T_e7ff3_row2_col13\" class=\"data row2 col13\" >0.052698</td>\n",
       "      <td id=\"T_e7ff3_row2_col14\" class=\"data row2 col14\" >0.017112</td>\n",
       "    </tr>\n",
       "    <tr>\n",
       "      <th id=\"T_e7ff3_level0_row3\" class=\"row_heading level0 row3\" >IPOV</th>\n",
       "      <td id=\"T_e7ff3_row3_col0\" class=\"data row3 col0\" >-0.440358</td>\n",
       "      <td id=\"T_e7ff3_row3_col1\" class=\"data row3 col1\" >0.078243</td>\n",
       "      <td id=\"T_e7ff3_row3_col2\" class=\"data row3 col2\" >0.216047</td>\n",
       "      <td id=\"T_e7ff3_row3_col3\" class=\"data row3 col3\" >1.000000</td>\n",
       "      <td id=\"T_e7ff3_row3_col4\" class=\"data row3 col4\" >0.329640</td>\n",
       "      <td id=\"T_e7ff3_row3_col5\" class=\"data row3 col5\" >0.088701</td>\n",
       "      <td id=\"T_e7ff3_row3_col6\" class=\"data row3 col6\" >0.259868</td>\n",
       "      <td id=\"T_e7ff3_row3_col7\" class=\"data row3 col7\" >0.989618</td>\n",
       "      <td id=\"T_e7ff3_row3_col8\" class=\"data row3 col8\" >0.242891</td>\n",
       "      <td id=\"T_e7ff3_row3_col9\" class=\"data row3 col9\" >0.299183</td>\n",
       "      <td id=\"T_e7ff3_row3_col10\" class=\"data row3 col10\" >-0.014878</td>\n",
       "      <td id=\"T_e7ff3_row3_col11\" class=\"data row3 col11\" >0.034332</td>\n",
       "      <td id=\"T_e7ff3_row3_col12\" class=\"data row3 col12\" >-0.043398</td>\n",
       "      <td id=\"T_e7ff3_row3_col13\" class=\"data row3 col13\" >0.004929</td>\n",
       "      <td id=\"T_e7ff3_row3_col14\" class=\"data row3 col14\" >-0.005402</td>\n",
       "    </tr>\n",
       "    <tr>\n",
       "      <th id=\"T_e7ff3_level0_row4\" class=\"row_heading level0 row4\" >BEDRMS</th>\n",
       "      <td id=\"T_e7ff3_row4_col0\" class=\"data row4 col0\" >-0.108804</td>\n",
       "      <td id=\"T_e7ff3_row4_col1\" class=\"data row4 col1\" >0.100760</td>\n",
       "      <td id=\"T_e7ff3_row4_col2\" class=\"data row4 col2\" >0.478068</td>\n",
       "      <td id=\"T_e7ff3_row4_col3\" class=\"data row4 col3\" >0.329640</td>\n",
       "      <td id=\"T_e7ff3_row4_col4\" class=\"data row4 col4\" >1.000000</td>\n",
       "      <td id=\"T_e7ff3_row4_col5\" class=\"data row4 col5\" >0.141762</td>\n",
       "      <td id=\"T_e7ff3_row4_col6\" class=\"data row4 col6\" >0.744225</td>\n",
       "      <td id=\"T_e7ff3_row4_col7\" class=\"data row4 col7\" >0.333674</td>\n",
       "      <td id=\"T_e7ff3_row4_col8\" class=\"data row4 col8\" >0.276075</td>\n",
       "      <td id=\"T_e7ff3_row4_col9\" class=\"data row4 col9\" >0.350501</td>\n",
       "      <td id=\"T_e7ff3_row4_col10\" class=\"data row4 col10\" >-0.034834</td>\n",
       "      <td id=\"T_e7ff3_row4_col11\" class=\"data row4 col11\" >0.013665</td>\n",
       "      <td id=\"T_e7ff3_row4_col12\" class=\"data row4 col12\" >-0.007476</td>\n",
       "      <td id=\"T_e7ff3_row4_col13\" class=\"data row4 col13\" >-0.031947</td>\n",
       "      <td id=\"T_e7ff3_row4_col14\" class=\"data row4 col14\" >0.031496</td>\n",
       "    </tr>\n",
       "    <tr>\n",
       "      <th id=\"T_e7ff3_level0_row5\" class=\"row_heading level0 row5\" >BUILT</th>\n",
       "      <td id=\"T_e7ff3_row5_col0\" class=\"data row5 col0\" >-0.138537</td>\n",
       "      <td id=\"T_e7ff3_row5_col1\" class=\"data row5 col1\" >-0.158059</td>\n",
       "      <td id=\"T_e7ff3_row5_col2\" class=\"data row5 col2\" >-0.009525</td>\n",
       "      <td id=\"T_e7ff3_row5_col3\" class=\"data row5 col3\" >0.088701</td>\n",
       "      <td id=\"T_e7ff3_row5_col4\" class=\"data row5 col4\" >0.141762</td>\n",
       "      <td id=\"T_e7ff3_row5_col5\" class=\"data row5 col5\" >1.000000</td>\n",
       "      <td id=\"T_e7ff3_row5_col6\" class=\"data row5 col6\" >0.142026</td>\n",
       "      <td id=\"T_e7ff3_row5_col7\" class=\"data row5 col7\" >0.088280</td>\n",
       "      <td id=\"T_e7ff3_row5_col8\" class=\"data row5 col8\" >0.126572</td>\n",
       "      <td id=\"T_e7ff3_row5_col9\" class=\"data row5 col9\" >0.141853</td>\n",
       "      <td id=\"T_e7ff3_row5_col10\" class=\"data row5 col10\" >-0.089905</td>\n",
       "      <td id=\"T_e7ff3_row5_col11\" class=\"data row5 col11\" >-0.207186</td>\n",
       "      <td id=\"T_e7ff3_row5_col12\" class=\"data row5 col12\" >0.212904</td>\n",
       "      <td id=\"T_e7ff3_row5_col13\" class=\"data row5 col13\" >-0.151060</td>\n",
       "      <td id=\"T_e7ff3_row5_col14\" class=\"data row5 col14\" >0.089468</td>\n",
       "    </tr>\n",
       "    <tr>\n",
       "      <th id=\"T_e7ff3_level0_row6\" class=\"row_heading level0 row6\" >ROOMS</th>\n",
       "      <td id=\"T_e7ff3_row6_col0\" class=\"data row6 col0\" >-0.046702</td>\n",
       "      <td id=\"T_e7ff3_row6_col1\" class=\"data row6 col1\" >0.123096</td>\n",
       "      <td id=\"T_e7ff3_row6_col2\" class=\"data row6 col2\" >0.349391</td>\n",
       "      <td id=\"T_e7ff3_row6_col3\" class=\"data row6 col3\" >0.259868</td>\n",
       "      <td id=\"T_e7ff3_row6_col4\" class=\"data row6 col4\" >0.744225</td>\n",
       "      <td id=\"T_e7ff3_row6_col5\" class=\"data row6 col5\" >0.142026</td>\n",
       "      <td id=\"T_e7ff3_row6_col6\" class=\"data row6 col6\" >1.000000</td>\n",
       "      <td id=\"T_e7ff3_row6_col7\" class=\"data row6 col7\" >0.268147</td>\n",
       "      <td id=\"T_e7ff3_row6_col8\" class=\"data row6 col8\" >0.353855</td>\n",
       "      <td id=\"T_e7ff3_row6_col9\" class=\"data row6 col9\" >0.401176</td>\n",
       "      <td id=\"T_e7ff3_row6_col10\" class=\"data row6 col10\" >-0.021500</td>\n",
       "      <td id=\"T_e7ff3_row6_col11\" class=\"data row6 col11\" >0.037715</td>\n",
       "      <td id=\"T_e7ff3_row6_col12\" class=\"data row6 col12\" >-0.016843</td>\n",
       "      <td id=\"T_e7ff3_row6_col13\" class=\"data row6 col13\" >-0.048646</td>\n",
       "      <td id=\"T_e7ff3_row6_col14\" class=\"data row6 col14\" >0.043317</td>\n",
       "    </tr>\n",
       "    <tr>\n",
       "      <th id=\"T_e7ff3_level0_row7\" class=\"row_heading level0 row7\" >PER</th>\n",
       "      <td id=\"T_e7ff3_row7_col0\" class=\"data row7 col0\" >-0.401749</td>\n",
       "      <td id=\"T_e7ff3_row7_col1\" class=\"data row7 col1\" >0.077243</td>\n",
       "      <td id=\"T_e7ff3_row7_col2\" class=\"data row7 col2\" >0.218579</td>\n",
       "      <td id=\"T_e7ff3_row7_col3\" class=\"data row7 col3\" >0.989618</td>\n",
       "      <td id=\"T_e7ff3_row7_col4\" class=\"data row7 col4\" >0.333674</td>\n",
       "      <td id=\"T_e7ff3_row7_col5\" class=\"data row7 col5\" >0.088280</td>\n",
       "      <td id=\"T_e7ff3_row7_col6\" class=\"data row7 col6\" >0.268147</td>\n",
       "      <td id=\"T_e7ff3_row7_col7\" class=\"data row7 col7\" >1.000000</td>\n",
       "      <td id=\"T_e7ff3_row7_col8\" class=\"data row7 col8\" >0.242559</td>\n",
       "      <td id=\"T_e7ff3_row7_col9\" class=\"data row7 col9\" >0.292750</td>\n",
       "      <td id=\"T_e7ff3_row7_col10\" class=\"data row7 col10\" >-0.015877</td>\n",
       "      <td id=\"T_e7ff3_row7_col11\" class=\"data row7 col11\" >0.035158</td>\n",
       "      <td id=\"T_e7ff3_row7_col12\" class=\"data row7 col12\" >-0.043685</td>\n",
       "      <td id=\"T_e7ff3_row7_col13\" class=\"data row7 col13\" >0.000784</td>\n",
       "      <td id=\"T_e7ff3_row7_col14\" class=\"data row7 col14\" >-0.003385</td>\n",
       "    </tr>\n",
       "    <tr>\n",
       "      <th id=\"T_e7ff3_level0_row8\" class=\"row_heading level0 row8\" >ZINC2</th>\n",
       "      <td id=\"T_e7ff3_row8_col0\" class=\"data row8 col0\" >-0.206399</td>\n",
       "      <td id=\"T_e7ff3_row8_col1\" class=\"data row8 col1\" >0.172790</td>\n",
       "      <td id=\"T_e7ff3_row8_col2\" class=\"data row8 col2\" >0.248834</td>\n",
       "      <td id=\"T_e7ff3_row8_col3\" class=\"data row8 col3\" >0.242891</td>\n",
       "      <td id=\"T_e7ff3_row8_col4\" class=\"data row8 col4\" >0.276075</td>\n",
       "      <td id=\"T_e7ff3_row8_col5\" class=\"data row8 col5\" >0.126572</td>\n",
       "      <td id=\"T_e7ff3_row8_col6\" class=\"data row8 col6\" >0.353855</td>\n",
       "      <td id=\"T_e7ff3_row8_col7\" class=\"data row8 col7\" >0.242559</td>\n",
       "      <td id=\"T_e7ff3_row8_col8\" class=\"data row8 col8\" >1.000000</td>\n",
       "      <td id=\"T_e7ff3_row8_col9\" class=\"data row8 col9\" >0.462820</td>\n",
       "      <td id=\"T_e7ff3_row8_col10\" class=\"data row8 col10\" >-0.049765</td>\n",
       "      <td id=\"T_e7ff3_row8_col11\" class=\"data row8 col11\" >0.074081</td>\n",
       "      <td id=\"T_e7ff3_row8_col12\" class=\"data row8 col12\" >-0.052341</td>\n",
       "      <td id=\"T_e7ff3_row8_col13\" class=\"data row8 col13\" >-0.034424</td>\n",
       "      <td id=\"T_e7ff3_row8_col14\" class=\"data row8 col14\" >0.045125</td>\n",
       "    </tr>\n",
       "    <tr>\n",
       "      <th id=\"T_e7ff3_level0_row9\" class=\"row_heading level0 row9\" >total_cost</th>\n",
       "      <td id=\"T_e7ff3_row9_col0\" class=\"data row9 col0\" >-0.237089</td>\n",
       "      <td id=\"T_e7ff3_row9_col1\" class=\"data row9 col1\" >0.329919</td>\n",
       "      <td id=\"T_e7ff3_row9_col2\" class=\"data row9 col2\" >0.456375</td>\n",
       "      <td id=\"T_e7ff3_row9_col3\" class=\"data row9 col3\" >0.299183</td>\n",
       "      <td id=\"T_e7ff3_row9_col4\" class=\"data row9 col4\" >0.350501</td>\n",
       "      <td id=\"T_e7ff3_row9_col5\" class=\"data row9 col5\" >0.141853</td>\n",
       "      <td id=\"T_e7ff3_row9_col6\" class=\"data row9 col6\" >0.401176</td>\n",
       "      <td id=\"T_e7ff3_row9_col7\" class=\"data row9 col7\" >0.292750</td>\n",
       "      <td id=\"T_e7ff3_row9_col8\" class=\"data row9 col8\" >0.462820</td>\n",
       "      <td id=\"T_e7ff3_row9_col9\" class=\"data row9 col9\" >1.000000</td>\n",
       "      <td id=\"T_e7ff3_row9_col10\" class=\"data row9 col10\" >-0.131444</td>\n",
       "      <td id=\"T_e7ff3_row9_col11\" class=\"data row9 col11\" >0.180337</td>\n",
       "      <td id=\"T_e7ff3_row9_col12\" class=\"data row9 col12\" >-0.111354</td>\n",
       "      <td id=\"T_e7ff3_row9_col13\" class=\"data row9 col13\" >-0.013059</td>\n",
       "      <td id=\"T_e7ff3_row9_col14\" class=\"data row9 col14\" >0.026506</td>\n",
       "    </tr>\n",
       "    <tr>\n",
       "      <th id=\"T_e7ff3_level0_row10\" class=\"row_heading level0 row10\" >Midwest</th>\n",
       "      <td id=\"T_e7ff3_row10_col0\" class=\"data row10 col0\" >-0.013970</td>\n",
       "      <td id=\"T_e7ff3_row10_col1\" class=\"data row10 col1\" >-0.152054</td>\n",
       "      <td id=\"T_e7ff3_row10_col2\" class=\"data row10 col2\" >-0.380552</td>\n",
       "      <td id=\"T_e7ff3_row10_col3\" class=\"data row10 col3\" >-0.014878</td>\n",
       "      <td id=\"T_e7ff3_row10_col4\" class=\"data row10 col4\" >-0.034834</td>\n",
       "      <td id=\"T_e7ff3_row10_col5\" class=\"data row10 col5\" >-0.089905</td>\n",
       "      <td id=\"T_e7ff3_row10_col6\" class=\"data row10 col6\" >-0.021500</td>\n",
       "      <td id=\"T_e7ff3_row10_col7\" class=\"data row10 col7\" >-0.015877</td>\n",
       "      <td id=\"T_e7ff3_row10_col8\" class=\"data row10 col8\" >-0.049765</td>\n",
       "      <td id=\"T_e7ff3_row10_col9\" class=\"data row10 col9\" >-0.131444</td>\n",
       "      <td id=\"T_e7ff3_row10_col10\" class=\"data row10 col10\" >1.000000</td>\n",
       "      <td id=\"T_e7ff3_row10_col11\" class=\"data row10 col11\" >-0.371976</td>\n",
       "      <td id=\"T_e7ff3_row10_col12\" class=\"data row10 col12\" >-0.422289</td>\n",
       "      <td id=\"T_e7ff3_row10_col13\" class=\"data row10 col13\" >-0.016145</td>\n",
       "      <td id=\"T_e7ff3_row10_col14\" class=\"data row10 col14\" >0.009619</td>\n",
       "    </tr>\n",
       "    <tr>\n",
       "      <th id=\"T_e7ff3_level0_row11\" class=\"row_heading level0 row11\" >Northeast</th>\n",
       "      <td id=\"T_e7ff3_row11_col0\" class=\"data row11 col0\" >0.019804</td>\n",
       "      <td id=\"T_e7ff3_row11_col1\" class=\"data row11 col1\" >0.541857</td>\n",
       "      <td id=\"T_e7ff3_row11_col2\" class=\"data row11 col2\" >0.330926</td>\n",
       "      <td id=\"T_e7ff3_row11_col3\" class=\"data row11 col3\" >0.034332</td>\n",
       "      <td id=\"T_e7ff3_row11_col4\" class=\"data row11 col4\" >0.013665</td>\n",
       "      <td id=\"T_e7ff3_row11_col5\" class=\"data row11 col5\" >-0.207186</td>\n",
       "      <td id=\"T_e7ff3_row11_col6\" class=\"data row11 col6\" >0.037715</td>\n",
       "      <td id=\"T_e7ff3_row11_col7\" class=\"data row11 col7\" >0.035158</td>\n",
       "      <td id=\"T_e7ff3_row11_col8\" class=\"data row11 col8\" >0.074081</td>\n",
       "      <td id=\"T_e7ff3_row11_col9\" class=\"data row11 col9\" >0.180337</td>\n",
       "      <td id=\"T_e7ff3_row11_col10\" class=\"data row11 col10\" >-0.371976</td>\n",
       "      <td id=\"T_e7ff3_row11_col11\" class=\"data row11 col11\" >1.000000</td>\n",
       "      <td id=\"T_e7ff3_row11_col12\" class=\"data row11 col12\" >-0.368684</td>\n",
       "      <td id=\"T_e7ff3_row11_col13\" class=\"data row11 col13\" >-0.059059</td>\n",
       "      <td id=\"T_e7ff3_row11_col14\" class=\"data row11 col14\" >-0.022263</td>\n",
       "    </tr>\n",
       "    <tr>\n",
       "      <th id=\"T_e7ff3_level0_row12\" class=\"row_heading level0 row12\" >South</th>\n",
       "      <td id=\"T_e7ff3_row12_col0\" class=\"data row12 col0\" >0.000219</td>\n",
       "      <td id=\"T_e7ff3_row12_col1\" class=\"data row12 col1\" >-0.372614</td>\n",
       "      <td id=\"T_e7ff3_row12_col2\" class=\"data row12 col2\" >-0.197852</td>\n",
       "      <td id=\"T_e7ff3_row12_col3\" class=\"data row12 col3\" >-0.043398</td>\n",
       "      <td id=\"T_e7ff3_row12_col4\" class=\"data row12 col4\" >-0.007476</td>\n",
       "      <td id=\"T_e7ff3_row12_col5\" class=\"data row12 col5\" >0.212904</td>\n",
       "      <td id=\"T_e7ff3_row12_col6\" class=\"data row12 col6\" >-0.016843</td>\n",
       "      <td id=\"T_e7ff3_row12_col7\" class=\"data row12 col7\" >-0.043685</td>\n",
       "      <td id=\"T_e7ff3_row12_col8\" class=\"data row12 col8\" >-0.052341</td>\n",
       "      <td id=\"T_e7ff3_row12_col9\" class=\"data row12 col9\" >-0.111354</td>\n",
       "      <td id=\"T_e7ff3_row12_col10\" class=\"data row12 col10\" >-0.422289</td>\n",
       "      <td id=\"T_e7ff3_row12_col11\" class=\"data row12 col11\" >-0.368684</td>\n",
       "      <td id=\"T_e7ff3_row12_col12\" class=\"data row12 col12\" >1.000000</td>\n",
       "      <td id=\"T_e7ff3_row12_col13\" class=\"data row12 col13\" >0.000810</td>\n",
       "      <td id=\"T_e7ff3_row12_col14\" class=\"data row12 col14\" >-0.010960</td>\n",
       "    </tr>\n",
       "    <tr>\n",
       "      <th id=\"T_e7ff3_level0_row13\" class=\"row_heading level0 row13\" >central_city</th>\n",
       "      <td id=\"T_e7ff3_row13_col0\" class=\"data row13 col0\" >-0.018975</td>\n",
       "      <td id=\"T_e7ff3_row13_col1\" class=\"data row13 col1\" >-0.007961</td>\n",
       "      <td id=\"T_e7ff3_row13_col2\" class=\"data row13 col2\" >0.052698</td>\n",
       "      <td id=\"T_e7ff3_row13_col3\" class=\"data row13 col3\" >0.004929</td>\n",
       "      <td id=\"T_e7ff3_row13_col4\" class=\"data row13 col4\" >-0.031947</td>\n",
       "      <td id=\"T_e7ff3_row13_col5\" class=\"data row13 col5\" >-0.151060</td>\n",
       "      <td id=\"T_e7ff3_row13_col6\" class=\"data row13 col6\" >-0.048646</td>\n",
       "      <td id=\"T_e7ff3_row13_col7\" class=\"data row13 col7\" >0.000784</td>\n",
       "      <td id=\"T_e7ff3_row13_col8\" class=\"data row13 col8\" >-0.034424</td>\n",
       "      <td id=\"T_e7ff3_row13_col9\" class=\"data row13 col9\" >-0.013059</td>\n",
       "      <td id=\"T_e7ff3_row13_col10\" class=\"data row13 col10\" >-0.016145</td>\n",
       "      <td id=\"T_e7ff3_row13_col11\" class=\"data row13 col11\" >-0.059059</td>\n",
       "      <td id=\"T_e7ff3_row13_col12\" class=\"data row13 col12\" >0.000810</td>\n",
       "      <td id=\"T_e7ff3_row13_col13\" class=\"data row13 col13\" >1.000000</td>\n",
       "      <td id=\"T_e7ff3_row13_col14\" class=\"data row13 col14\" >-0.029027</td>\n",
       "    </tr>\n",
       "    <tr>\n",
       "      <th id=\"T_e7ff3_level0_row14\" class=\"row_heading level0 row14\" >Adequate</th>\n",
       "      <td id=\"T_e7ff3_row14_col0\" class=\"data row14 col0\" >0.002276</td>\n",
       "      <td id=\"T_e7ff3_row14_col1\" class=\"data row14 col1\" >0.007868</td>\n",
       "      <td id=\"T_e7ff3_row14_col2\" class=\"data row14 col2\" >0.017112</td>\n",
       "      <td id=\"T_e7ff3_row14_col3\" class=\"data row14 col3\" >-0.005402</td>\n",
       "      <td id=\"T_e7ff3_row14_col4\" class=\"data row14 col4\" >0.031496</td>\n",
       "      <td id=\"T_e7ff3_row14_col5\" class=\"data row14 col5\" >0.089468</td>\n",
       "      <td id=\"T_e7ff3_row14_col6\" class=\"data row14 col6\" >0.043317</td>\n",
       "      <td id=\"T_e7ff3_row14_col7\" class=\"data row14 col7\" >-0.003385</td>\n",
       "      <td id=\"T_e7ff3_row14_col8\" class=\"data row14 col8\" >0.045125</td>\n",
       "      <td id=\"T_e7ff3_row14_col9\" class=\"data row14 col9\" >0.026506</td>\n",
       "      <td id=\"T_e7ff3_row14_col10\" class=\"data row14 col10\" >0.009619</td>\n",
       "      <td id=\"T_e7ff3_row14_col11\" class=\"data row14 col11\" >-0.022263</td>\n",
       "      <td id=\"T_e7ff3_row14_col12\" class=\"data row14 col12\" >-0.010960</td>\n",
       "      <td id=\"T_e7ff3_row14_col13\" class=\"data row14 col13\" >-0.029027</td>\n",
       "      <td id=\"T_e7ff3_row14_col14\" class=\"data row14 col14\" >1.000000</td>\n",
       "    </tr>\n",
       "  </tbody>\n",
       "</table>\n"
      ],
      "text/plain": [
       "<pandas.io.formats.style.Styler at 0x1c0b58d27f0>"
      ]
     },
     "execution_count": 72,
     "metadata": {},
     "output_type": "execute_result"
    }
   ],
   "source": [
    "# Correlation Matrix\n",
    "corr = X.corr()\n",
    "def highlight_max(s): \n",
    "    if s.dtype == 'object': \n",
    "        is_corr = [False for _ in range(s.shape[0])] \n",
    "    else: \n",
    "        is_corr = s > 0.5\n",
    "    return ['color: red;' if cell else 'color:black' \n",
    "            for cell in is_corr]\n",
    "corr.style.apply(highlight_max)"
   ]
  },
  {
   "cell_type": "code",
   "execution_count": 73,
   "id": "406d0033",
   "metadata": {},
   "outputs": [],
   "source": [
    "# From the correlation matrix above let's drop variables with correlation values greater than 0.5\n",
    "X_cleaned = X.drop(columns=[\"BEDRMS\"])"
   ]
  },
  {
   "cell_type": "code",
   "execution_count": 74,
   "id": "99eef514",
   "metadata": {},
   "outputs": [],
   "source": [
    "corr.to_csv(\"correlation.csv\")"
   ]
  },
  {
   "cell_type": "code",
   "execution_count": 75,
   "id": "bf1ee64c",
   "metadata": {},
   "outputs": [
    {
     "data": {
      "image/png": "[encoded data removed]",
      "text/plain": [
       "<Figure size 960x300 with 4 Axes>"
      ]
     },
     "metadata": {},
     "output_type": "display_data"
    }
   ],
   "source": [
    "# Empirical distribution of the Variable \"VALUE\"\n",
    "warnings.filterwarnings(\"ignore\")\n",
    "val = sns.displot(data=owned_single_family_housing_df, x='VALUE', height=3, aspect=0.8, \n",
    "            kde=True, col=\"REGION\")\n",
    "val.set_axis_labels(\"Market Value ($)\", \"Number of Units\")\n",
    "val.set_titles(\"{col_name} Region\");"
   ]
  },
  {
   "cell_type": "markdown",
   "id": "38365aa3",
   "metadata": {},
   "source": [
    "The distribution of `VALUE` is right skewed. A log transformation could help to make the distribution more bell sahped!"
   ]
  },
  {
   "cell_type": "code",
   "execution_count": 76,
   "id": "25c06cb3",
   "metadata": {},
   "outputs": [],
   "source": [
    "LNVALUE = np.log(owned_single_family_housing_df.VALUE)\n",
    "owned_single_family_housing_df['ln_value'] = LNVALUE"
   ]
  },
  {
   "cell_type": "code",
   "execution_count": 77,
   "id": "48e955be",
   "metadata": {},
   "outputs": [
    {
     "data": {
      "image/png": "[encoded data removed]",
      "text/plain": [
       "<Figure size 960x300 with 4 Axes>"
      ]
     },
     "metadata": {},
     "output_type": "display_data"
    }
   ],
   "source": [
    "warnings.filterwarnings(\"ignore\")\n",
    "ln_val = sns.displot(data = owned_single_family_housing_df, x='ln_value', height=3, aspect=0.8, \n",
    "            kde=True, col=\"REGION\")\n",
    "ln_val.set_axis_labels(\"Ln(VALUE)\", \"Number of Units\")\n",
    "ln_val.set_titles(\"{col_name} Region\");"
   ]
  },
  {
   "cell_type": "markdown",
   "id": "87dcb863",
   "metadata": {},
   "source": [
    "After transformation, the data became normally distributed with equal mean and median of 12, and standard variation of 1. Also the distribution curve above shaow that the `ln_value` variable is normally distributed. Thus, we will use the transformed variable `ln_value` to build the linear regression model."
   ]
  },
  {
   "cell_type": "code",
   "execution_count": 78,
   "id": "78d6b236",
   "metadata": {},
   "outputs": [
    {
     "data": {
      "image/png": "[encoded data removed]",
      "text/plain": [
       "<Figure size 640x480 with 2 Axes>"
      ]
     },
     "metadata": {},
     "output_type": "display_data"
    }
   ],
   "source": [
    "# lower triangular matrix\n",
    "mask = np.triu(np.ones_like(X.corr()))\n",
    "warnings.filterwarnings(\"ignore\")\n",
    "# plotting a triangle correlation heatmap\n",
    "sns.heatmap(X.corr(), cmap=\"YlGnBu\", annot=True, fmt='0.1f', mask=mask);"
   ]
  },
  {
   "cell_type": "markdown",
   "id": "caf0501f",
   "metadata": {},
   "source": [
    "### Linear Regression Model"
   ]
  },
  {
   "cell_type": "code",
   "execution_count": 79,
   "id": "1f6b6f19",
   "metadata": {},
   "outputs": [
    {
     "data": {
      "text/html": [
       "<table class=\"simpletable\">\n",
       "<caption>OLS Regression Results</caption>\n",
       "<tr>\n",
       "  <th>Dep. Variable:</th>          <td>VALUE</td>      <th>  R-squared:         </th>  <td>   0.470</td>  \n",
       "</tr>\n",
       "<tr>\n",
       "  <th>Model:</th>                   <td>OLS</td>       <th>  Adj. R-squared:    </th>  <td>   0.469</td>  \n",
       "</tr>\n",
       "<tr>\n",
       "  <th>Method:</th>             <td>Least Squares</td>  <th>  F-statistic:       </th>  <td>   1908.</td>  \n",
       "</tr>\n",
       "<tr>\n",
       "  <th>Date:</th>             <td>Sun, 14 Jan 2024</td> <th>  Prob (F-statistic):</th>   <td>  0.00</td>   \n",
       "</tr>\n",
       "<tr>\n",
       "  <th>Time:</th>                 <td>21:46:13</td>     <th>  Log-Likelihood:    </th> <td>-4.1189e+05</td>\n",
       "</tr>\n",
       "<tr>\n",
       "  <th>No. Observations:</th>      <td> 30174</td>      <th>  AIC:               </th>  <td>8.238e+05</td> \n",
       "</tr>\n",
       "<tr>\n",
       "  <th>Df Residuals:</th>          <td> 30159</td>      <th>  BIC:               </th>  <td>8.239e+05</td> \n",
       "</tr>\n",
       "<tr>\n",
       "  <th>Df Model:</th>              <td>    14</td>      <th>                     </th>      <td> </td>     \n",
       "</tr>\n",
       "<tr>\n",
       "  <th>Covariance Type:</th>      <td>nonrobust</td>    <th>                     </th>      <td> </td>     \n",
       "</tr>\n",
       "</table>\n",
       "<table class=\"simpletable\">\n",
       "<tr>\n",
       "        <td></td>          <th>coef</th>     <th>std err</th>      <th>t</th>      <th>P>|t|</th>  <th>[0.025</th>    <th>0.975]</th>  \n",
       "</tr>\n",
       "<tr>\n",
       "  <th>const</th>        <td>  1.79e+05</td> <td> 9.79e+04</td> <td>    1.828</td> <td> 0.068</td> <td>-1.29e+04</td> <td> 3.71e+05</td>\n",
       "</tr>\n",
       "<tr>\n",
       "  <th>AGE1</th>         <td> 2136.8019</td> <td>   90.752</td> <td>   23.546</td> <td> 0.000</td> <td> 1958.925</td> <td> 2314.679</td>\n",
       "</tr>\n",
       "<tr>\n",
       "  <th>LMED</th>         <td>   -0.0122</td> <td>    0.160</td> <td>   -0.076</td> <td> 0.939</td> <td>   -0.325</td> <td>    0.301</td>\n",
       "</tr>\n",
       "<tr>\n",
       "  <th>FMR</th>          <td>  126.7216</td> <td>    5.442</td> <td>   23.285</td> <td> 0.000</td> <td>  116.055</td> <td>  137.388</td>\n",
       "</tr>\n",
       "<tr>\n",
       "  <th>IPOV</th>         <td>   -9.6768</td> <td>    1.463</td> <td>   -6.615</td> <td> 0.000</td> <td>  -12.544</td> <td>   -6.809</td>\n",
       "</tr>\n",
       "<tr>\n",
       "  <th>BUILT</th>        <td> -186.8934</td> <td>   48.683</td> <td>   -3.839</td> <td> 0.000</td> <td> -282.314</td> <td>  -91.473</td>\n",
       "</tr>\n",
       "<tr>\n",
       "  <th>ROOMS</th>        <td> 1.391e+04</td> <td>  869.253</td> <td>   15.999</td> <td> 0.000</td> <td> 1.22e+04</td> <td> 1.56e+04</td>\n",
       "</tr>\n",
       "<tr>\n",
       "  <th>PER</th>          <td> 2.043e+04</td> <td> 5991.085</td> <td>    3.411</td> <td> 0.001</td> <td> 8692.119</td> <td> 3.22e+04</td>\n",
       "</tr>\n",
       "<tr>\n",
       "  <th>ZINC2</th>        <td>    0.4793</td> <td>    0.016</td> <td>   29.941</td> <td> 0.000</td> <td>    0.448</td> <td>    0.511</td>\n",
       "</tr>\n",
       "<tr>\n",
       "  <th>total_cost</th>   <td>  114.3134</td> <td>    1.295</td> <td>   88.272</td> <td> 0.000</td> <td>  111.775</td> <td>  116.852</td>\n",
       "</tr>\n",
       "<tr>\n",
       "  <th>Midwest</th>      <td>-7.526e+04</td> <td> 4435.001</td> <td>  -16.969</td> <td> 0.000</td> <td> -8.4e+04</td> <td>-6.66e+04</td>\n",
       "</tr>\n",
       "<tr>\n",
       "  <th>Northeast</th>    <td>-7.382e+04</td> <td> 4405.075</td> <td>  -16.759</td> <td> 0.000</td> <td>-8.25e+04</td> <td>-6.52e+04</td>\n",
       "</tr>\n",
       "<tr>\n",
       "  <th>South</th>        <td>-6.273e+04</td> <td> 4019.413</td> <td>  -15.607</td> <td> 0.000</td> <td>-7.06e+04</td> <td>-5.49e+04</td>\n",
       "</tr>\n",
       "<tr>\n",
       "  <th>central_city</th> <td>-1.036e+04</td> <td> 2959.067</td> <td>   -3.502</td> <td> 0.000</td> <td>-1.62e+04</td> <td>-4562.801</td>\n",
       "</tr>\n",
       "<tr>\n",
       "  <th>Adequate</th>     <td> 1.349e+04</td> <td> 7918.202</td> <td>    1.703</td> <td> 0.089</td> <td>-2034.515</td> <td>  2.9e+04</td>\n",
       "</tr>\n",
       "</table>\n",
       "<table class=\"simpletable\">\n",
       "<tr>\n",
       "  <th>Omnibus:</th>       <td>30606.729</td> <th>  Durbin-Watson:     </th>  <td>   1.914</td>  \n",
       "</tr>\n",
       "<tr>\n",
       "  <th>Prob(Omnibus):</th>  <td> 0.000</td>   <th>  Jarque-Bera (JB):  </th> <td>2336359.516</td>\n",
       "</tr>\n",
       "<tr>\n",
       "  <th>Skew:</th>           <td> 4.978</td>   <th>  Prob(JB):          </th>  <td>    0.00</td>  \n",
       "</tr>\n",
       "<tr>\n",
       "  <th>Kurtosis:</th>       <td>44.943</td>   <th>  Cond. No.          </th>  <td>1.14e+07</td>  \n",
       "</tr>\n",
       "</table><br/><br/>Notes:<br/>[1] Standard Errors assume that the covariance matrix of the errors is correctly specified.<br/>[2] The condition number is large, 1.14e+07. This might indicate that there are<br/>strong multicollinearity or other numerical problems."
      ],
      "text/latex": [
       "\\begin{center}\n",
       "\\begin{tabular}{lclc}\n",
       "\\toprule\n",
       "\\textbf{Dep. Variable:}    &      VALUE       & \\textbf{  R-squared:         } &      0.470   \\\\\n",
       "\\textbf{Model:}            &       OLS        & \\textbf{  Adj. R-squared:    } &      0.469   \\\\\n",
       "\\textbf{Method:}           &  Least Squares   & \\textbf{  F-statistic:       } &      1908.   \\\\\n",
       "\\textbf{Date:}             & Sun, 14 Jan 2024 & \\textbf{  Prob (F-statistic):} &      0.00    \\\\\n",
       "\\textbf{Time:}             &     21:46:13     & \\textbf{  Log-Likelihood:    } & -4.1189e+05  \\\\\n",
       "\\textbf{No. Observations:} &       30174      & \\textbf{  AIC:               } &  8.238e+05   \\\\\n",
       "\\textbf{Df Residuals:}     &       30159      & \\textbf{  BIC:               } &  8.239e+05   \\\\\n",
       "\\textbf{Df Model:}         &          14      & \\textbf{                     } &              \\\\\n",
       "\\textbf{Covariance Type:}  &    nonrobust     & \\textbf{                     } &              \\\\\n",
       "\\bottomrule\n",
       "\\end{tabular}\n",
       "\\begin{tabular}{lcccccc}\n",
       "                       & \\textbf{coef} & \\textbf{std err} & \\textbf{t} & \\textbf{P$> |$t$|$} & \\textbf{[0.025} & \\textbf{0.975]}  \\\\\n",
       "\\midrule\n",
       "\\textbf{const}         &     1.79e+05  &     9.79e+04     &     1.828  &         0.068        &    -1.29e+04    &     3.71e+05     \\\\\n",
       "\\textbf{AGE1}          &    2136.8019  &       90.752     &    23.546  &         0.000        &     1958.925    &     2314.679     \\\\\n",
       "\\textbf{LMED}          &      -0.0122  &        0.160     &    -0.076  &         0.939        &       -0.325    &        0.301     \\\\\n",
       "\\textbf{FMR}           &     126.7216  &        5.442     &    23.285  &         0.000        &      116.055    &      137.388     \\\\\n",
       "\\textbf{IPOV}          &      -9.6768  &        1.463     &    -6.615  &         0.000        &      -12.544    &       -6.809     \\\\\n",
       "\\textbf{BUILT}         &    -186.8934  &       48.683     &    -3.839  &         0.000        &     -282.314    &      -91.473     \\\\\n",
       "\\textbf{ROOMS}         &    1.391e+04  &      869.253     &    15.999  &         0.000        &     1.22e+04    &     1.56e+04     \\\\\n",
       "\\textbf{PER}           &    2.043e+04  &     5991.085     &     3.411  &         0.001        &     8692.119    &     3.22e+04     \\\\\n",
       "\\textbf{ZINC2}         &       0.4793  &        0.016     &    29.941  &         0.000        &        0.448    &        0.511     \\\\\n",
       "\\textbf{total\\_cost}   &     114.3134  &        1.295     &    88.272  &         0.000        &      111.775    &      116.852     \\\\\n",
       "\\textbf{Midwest}       &   -7.526e+04  &     4435.001     &   -16.969  &         0.000        &     -8.4e+04    &    -6.66e+04     \\\\\n",
       "\\textbf{Northeast}     &   -7.382e+04  &     4405.075     &   -16.759  &         0.000        &    -8.25e+04    &    -6.52e+04     \\\\\n",
       "\\textbf{South}         &   -6.273e+04  &     4019.413     &   -15.607  &         0.000        &    -7.06e+04    &    -5.49e+04     \\\\\n",
       "\\textbf{central\\_city} &   -1.036e+04  &     2959.067     &    -3.502  &         0.000        &    -1.62e+04    &    -4562.801     \\\\\n",
       "\\textbf{Adequate}      &    1.349e+04  &     7918.202     &     1.703  &         0.089        &    -2034.515    &      2.9e+04     \\\\\n",
       "\\bottomrule\n",
       "\\end{tabular}\n",
       "\\begin{tabular}{lclc}\n",
       "\\textbf{Omnibus:}       & 30606.729 & \\textbf{  Durbin-Watson:     } &      1.914   \\\\\n",
       "\\textbf{Prob(Omnibus):} &    0.000  & \\textbf{  Jarque-Bera (JB):  } & 2336359.516  \\\\\n",
       "\\textbf{Skew:}          &    4.978  & \\textbf{  Prob(JB):          } &       0.00   \\\\\n",
       "\\textbf{Kurtosis:}      &   44.943  & \\textbf{  Cond. No.          } &   1.14e+07   \\\\\n",
       "\\bottomrule\n",
       "\\end{tabular}\n",
       "%\\caption{OLS Regression Results}\n",
       "\\end{center}\n",
       "\n",
       "Notes: \\newline\n",
       " [1] Standard Errors assume that the covariance matrix of the errors is correctly specified. \\newline\n",
       " [2] The condition number is large, 1.14e+07. This might indicate that there are \\newline\n",
       " strong multicollinearity or other numerical problems."
      ],
      "text/plain": [
       "<class 'statsmodels.iolib.summary.Summary'>\n",
       "\"\"\"\n",
       "                            OLS Regression Results                            \n",
       "==============================================================================\n",
       "Dep. Variable:                  VALUE   R-squared:                       0.470\n",
       "Model:                            OLS   Adj. R-squared:                  0.469\n",
       "Method:                 Least Squares   F-statistic:                     1908.\n",
       "Date:                Sun, 14 Jan 2024   Prob (F-statistic):               0.00\n",
       "Time:                        21:46:13   Log-Likelihood:            -4.1189e+05\n",
       "No. Observations:               30174   AIC:                         8.238e+05\n",
       "Df Residuals:                   30159   BIC:                         8.239e+05\n",
       "Df Model:                          14                                         \n",
       "Covariance Type:            nonrobust                                         \n",
       "================================================================================\n",
       "                   coef    std err          t      P>|t|      [0.025      0.975]\n",
       "--------------------------------------------------------------------------------\n",
       "const          1.79e+05   9.79e+04      1.828      0.068   -1.29e+04    3.71e+05\n",
       "AGE1          2136.8019     90.752     23.546      0.000    1958.925    2314.679\n",
       "LMED            -0.0122      0.160     -0.076      0.939      -0.325       0.301\n",
       "FMR            126.7216      5.442     23.285      0.000     116.055     137.388\n",
       "IPOV            -9.6768      1.463     -6.615      0.000     -12.544      -6.809\n",
       "BUILT         -186.8934     48.683     -3.839      0.000    -282.314     -91.473\n",
       "ROOMS         1.391e+04    869.253     15.999      0.000    1.22e+04    1.56e+04\n",
       "PER           2.043e+04   5991.085      3.411      0.001    8692.119    3.22e+04\n",
       "ZINC2            0.4793      0.016     29.941      0.000       0.448       0.511\n",
       "total_cost     114.3134      1.295     88.272      0.000     111.775     116.852\n",
       "Midwest      -7.526e+04   4435.001    -16.969      0.000    -8.4e+04   -6.66e+04\n",
       "Northeast    -7.382e+04   4405.075    -16.759      0.000   -8.25e+04   -6.52e+04\n",
       "South        -6.273e+04   4019.413    -15.607      0.000   -7.06e+04   -5.49e+04\n",
       "central_city -1.036e+04   2959.067     -3.502      0.000   -1.62e+04   -4562.801\n",
       "Adequate      1.349e+04   7918.202      1.703      0.089   -2034.515     2.9e+04\n",
       "==============================================================================\n",
       "Omnibus:                    30606.729   Durbin-Watson:                   1.914\n",
       "Prob(Omnibus):                  0.000   Jarque-Bera (JB):          2336359.516\n",
       "Skew:                           4.978   Prob(JB):                         0.00\n",
       "Kurtosis:                      44.943   Cond. No.                     1.14e+07\n",
       "==============================================================================\n",
       "\n",
       "Notes:\n",
       "[1] Standard Errors assume that the covariance matrix of the errors is correctly specified.\n",
       "[2] The condition number is large, 1.14e+07. This might indicate that there are\n",
       "strong multicollinearity or other numerical problems.\n",
       "\"\"\""
      ]
     },
     "execution_count": 79,
     "metadata": {},
     "output_type": "execute_result"
    }
   ],
   "source": [
    "y = owned_single_family_housing_df[\"VALUE\"]\n",
    "X_new = sm.add_constant(X_cleaned)\n",
    "# Create the linear model\n",
    "model = sm.OLS(y, X_new)\n",
    "# Fit the model\n",
    "results = model.fit()\n",
    "# Print out the summary of the model results\n",
    "results.summary()"
   ]
  },
  {
   "cell_type": "code",
   "execution_count": 80,
   "id": "6a06fc92",
   "metadata": {},
   "outputs": [
    {
     "name": "stdout",
     "output_type": "stream",
     "text": [
      "         feature         VIF\n",
      "0           AGE1   18.989908\n",
      "1           LMED   87.123319\n",
      "2            FMR   38.378476\n",
      "3           IPOV  528.409464\n",
      "4          BUILT  220.863768\n",
      "5          ROOMS   26.359082\n",
      "6            PER  228.799280\n",
      "7          ZINC2    2.869590\n",
      "8     total_cost    5.239554\n",
      "9        Midwest    4.144784\n",
      "10     Northeast    3.330547\n",
      "11         South    3.414944\n",
      "12  central_city    1.293290\n",
      "13      Adequate   43.886523\n"
     ]
    }
   ],
   "source": [
    "# Remove variables that may cause a multicollinearity issue\n",
    "X_reduced = X.drop(columns=[\"BEDRMS\"])\n",
    "# VIF dataframe \n",
    "vif_data_2 = pd.DataFrame() \n",
    "vif_data_2[\"feature\"] = X_reduced.columns \n",
    "  \n",
    "# calculating VIF for each feature \n",
    "vif_data_2[\"VIF\"] = [variance_inflation_factor(X_reduced.values, i) \n",
    "                          for i in range(len(X_reduced.columns))] \n",
    "  \n",
    "print(vif_data_2)"
   ]
  },
  {
   "cell_type": "code",
   "execution_count": 81,
   "id": "19f8e651",
   "metadata": {},
   "outputs": [
    {
     "data": {
      "text/html": [
       "<div>\n",
       "<style scoped>\n",
       "    .dataframe tbody tr th:only-of-type {\n",
       "        vertical-align: middle;\n",
       "    }\n",
       "\n",
       "    .dataframe tbody tr th {\n",
       "        vertical-align: top;\n",
       "    }\n",
       "\n",
       "    .dataframe thead th {\n",
       "        text-align: right;\n",
       "    }\n",
       "</style>\n",
       "<table border=\"1\" class=\"dataframe\">\n",
       "  <thead>\n",
       "    <tr style=\"text-align: right;\">\n",
       "      <th></th>\n",
       "      <th>AGE1</th>\n",
       "      <th>BUILT</th>\n",
       "      <th>ROOMS</th>\n",
       "      <th>PER</th>\n",
       "      <th>Midwest</th>\n",
       "      <th>Northeast</th>\n",
       "      <th>South</th>\n",
       "      <th>central_city</th>\n",
       "      <th>Adequate</th>\n",
       "      <th>ln_total_cost</th>\n",
       "      <th>sqrt_ZINC2</th>\n",
       "      <th>ln_lmed</th>\n",
       "      <th>ln_fmr</th>\n",
       "      <th>ln_ipov</th>\n",
       "    </tr>\n",
       "  </thead>\n",
       "  <tbody>\n",
       "    <tr>\n",
       "      <th>0</th>\n",
       "      <td>82</td>\n",
       "      <td>2006</td>\n",
       "      <td>6</td>\n",
       "      <td>1</td>\n",
       "      <td>0</td>\n",
       "      <td>1</td>\n",
       "      <td>0</td>\n",
       "      <td>0</td>\n",
       "      <td>1</td>\n",
       "      <td>6.819743</td>\n",
       "      <td>134.242318</td>\n",
       "      <td>11.208274</td>\n",
       "      <td>6.862758</td>\n",
       "      <td>9.311723</td>\n",
       "    </tr>\n",
       "    <tr>\n",
       "      <th>1</th>\n",
       "      <td>50</td>\n",
       "      <td>1980</td>\n",
       "      <td>6</td>\n",
       "      <td>4</td>\n",
       "      <td>0</td>\n",
       "      <td>0</td>\n",
       "      <td>1</td>\n",
       "      <td>0</td>\n",
       "      <td>1</td>\n",
       "      <td>6.672876</td>\n",
       "      <td>350.657953</td>\n",
       "      <td>10.930353</td>\n",
       "      <td>7.003065</td>\n",
       "      <td>10.094851</td>\n",
       "    </tr>\n",
       "    <tr>\n",
       "      <th>2</th>\n",
       "      <td>53</td>\n",
       "      <td>1985</td>\n",
       "      <td>7</td>\n",
       "      <td>2</td>\n",
       "      <td>0</td>\n",
       "      <td>0</td>\n",
       "      <td>1</td>\n",
       "      <td>0</td>\n",
       "      <td>1</td>\n",
       "      <td>7.378696</td>\n",
       "      <td>167.254297</td>\n",
       "      <td>10.930353</td>\n",
       "      <td>7.003065</td>\n",
       "      <td>9.646658</td>\n",
       "    </tr>\n",
       "    <tr>\n",
       "      <th>3</th>\n",
       "      <td>67</td>\n",
       "      <td>1985</td>\n",
       "      <td>6</td>\n",
       "      <td>2</td>\n",
       "      <td>0</td>\n",
       "      <td>0</td>\n",
       "      <td>1</td>\n",
       "      <td>0</td>\n",
       "      <td>1</td>\n",
       "      <td>6.270358</td>\n",
       "      <td>179.499304</td>\n",
       "      <td>10.930353</td>\n",
       "      <td>6.855409</td>\n",
       "      <td>9.544238</td>\n",
       "    </tr>\n",
       "    <tr>\n",
       "      <th>4</th>\n",
       "      <td>50</td>\n",
       "      <td>1985</td>\n",
       "      <td>6</td>\n",
       "      <td>3</td>\n",
       "      <td>0</td>\n",
       "      <td>0</td>\n",
       "      <td>1</td>\n",
       "      <td>1</td>\n",
       "      <td>1</td>\n",
       "      <td>7.297091</td>\n",
       "      <td>264.503308</td>\n",
       "      <td>11.018482</td>\n",
       "      <td>6.895683</td>\n",
       "      <td>9.800901</td>\n",
       "    </tr>\n",
       "  </tbody>\n",
       "</table>\n",
       "</div>"
      ],
      "text/plain": [
       "   AGE1  BUILT  ROOMS  PER  Midwest  Northeast  South  central_city  Adequate  \\\n",
       "0    82   2006      6    1        0          1      0             0         1   \n",
       "1    50   1980      6    4        0          0      1             0         1   \n",
       "2    53   1985      7    2        0          0      1             0         1   \n",
       "3    67   1985      6    2        0          0      1             0         1   \n",
       "4    50   1985      6    3        0          0      1             1         1   \n",
       "\n",
       "   ln_total_cost  sqrt_ZINC2    ln_lmed    ln_fmr    ln_ipov  \n",
       "0       6.819743  134.242318  11.208274  6.862758   9.311723  \n",
       "1       6.672876  350.657953  10.930353  7.003065  10.094851  \n",
       "2       7.378696  167.254297  10.930353  7.003065   9.646658  \n",
       "3       6.270358  179.499304  10.930353  6.855409   9.544238  \n",
       "4       7.297091  264.503308  11.018482  6.895683   9.800901  "
      ]
     },
     "execution_count": 81,
     "metadata": {},
     "output_type": "execute_result"
    }
   ],
   "source": [
    "X_reduced[\"ln_total_cost\"] = np.log(X_reduced.total_cost)\n",
    "X_reduced[\"sqrt_ZINC2\"] = np.sqrt(X_reduced.ZINC2)\n",
    "X_reduced[\"ln_lmed\"] = np.log(X_reduced.LMED)\n",
    "X_reduced[\"ln_fmr\"] = np.log(X_reduced.FMR)\n",
    "X_reduced[\"ln_ipov\"] = np.log(X_reduced.IPOV)\n",
    "X_reduced_cleaned = X_reduced.drop(columns=[\"total_cost\", \"ZINC2\", \"LMED\", \"FMR\", \"IPOV\"])\n",
    "X_reduced_cleaned.head()"
   ]
  },
  {
   "cell_type": "code",
   "execution_count": 82,
   "id": "a92fac1f",
   "metadata": {},
   "outputs": [
    {
     "data": {
      "text/html": [
       "<table class=\"simpletable\">\n",
       "<caption>OLS Regression Results</caption>\n",
       "<tr>\n",
       "  <th>Dep. Variable:</th>        <td>ln_value</td>     <th>  R-squared:         </th> <td>   0.544</td> \n",
       "</tr>\n",
       "<tr>\n",
       "  <th>Model:</th>                   <td>OLS</td>       <th>  Adj. R-squared:    </th> <td>   0.544</td> \n",
       "</tr>\n",
       "<tr>\n",
       "  <th>Method:</th>             <td>Least Squares</td>  <th>  F-statistic:       </th> <td>   2573.</td> \n",
       "</tr>\n",
       "<tr>\n",
       "  <th>Date:</th>             <td>Sun, 14 Jan 2024</td> <th>  Prob (F-statistic):</th>  <td>  0.00</td>  \n",
       "</tr>\n",
       "<tr>\n",
       "  <th>Time:</th>                 <td>21:46:14</td>     <th>  Log-Likelihood:    </th> <td> -23919.</td> \n",
       "</tr>\n",
       "<tr>\n",
       "  <th>No. Observations:</th>      <td> 30174</td>      <th>  AIC:               </th> <td>4.787e+04</td>\n",
       "</tr>\n",
       "<tr>\n",
       "  <th>Df Residuals:</th>          <td> 30159</td>      <th>  BIC:               </th> <td>4.799e+04</td>\n",
       "</tr>\n",
       "<tr>\n",
       "  <th>Df Model:</th>              <td>    14</td>      <th>                     </th>     <td> </td>    \n",
       "</tr>\n",
       "<tr>\n",
       "  <th>Covariance Type:</th>      <td>nonrobust</td>    <th>                     </th>     <td> </td>    \n",
       "</tr>\n",
       "</table>\n",
       "<table class=\"simpletable\">\n",
       "<tr>\n",
       "        <td></td>           <th>coef</th>     <th>std err</th>      <th>t</th>      <th>P>|t|</th>  <th>[0.025</th>    <th>0.975]</th>  \n",
       "</tr>\n",
       "<tr>\n",
       "  <th>const</th>         <td>    0.1251</td> <td>    0.682</td> <td>    0.183</td> <td> 0.854</td> <td>   -1.211</td> <td>    1.462</td>\n",
       "</tr>\n",
       "<tr>\n",
       "  <th>AGE1</th>          <td>    0.0068</td> <td>    0.000</td> <td>   26.339</td> <td> 0.000</td> <td>    0.006</td> <td>    0.007</td>\n",
       "</tr>\n",
       "<tr>\n",
       "  <th>BUILT</th>         <td>    0.0026</td> <td>    0.000</td> <td>   20.218</td> <td> 0.000</td> <td>    0.002</td> <td>    0.003</td>\n",
       "</tr>\n",
       "<tr>\n",
       "  <th>ROOMS</th>         <td>    0.0667</td> <td>    0.002</td> <td>   28.952</td> <td> 0.000</td> <td>    0.062</td> <td>    0.071</td>\n",
       "</tr>\n",
       "<tr>\n",
       "  <th>PER</th>           <td>    0.0469</td> <td>    0.012</td> <td>    3.792</td> <td> 0.000</td> <td>    0.023</td> <td>    0.071</td>\n",
       "</tr>\n",
       "<tr>\n",
       "  <th>Midwest</th>       <td>   -0.3301</td> <td>    0.012</td> <td>  -28.660</td> <td> 0.000</td> <td>   -0.353</td> <td>   -0.307</td>\n",
       "</tr>\n",
       "<tr>\n",
       "  <th>Northeast</th>     <td>   -0.1729</td> <td>    0.011</td> <td>  -15.331</td> <td> 0.000</td> <td>   -0.195</td> <td>   -0.151</td>\n",
       "</tr>\n",
       "<tr>\n",
       "  <th>South</th>         <td>   -0.2409</td> <td>    0.010</td> <td>  -23.158</td> <td> 0.000</td> <td>   -0.261</td> <td>   -0.221</td>\n",
       "</tr>\n",
       "<tr>\n",
       "  <th>central_city</th>  <td>   -0.0811</td> <td>    0.008</td> <td>  -10.501</td> <td> 0.000</td> <td>   -0.096</td> <td>   -0.066</td>\n",
       "</tr>\n",
       "<tr>\n",
       "  <th>Adequate</th>      <td>    0.1372</td> <td>    0.021</td> <td>    6.648</td> <td> 0.000</td> <td>    0.097</td> <td>    0.178</td>\n",
       "</tr>\n",
       "<tr>\n",
       "  <th>ln_total_cost</th> <td>    0.5033</td> <td>    0.007</td> <td>   75.331</td> <td> 0.000</td> <td>    0.490</td> <td>    0.516</td>\n",
       "</tr>\n",
       "<tr>\n",
       "  <th>sqrt_ZINC2</th>    <td>    0.0012</td> <td> 3.06e-05</td> <td>   39.636</td> <td> 0.000</td> <td>    0.001</td> <td>    0.001</td>\n",
       "</tr>\n",
       "<tr>\n",
       "  <th>ln_lmed</th>       <td>    0.3095</td> <td>    0.029</td> <td>   10.507</td> <td> 0.000</td> <td>    0.252</td> <td>    0.367</td>\n",
       "</tr>\n",
       "<tr>\n",
       "  <th>ln_fmr</th>        <td>    0.4461</td> <td>    0.019</td> <td>   23.185</td> <td> 0.000</td> <td>    0.408</td> <td>    0.484</td>\n",
       "</tr>\n",
       "<tr>\n",
       "  <th>ln_ipov</th>       <td>   -0.4627</td> <td>    0.061</td> <td>   -7.583</td> <td> 0.000</td> <td>   -0.582</td> <td>   -0.343</td>\n",
       "</tr>\n",
       "</table>\n",
       "<table class=\"simpletable\">\n",
       "<tr>\n",
       "  <th>Omnibus:</th>       <td>2465.572</td> <th>  Durbin-Watson:     </th> <td>   1.851</td>\n",
       "</tr>\n",
       "<tr>\n",
       "  <th>Prob(Omnibus):</th>  <td> 0.000</td>  <th>  Jarque-Bera (JB):  </th> <td>9572.312</td>\n",
       "</tr>\n",
       "<tr>\n",
       "  <th>Skew:</th>           <td>-0.345</td>  <th>  Prob(JB):          </th> <td>    0.00</td>\n",
       "</tr>\n",
       "<tr>\n",
       "  <th>Kurtosis:</th>       <td> 5.672</td>  <th>  Cond. No.          </th> <td>4.42e+05</td>\n",
       "</tr>\n",
       "</table><br/><br/>Notes:<br/>[1] Standard Errors assume that the covariance matrix of the errors is correctly specified.<br/>[2] The condition number is large, 4.42e+05. This might indicate that there are<br/>strong multicollinearity or other numerical problems."
      ],
      "text/latex": [
       "\\begin{center}\n",
       "\\begin{tabular}{lclc}\n",
       "\\toprule\n",
       "\\textbf{Dep. Variable:}    &    ln\\_value     & \\textbf{  R-squared:         } &     0.544   \\\\\n",
       "\\textbf{Model:}            &       OLS        & \\textbf{  Adj. R-squared:    } &     0.544   \\\\\n",
       "\\textbf{Method:}           &  Least Squares   & \\textbf{  F-statistic:       } &     2573.   \\\\\n",
       "\\textbf{Date:}             & Sun, 14 Jan 2024 & \\textbf{  Prob (F-statistic):} &     0.00    \\\\\n",
       "\\textbf{Time:}             &     21:46:14     & \\textbf{  Log-Likelihood:    } &   -23919.   \\\\\n",
       "\\textbf{No. Observations:} &       30174      & \\textbf{  AIC:               } & 4.787e+04   \\\\\n",
       "\\textbf{Df Residuals:}     &       30159      & \\textbf{  BIC:               } & 4.799e+04   \\\\\n",
       "\\textbf{Df Model:}         &          14      & \\textbf{                     } &             \\\\\n",
       "\\textbf{Covariance Type:}  &    nonrobust     & \\textbf{                     } &             \\\\\n",
       "\\bottomrule\n",
       "\\end{tabular}\n",
       "\\begin{tabular}{lcccccc}\n",
       "                         & \\textbf{coef} & \\textbf{std err} & \\textbf{t} & \\textbf{P$> |$t$|$} & \\textbf{[0.025} & \\textbf{0.975]}  \\\\\n",
       "\\midrule\n",
       "\\textbf{const}           &       0.1251  &        0.682     &     0.183  &         0.854        &       -1.211    &        1.462     \\\\\n",
       "\\textbf{AGE1}            &       0.0068  &        0.000     &    26.339  &         0.000        &        0.006    &        0.007     \\\\\n",
       "\\textbf{BUILT}           &       0.0026  &        0.000     &    20.218  &         0.000        &        0.002    &        0.003     \\\\\n",
       "\\textbf{ROOMS}           &       0.0667  &        0.002     &    28.952  &         0.000        &        0.062    &        0.071     \\\\\n",
       "\\textbf{PER}             &       0.0469  &        0.012     &     3.792  &         0.000        &        0.023    &        0.071     \\\\\n",
       "\\textbf{Midwest}         &      -0.3301  &        0.012     &   -28.660  &         0.000        &       -0.353    &       -0.307     \\\\\n",
       "\\textbf{Northeast}       &      -0.1729  &        0.011     &   -15.331  &         0.000        &       -0.195    &       -0.151     \\\\\n",
       "\\textbf{South}           &      -0.2409  &        0.010     &   -23.158  &         0.000        &       -0.261    &       -0.221     \\\\\n",
       "\\textbf{central\\_city}   &      -0.0811  &        0.008     &   -10.501  &         0.000        &       -0.096    &       -0.066     \\\\\n",
       "\\textbf{Adequate}        &       0.1372  &        0.021     &     6.648  &         0.000        &        0.097    &        0.178     \\\\\n",
       "\\textbf{ln\\_total\\_cost} &       0.5033  &        0.007     &    75.331  &         0.000        &        0.490    &        0.516     \\\\\n",
       "\\textbf{sqrt\\_ZINC2}     &       0.0012  &     3.06e-05     &    39.636  &         0.000        &        0.001    &        0.001     \\\\\n",
       "\\textbf{ln\\_lmed}        &       0.3095  &        0.029     &    10.507  &         0.000        &        0.252    &        0.367     \\\\\n",
       "\\textbf{ln\\_fmr}         &       0.4461  &        0.019     &    23.185  &         0.000        &        0.408    &        0.484     \\\\\n",
       "\\textbf{ln\\_ipov}        &      -0.4627  &        0.061     &    -7.583  &         0.000        &       -0.582    &       -0.343     \\\\\n",
       "\\bottomrule\n",
       "\\end{tabular}\n",
       "\\begin{tabular}{lclc}\n",
       "\\textbf{Omnibus:}       & 2465.572 & \\textbf{  Durbin-Watson:     } &    1.851  \\\\\n",
       "\\textbf{Prob(Omnibus):} &   0.000  & \\textbf{  Jarque-Bera (JB):  } & 9572.312  \\\\\n",
       "\\textbf{Skew:}          &  -0.345  & \\textbf{  Prob(JB):          } &     0.00  \\\\\n",
       "\\textbf{Kurtosis:}      &   5.672  & \\textbf{  Cond. No.          } & 4.42e+05  \\\\\n",
       "\\bottomrule\n",
       "\\end{tabular}\n",
       "%\\caption{OLS Regression Results}\n",
       "\\end{center}\n",
       "\n",
       "Notes: \\newline\n",
       " [1] Standard Errors assume that the covariance matrix of the errors is correctly specified. \\newline\n",
       " [2] The condition number is large, 4.42e+05. This might indicate that there are \\newline\n",
       " strong multicollinearity or other numerical problems."
      ],
      "text/plain": [
       "<class 'statsmodels.iolib.summary.Summary'>\n",
       "\"\"\"\n",
       "                            OLS Regression Results                            \n",
       "==============================================================================\n",
       "Dep. Variable:               ln_value   R-squared:                       0.544\n",
       "Model:                            OLS   Adj. R-squared:                  0.544\n",
       "Method:                 Least Squares   F-statistic:                     2573.\n",
       "Date:                Sun, 14 Jan 2024   Prob (F-statistic):               0.00\n",
       "Time:                        21:46:14   Log-Likelihood:                -23919.\n",
       "No. Observations:               30174   AIC:                         4.787e+04\n",
       "Df Residuals:                   30159   BIC:                         4.799e+04\n",
       "Df Model:                          14                                         \n",
       "Covariance Type:            nonrobust                                         \n",
       "=================================================================================\n",
       "                    coef    std err          t      P>|t|      [0.025      0.975]\n",
       "---------------------------------------------------------------------------------\n",
       "const             0.1251      0.682      0.183      0.854      -1.211       1.462\n",
       "AGE1              0.0068      0.000     26.339      0.000       0.006       0.007\n",
       "BUILT             0.0026      0.000     20.218      0.000       0.002       0.003\n",
       "ROOMS             0.0667      0.002     28.952      0.000       0.062       0.071\n",
       "PER               0.0469      0.012      3.792      0.000       0.023       0.071\n",
       "Midwest          -0.3301      0.012    -28.660      0.000      -0.353      -0.307\n",
       "Northeast        -0.1729      0.011    -15.331      0.000      -0.195      -0.151\n",
       "South            -0.2409      0.010    -23.158      0.000      -0.261      -0.221\n",
       "central_city     -0.0811      0.008    -10.501      0.000      -0.096      -0.066\n",
       "Adequate          0.1372      0.021      6.648      0.000       0.097       0.178\n",
       "ln_total_cost     0.5033      0.007     75.331      0.000       0.490       0.516\n",
       "sqrt_ZINC2        0.0012   3.06e-05     39.636      0.000       0.001       0.001\n",
       "ln_lmed           0.3095      0.029     10.507      0.000       0.252       0.367\n",
       "ln_fmr            0.4461      0.019     23.185      0.000       0.408       0.484\n",
       "ln_ipov          -0.4627      0.061     -7.583      0.000      -0.582      -0.343\n",
       "==============================================================================\n",
       "Omnibus:                     2465.572   Durbin-Watson:                   1.851\n",
       "Prob(Omnibus):                  0.000   Jarque-Bera (JB):             9572.312\n",
       "Skew:                          -0.345   Prob(JB):                         0.00\n",
       "Kurtosis:                       5.672   Cond. No.                     4.42e+05\n",
       "==============================================================================\n",
       "\n",
       "Notes:\n",
       "[1] Standard Errors assume that the covariance matrix of the errors is correctly specified.\n",
       "[2] The condition number is large, 4.42e+05. This might indicate that there are\n",
       "strong multicollinearity or other numerical problems.\n",
       "\"\"\""
      ]
     },
     "execution_count": 82,
     "metadata": {},
     "output_type": "execute_result"
    }
   ],
   "source": [
    "y = owned_single_family_housing_df[\"ln_value\"]\n",
    "X_reduced_new = sm.add_constant(X_reduced_cleaned)\n",
    "# Create the linear model\n",
    "model_reduced = sm.OLS(y, X_reduced_new)\n",
    "# Fit the model\n",
    "results_reduced = model_reduced.fit()\n",
    "# Print out the summary of the model results\n",
    "results_reduced.summary()"
   ]
  },
  {
   "cell_type": "markdown",
   "id": "95c823a4",
   "metadata": {},
   "source": [
    "### Analysis of Variance"
   ]
  },
  {
   "cell_type": "code",
   "execution_count": 83,
   "id": "594a9a7f",
   "metadata": {},
   "outputs": [
    {
     "data": {
      "text/html": [
       "<div>\n",
       "<style scoped>\n",
       "    .dataframe tbody tr th:only-of-type {\n",
       "        vertical-align: middle;\n",
       "    }\n",
       "\n",
       "    .dataframe tbody tr th {\n",
       "        vertical-align: top;\n",
       "    }\n",
       "\n",
       "    .dataframe thead th {\n",
       "        text-align: right;\n",
       "    }\n",
       "</style>\n",
       "<table border=\"1\" class=\"dataframe\">\n",
       "  <thead>\n",
       "    <tr style=\"text-align: right;\">\n",
       "      <th></th>\n",
       "      <th>sum_sq</th>\n",
       "      <th>df</th>\n",
       "      <th>F</th>\n",
       "      <th>PR(&gt;F)</th>\n",
       "    </tr>\n",
       "  </thead>\n",
       "  <tbody>\n",
       "    <tr>\n",
       "      <th>C(REGION)</th>\n",
       "      <td>2305.719476</td>\n",
       "      <td>3.0</td>\n",
       "      <td>1395.326198</td>\n",
       "      <td>0.0</td>\n",
       "    </tr>\n",
       "    <tr>\n",
       "      <th>Residual</th>\n",
       "      <td>16618.230365</td>\n",
       "      <td>30170.0</td>\n",
       "      <td>NaN</td>\n",
       "      <td>NaN</td>\n",
       "    </tr>\n",
       "  </tbody>\n",
       "</table>\n",
       "</div>"
      ],
      "text/plain": [
       "                 sum_sq       df            F  PR(>F)\n",
       "C(REGION)   2305.719476      3.0  1395.326198     0.0\n",
       "Residual   16618.230365  30170.0          NaN     NaN"
      ]
     },
     "execution_count": 83,
     "metadata": {},
     "output_type": "execute_result"
    }
   ],
   "source": [
    "# Ordinary Least Squares (OLS) model\n",
    "model_aov = ols('ln_value ~ C(REGION)', data = owned_single_family_housing_df).fit()\n",
    "anova_table = sm.stats.anova_lm(model_aov, typ=2)\n",
    "anova_table"
   ]
  },
  {
   "cell_type": "code",
   "execution_count": 84,
   "id": "d1e2ccbf",
   "metadata": {},
   "outputs": [],
   "source": [
    "# Independent ttest by Region\n",
    "region_northwest = owned_single_family_housing_df[owned_single_family_housing_df.REGION==\"Northeast\"][\"VALUE\"]\n",
    "region_west = owned_single_family_housing_df[owned_single_family_housing_df.REGION==\"West\"][\"VALUE\"]\n",
    "region_south = owned_single_family_housing_df[owned_single_family_housing_df.REGION==\"South\"][\"VALUE\"]\n",
    "region_midwest = owned_single_family_housing_df[owned_single_family_housing_df.REGION==\"Midwest\"][\"VALUE\"]"
   ]
  },
  {
   "cell_type": "code",
   "execution_count": 85,
   "id": "8ae36b7f",
   "metadata": {},
   "outputs": [
    {
     "data": {
      "text/plain": [
       "scipy.stats._hypotests.TukeyHSDResult"
      ]
     },
     "execution_count": 85,
     "metadata": {},
     "output_type": "execute_result"
    }
   ],
   "source": [
    "res_region = stats.tukey_hsd(region_northwest, region_west, region_south, region_midwest)\n",
    "type(res_region)"
   ]
  },
  {
   "cell_type": "markdown",
   "id": "fa8716c3",
   "metadata": {},
   "source": [
    "Using Tukey HSD test, all the means of current market values are different throughout all 4 regions as shown in the table above. P-values of all groups are close to zero, and thus the null hypothesis is rejected. The null hypothesis claims that the means between two groups are equal.  "
   ]
  },
  {
   "cell_type": "markdown",
   "id": "c9c0ec95",
   "metadata": {},
   "source": [
    "### Summary Tables"
   ]
  },
  {
   "cell_type": "code",
   "execution_count": 86,
   "id": "e6e32bd0",
   "metadata": {},
   "outputs": [
    {
     "data": {
      "text/html": [
       "<div>\n",
       "<style scoped>\n",
       "    .dataframe tbody tr th:only-of-type {\n",
       "        vertical-align: middle;\n",
       "    }\n",
       "\n",
       "    .dataframe tbody tr th {\n",
       "        vertical-align: top;\n",
       "    }\n",
       "\n",
       "    .dataframe thead th {\n",
       "        text-align: right;\n",
       "    }\n",
       "</style>\n",
       "<table border=\"1\" class=\"dataframe\">\n",
       "  <thead>\n",
       "    <tr style=\"text-align: right;\">\n",
       "      <th></th>\n",
       "      <th>REGION</th>\n",
       "      <th>FMR</th>\n",
       "      <th>IPOV</th>\n",
       "      <th>LMED</th>\n",
       "      <th>PER</th>\n",
       "      <th>ROOMS</th>\n",
       "      <th>VALUE</th>\n",
       "      <th>ZINC2</th>\n",
       "      <th>ln_value</th>\n",
       "      <th>total_cost</th>\n",
       "    </tr>\n",
       "  </thead>\n",
       "  <tbody>\n",
       "    <tr>\n",
       "      <th>0</th>\n",
       "      <td>Midwest</td>\n",
       "      <td>1053.29</td>\n",
       "      <td>17654.28</td>\n",
       "      <td>65497.60</td>\n",
       "      <td>2.62</td>\n",
       "      <td>6.73</td>\n",
       "      <td>186870.77</td>\n",
       "      <td>84145.04</td>\n",
       "      <td>11.86</td>\n",
       "      <td>1502.39</td>\n",
       "    </tr>\n",
       "    <tr>\n",
       "      <th>1</th>\n",
       "      <td>South</td>\n",
       "      <td>1163.39</td>\n",
       "      <td>17390.63</td>\n",
       "      <td>61205.95</td>\n",
       "      <td>2.55</td>\n",
       "      <td>6.74</td>\n",
       "      <td>216831.41</td>\n",
       "      <td>83743.34</td>\n",
       "      <td>12.00</td>\n",
       "      <td>1536.89</td>\n",
       "    </tr>\n",
       "    <tr>\n",
       "      <th>2</th>\n",
       "      <td>Northeast</td>\n",
       "      <td>1515.51</td>\n",
       "      <td>18148.62</td>\n",
       "      <td>80309.21</td>\n",
       "      <td>2.74</td>\n",
       "      <td>6.90</td>\n",
       "      <td>328229.01</td>\n",
       "      <td>101913.84</td>\n",
       "      <td>12.44</td>\n",
       "      <td>2113.13</td>\n",
       "    </tr>\n",
       "    <tr>\n",
       "      <th>3</th>\n",
       "      <td>West</td>\n",
       "      <td>1585.94</td>\n",
       "      <td>18227.47</td>\n",
       "      <td>68912.90</td>\n",
       "      <td>2.76</td>\n",
       "      <td>6.80</td>\n",
       "      <td>387585.92</td>\n",
       "      <td>98622.69</td>\n",
       "      <td>12.54</td>\n",
       "      <td>1984.33</td>\n",
       "    </tr>\n",
       "  </tbody>\n",
       "</table>\n",
       "</div>"
      ],
      "text/plain": [
       "      REGION      FMR      IPOV      LMED   PER  ROOMS      VALUE      ZINC2  \\\n",
       "0    Midwest  1053.29  17654.28  65497.60  2.62   6.73  186870.77   84145.04   \n",
       "1      South  1163.39  17390.63  61205.95  2.55   6.74  216831.41   83743.34   \n",
       "2  Northeast  1515.51  18148.62  80309.21  2.74   6.90  328229.01  101913.84   \n",
       "3       West  1585.94  18227.47  68912.90  2.76   6.80  387585.92   98622.69   \n",
       "\n",
       "   ln_value  total_cost  \n",
       "0     11.86     1502.39  \n",
       "1     12.00     1536.89  \n",
       "2     12.44     2113.13  \n",
       "3     12.54     1984.33  "
      ]
     },
     "execution_count": 86,
     "metadata": {},
     "output_type": "execute_result"
    }
   ],
   "source": [
    "pd.pivot_table(owned_single_family_housing_df, values=[\"IPOV\", \"VALUE\", \"LMED\", \"FMR\", \n",
    "            \"total_cost\", \"ZINC2\", \"ROOMS\", \"PER\", \"ln_value\"], \n",
    "               index=['REGION']).round(2).sort_values(by=\"VALUE\").reset_index()"
   ]
  },
  {
   "cell_type": "code",
   "execution_count": 87,
   "id": "5fb7dbb7",
   "metadata": {},
   "outputs": [
    {
     "data": {
      "text/html": [
       "<div>\n",
       "<style scoped>\n",
       "    .dataframe tbody tr th:only-of-type {\n",
       "        vertical-align: middle;\n",
       "    }\n",
       "\n",
       "    .dataframe tbody tr th {\n",
       "        vertical-align: top;\n",
       "    }\n",
       "\n",
       "    .dataframe thead tr th {\n",
       "        text-align: left;\n",
       "    }\n",
       "</style>\n",
       "<table border=\"1\" class=\"dataframe\">\n",
       "  <thead>\n",
       "    <tr>\n",
       "      <th></th>\n",
       "      <th>REGION</th>\n",
       "      <th colspan=\"2\" halign=\"left\">VALUE</th>\n",
       "      <th colspan=\"2\" halign=\"left\">ln_value</th>\n",
       "    </tr>\n",
       "    <tr>\n",
       "      <th></th>\n",
       "      <th></th>\n",
       "      <th>mean</th>\n",
       "      <th>median</th>\n",
       "      <th>mean</th>\n",
       "      <th>median</th>\n",
       "    </tr>\n",
       "  </thead>\n",
       "  <tbody>\n",
       "    <tr>\n",
       "      <th>0</th>\n",
       "      <td>Midwest</td>\n",
       "      <td>186870.77</td>\n",
       "      <td>150000.0</td>\n",
       "      <td>11.86</td>\n",
       "      <td>11.92</td>\n",
       "    </tr>\n",
       "    <tr>\n",
       "      <th>1</th>\n",
       "      <td>Northeast</td>\n",
       "      <td>328229.01</td>\n",
       "      <td>270000.0</td>\n",
       "      <td>12.44</td>\n",
       "      <td>12.51</td>\n",
       "    </tr>\n",
       "    <tr>\n",
       "      <th>2</th>\n",
       "      <td>South</td>\n",
       "      <td>216831.41</td>\n",
       "      <td>160000.0</td>\n",
       "      <td>12.00</td>\n",
       "      <td>11.98</td>\n",
       "    </tr>\n",
       "    <tr>\n",
       "      <th>3</th>\n",
       "      <td>West</td>\n",
       "      <td>387585.92</td>\n",
       "      <td>280000.0</td>\n",
       "      <td>12.54</td>\n",
       "      <td>12.54</td>\n",
       "    </tr>\n",
       "  </tbody>\n",
       "</table>\n",
       "</div>"
      ],
      "text/plain": [
       "      REGION      VALUE           ln_value       \n",
       "                   mean    median     mean median\n",
       "0    Midwest  186870.77  150000.0    11.86  11.92\n",
       "1  Northeast  328229.01  270000.0    12.44  12.51\n",
       "2      South  216831.41  160000.0    12.00  11.98\n",
       "3       West  387585.92  280000.0    12.54  12.54"
      ]
     },
     "execution_count": 87,
     "metadata": {},
     "output_type": "execute_result"
    }
   ],
   "source": [
    "# Compare the mean and median of the market value of unit befor and after the log transformation\n",
    "pd.pivot_table(owned_single_family_housing_df, values=[\"VALUE\", \"ln_value\"], index=['REGION'], \n",
    "              aggfunc = {\"ln_value\": [\"mean\", \"median\"],\n",
    "                         \"VALUE\": [\"mean\", \"median\"]}).round(2).reset_index()"
   ]
  },
  {
   "cell_type": "markdown",
   "id": "0c5146bb",
   "metadata": {},
   "source": [
    "Mean and median are approximately equal throughout the 4 regions after the Variable `VALUE` was log transformed. Howver, before it was transformed, the mean and median seemed to be significantly different, which implies that current market values of housing units are right skewed in this case since means are higher than medians."
   ]
  },
  {
   "cell_type": "markdown",
   "id": "770362b6-8e3e-41b2-ad74-1fcbb2ae5ba8",
   "metadata": {},
   "source": [
    "### Use Scikitlearn to run the above Regression Analysis"
   ]
  },
  {
   "cell_type": "markdown",
   "id": "4000048f-6cf6-458d-846b-26f975ce0818",
   "metadata": {},
   "source": [
    "#### Importing Required Packages"
   ]
  },
  {
   "cell_type": "code",
   "execution_count": 155,
   "id": "94f732b7-49dd-40df-b447-371a6914d7ea",
   "metadata": {},
   "outputs": [],
   "source": [
    "from sklearn.model_selection import train_test_split\n",
    "from sklearn.linear_model import LinearRegression\n",
    "import sklearn.metrics as metrics"
   ]
  },
  {
   "cell_type": "code",
   "execution_count": 156,
   "id": "d5e5de81-1496-46c1-a2b3-c769024aed74",
   "metadata": {},
   "outputs": [],
   "source": [
    "y = owned_single_family_housing_df[\"ln_value\"]"
   ]
  },
  {
   "cell_type": "code",
   "execution_count": 157,
   "id": "e2bd8259-1c3b-469a-8149-228591e1d6ad",
   "metadata": {},
   "outputs": [
    {
     "name": "stdout",
     "output_type": "stream",
     "text": [
      "The number of samples in train set is 24139\n",
      "The number of samples in test set is 6035\n"
     ]
    }
   ],
   "source": [
    "# Sperate train and test data\n",
    "X_train, X_test, y_train, y_test = train_test_split(X_reduced_cleaned, y, test_size = 0.2, random_state=42)\n",
    "print(\"The number of samples in train set is {}\".format(X_train.shape[0]))\n",
    "print(\"The number of samples in test set is {}\".format(X_test.shape[0]))"
   ]
  },
  {
   "cell_type": "code",
   "execution_count": 158,
   "id": "d5d2916b-9bb4-4975-9167-c3eded0f81d9",
   "metadata": {},
   "outputs": [
    {
     "data": {
      "text/plain": [
       "0.5287333822667113"
      ]
     },
     "execution_count": 158,
     "metadata": {},
     "output_type": "execute_result"
    }
   ],
   "source": [
    "# (1) Initiate the model\n",
    "lr = LinearRegression()\n",
    "# (2) Fit the model\n",
    "lr.fit(X_train, y_train)\n",
    "# (3) Score the model\n",
    "lr.score(X_test, y_test)"
   ]
  },
  {
   "cell_type": "code",
   "execution_count": 159,
   "id": "a7316dbe-9b3c-4bac-a8c9-28eec017169e",
   "metadata": {},
   "outputs": [
    {
     "data": {
      "text/plain": [
       "array([ 0.00684111,  0.00239845,  0.06792728,  0.04411304, -0.33905494,\n",
       "       -0.17960855, -0.24822985, -0.08106516,  0.14785642,  0.50224208,\n",
       "        0.00123396,  0.29875615,  0.44772303, -0.44009229])"
      ]
     },
     "execution_count": 159,
     "metadata": {},
     "output_type": "execute_result"
    }
   ],
   "source": [
    "# Coefficients\n",
    "lr.coef_"
   ]
  },
  {
   "cell_type": "code",
   "execution_count": 160,
   "id": "5fc80c12-b76a-405f-95fb-050d1a692639",
   "metadata": {},
   "outputs": [
    {
     "data": {
      "text/plain": [
       "0.3579597451082446"
      ]
     },
     "execution_count": 160,
     "metadata": {},
     "output_type": "execute_result"
    }
   ],
   "source": [
    "# Intercept\n",
    "lr.intercept_"
   ]
  },
  {
   "cell_type": "code",
   "execution_count": 161,
   "id": "70ab208d-620b-485d-aded-d06e6197b541",
   "metadata": {},
   "outputs": [
    {
     "name": "stdout",
     "output_type": "stream",
     "text": [
      "Mean Squared Error 0.2888147061037005\n"
     ]
    }
   ],
   "source": [
    "# Predict\n",
    "y_pred = lr.predict(X_test)\n",
    "# Mean Square error\n",
    "mse = metrics.mean_squared_error(y_test, y_pred)\n",
    "print(\"Mean Squared Error {}\".format(mse))"
   ]
  },
  {
   "cell_type": "code",
   "execution_count": 162,
   "id": "aa07aac6-d60a-45b4-91f4-c49bd5b9b9e6",
   "metadata": {},
   "outputs": [
    {
     "data": {
      "image/png": "[encoded data removed]",
      "text/plain": [
       "<Figure size 640x480 with 1 Axes>"
      ]
     },
     "metadata": {},
     "output_type": "display_data"
    }
   ],
   "source": [
    "plt.plot(y_test, y_pred, '.')\n",
    "# plot a line\n",
    "x = np.linspace(9, 15, 50)\n",
    "y = x\n",
    "plt.plot(x, y);"
   ]
  },
  {
   "cell_type": "code",
   "execution_count": 164,
   "id": "dee2418a-7d9c-43df-91bb-a25d04e7f101",
   "metadata": {},
   "outputs": [
    {
     "data": {
      "text/plain": [
       "array([ 0.35795975,  0.00684111,  0.00239845,  0.06792728,  0.04411304,\n",
       "       -0.33905494, -0.17960855, -0.24822985, -0.08106516,  0.14785642,\n",
       "        0.50224208,  0.00123396,  0.29875615,  0.44772303, -0.44009229])"
      ]
     },
     "execution_count": 164,
     "metadata": {},
     "output_type": "execute_result"
    }
   ],
   "source": [
    "params = np.append(lr.intercept_, lr.coef_)\n",
    "params"
   ]
  },
  {
   "cell_type": "code",
   "execution_count": 169,
   "id": "a15ca411-b885-42c3-915c-ff0ffb478b2a",
   "metadata": {},
   "outputs": [
    {
     "data": {
      "text/plain": [
       "array([1.00000000e+00, 5.50000000e+01, 1.95000000e+03, 9.00000000e+00,\n",
       "       2.00000000e+00, 1.00000000e+00, 0.00000000e+00, 0.00000000e+00,\n",
       "       0.00000000e+00, 1.00000000e+00, 7.31366473e+00, 2.46752913e+02,\n",
       "       1.09685258e+01, 7.01121399e+00, 9.64549372e+00])"
      ]
     },
     "execution_count": 169,
     "metadata": {},
     "output_type": "execute_result"
    }
   ],
   "source": [
    "new_X = np.append(np.ones((len(X_test), 1)), X_test, axis=1)\n",
    "new_X[0]"
   ]
  },
  {
   "cell_type": "code",
   "execution_count": 170,
   "id": "619f308a-cf71-422d-9b27-06481c44fe62",
   "metadata": {},
   "outputs": [
    {
     "data": {
      "text/plain": [
       "0.28953434407571965"
      ]
     },
     "execution_count": 170,
     "metadata": {},
     "output_type": "execute_result"
    }
   ],
   "source": [
    "MSE = (sum((y_test - y_pred)**2)) / (len(new_X) - len(new_X[0]))\n",
    "MSE"
   ]
  },
  {
   "cell_type": "code",
   "execution_count": 171,
   "id": "6ecbc1f2-88ea-42f9-a5ae-d36a90e975c6",
   "metadata": {},
   "outputs": [
    {
     "data": {
      "text/plain": [
       "array([2.05849036e+00, 3.25093365e-07, 8.29152794e-08, 2.68055427e-05,\n",
       "       6.20237000e-04, 6.82132546e-04, 6.50615557e-04, 5.45439704e-04,\n",
       "       3.05842417e-04, 2.27099509e-03, 2.26989324e-04, 4.71487291e-09,\n",
       "       4.45108265e-03, 1.90402779e-03, 1.53447322e-02])"
      ]
     },
     "execution_count": 171,
     "metadata": {},
     "output_type": "execute_result"
    }
   ],
   "source": [
    "v_b = MSE*(np.linalg.inv(np.dot(new_X.T, new_X)).diagonal())\n",
    "v_b"
   ]
  },
  {
   "cell_type": "code",
   "execution_count": 172,
   "id": "7c03e52c-bbed-4b3e-ace3-55ad66cb5fab",
   "metadata": {},
   "outputs": [
    {
     "data": {
      "text/plain": [
       "array([1.43474400e+00, 5.70169593e-04, 2.87950134e-04, 5.17740695e-03,\n",
       "       2.49045578e-02, 2.61176673e-02, 2.55071668e-02, 2.33546506e-02,\n",
       "       1.74883509e-02, 4.76549587e-02, 1.50661649e-02, 6.86649322e-05,\n",
       "       6.67164347e-02, 4.36351668e-02, 1.23873856e-01])"
      ]
     },
     "execution_count": 172,
     "metadata": {},
     "output_type": "execute_result"
    }
   ],
   "source": [
    "se = np.sqrt(v_b)\n",
    "se"
   ]
  },
  {
   "cell_type": "code",
   "execution_count": 173,
   "id": "3f81a865-916e-48bb-81a5-a95251b58ea3",
   "metadata": {},
   "outputs": [
    {
     "data": {
      "text/plain": [
       "array([  0.24949381,  11.99837366,   8.32938418,  13.1199431 ,\n",
       "         1.77128381, -12.98182317,  -7.04149338, -10.6287118 ,\n",
       "        -4.63538035,   3.10264492,  33.33576166,  17.97080166,\n",
       "         4.47799939,  10.26060092,  -3.55274553])"
      ]
     },
     "execution_count": 173,
     "metadata": {},
     "output_type": "execute_result"
    }
   ],
   "source": [
    "t_b = params/se\n",
    "t_b"
   ]
  },
  {
   "cell_type": "code",
   "execution_count": 174,
   "id": "ae7d7124-e246-4e5d-bb7c-375172a41ba9",
   "metadata": {},
   "outputs": [
    {
     "data": {
      "text/plain": [
       "array([0.803, 0.   , 0.   , 0.   , 0.077, 0.   , 0.   , 0.   , 0.   ,\n",
       "       0.002, 0.   , 0.   , 0.   , 0.   , 0.   ])"
      ]
     },
     "execution_count": 174,
     "metadata": {},
     "output_type": "execute_result"
    }
   ],
   "source": [
    "p_val = [2*(1 - stats.t.cdf(np.abs(i), (len(new_X) - len(new_X[0])))) for i in t_b]\n",
    "p_val = np.round(p_val, 3)\n",
    "p_val"
   ]
  },
  {
   "cell_type": "markdown",
   "id": "d041a3f2-b8ca-47d3-829c-bb6974373ba8",
   "metadata": {},
   "source": [
    "### 2011 Explanatory Variables and 2013 Market Value Variable\n",
    "\n",
    "- Data from 2011 and 2013 will be merged;\n",
    "- The Variable `VALUE` (market value of housing units) from 2013 is the response variable;\n",
    "- Explanatory variables and the market value variable (`VALUE`) from 2011 will be used to build the regression model. This way, the market value from 2011 will contribute to predict the market value in 2013;\n",
    "- Data will be split - 1,000 observations will be held for testing and evaluating the model;"
   ]
  },
  {
   "cell_type": "code",
   "execution_count": 201,
   "id": "47af45b0-ae48-4f3b-9f9e-2772dd112569",
   "metadata": {},
   "outputs": [],
   "source": [
    "# Reread the datasets\n",
    "data_2011 = pd.read_csv(\"thads2011.txt\", sep=\",\", usecols=usecols)\n",
    "data_2013 = pd.read_csv(\"thads2013.txt\", sep=\",\", usecols=usecols)"
   ]
  },
  {
   "cell_type": "code",
   "execution_count": 202,
   "id": "dd65812e-077a-4c93-8183-40dd4b4bdd52",
   "metadata": {},
   "outputs": [
    {
     "data": {
      "text/plain": [
       "(46381, 28)"
      ]
     },
     "execution_count": 202,
     "metadata": {},
     "output_type": "execute_result"
    }
   ],
   "source": [
    "df_merged_2011_2013 = data_2011.merge(data_2013[[\"CONTROL\", \"VALUE\"]], on = \"CONTROL\")\n",
    "df_merged_2011_2013.shape"
   ]
  },
  {
   "cell_type": "code",
   "execution_count": 203,
   "id": "63799ffa-4255-4446-82d9-602b8cfd56e1",
   "metadata": {},
   "outputs": [],
   "source": [
    "# Rename VALUE_x and VALUE_y according to the year\n",
    "df_merged_2011_2013.rename(columns={\"VALUE_x\": \"VALUE_2011\", \"VALUE_y\": \"VALUE_2013\"}, inplace=True)"
   ]
  },
  {
   "cell_type": "code",
   "execution_count": 204,
   "id": "67e94210-b3b5-4a01-b139-141f63502b9c",
   "metadata": {},
   "outputs": [
    {
     "data": {
      "text/plain": [
       "(24657, 28)"
      ]
     },
     "execution_count": 204,
     "metadata": {},
     "output_type": "execute_result"
    }
   ],
   "source": [
    "# Keep VALUE_2011 and VALUE_2013 that are $1000 or more\n",
    "df_merged_2011_2013_sub = df_merged_2011_2013[(df_merged_2011_2013[\"VALUE_2011\"]>= 1000) & (df_merged_2011_2013[\"VALUE_2013\"]>= 1000)]\n",
    "df_merged_2011_2013_sub.shape"
   ]
  },
  {
   "cell_type": "code",
   "execution_count": 240,
   "id": "314ccde8-6cf9-4c15-b155-2d03337febf7",
   "metadata": {},
   "outputs": [
    {
     "data": {
      "text/plain": [
       "(22232, 28)"
      ]
     },
     "execution_count": 240,
     "metadata": {},
     "output_type": "execute_result"
    }
   ],
   "source": [
    "# Owned single family housing units \n",
    "owned_single_family_units = df_merged_2011_2013_sub[(df_merged_2011_2013_sub.TYPE==1) & (df_merged_2011_2013_sub.STRUCTURETYPE==1) & (df_merged_2011_2013_sub.OWNRENT==\"'1'\")]  \n",
    "owned_single_family_units.shape"
   ]
  },
  {
   "cell_type": "code",
   "execution_count": 254,
   "id": "e17ea385-13e6-497f-a13c-93a8040f9f85",
   "metadata": {},
   "outputs": [
    {
     "data": {
      "text/plain": [
       "Index(['AGE1', 'METRO3', 'REGION', 'LMED', 'FMR', 'IPOV', 'PER', 'ZINC2',\n",
       "       'ZADEQ', 'BEDRMS', 'BUILT', 'VALUE_2011', 'ROOMS', 'UTILITY',\n",
       "       'OTHERCOST', 'VALUE_2013'],\n",
       "      dtype='object')"
      ]
     },
     "execution_count": 254,
     "metadata": {},
     "output_type": "execute_result"
    }
   ],
   "source": [
    "owned_single_family_units_df1 = owned_single_family_units.drop(columns=[\"CONTROL\", \"TYPE\", \"STRUCTURETYPE\", \"COST06\", \"COST12\", \n",
    "                                            \"COST08\", \"COSTMED\", \"OWNRENT\", \"NUNITS\", \"ASSISTED\", \"STATUS\", \"ZSMHC\"])\n",
    "owned_single_family_units_df1.columns"
   ]
  },
  {
   "cell_type": "code",
   "execution_count": 323,
   "id": "a79a6f18-ce82-405f-8069-ef7ad86f5727",
   "metadata": {},
   "outputs": [
    {
     "data": {
      "text/html": [
       "<div>\n",
       "<style scoped>\n",
       "    .dataframe tbody tr th:only-of-type {\n",
       "        vertical-align: middle;\n",
       "    }\n",
       "\n",
       "    .dataframe tbody tr th {\n",
       "        vertical-align: top;\n",
       "    }\n",
       "\n",
       "    .dataframe thead th {\n",
       "        text-align: right;\n",
       "    }\n",
       "</style>\n",
       "<table border=\"1\" class=\"dataframe\">\n",
       "  <thead>\n",
       "    <tr style=\"text-align: right;\">\n",
       "      <th></th>\n",
       "      <th>AGE1</th>\n",
       "      <th>METRO3</th>\n",
       "      <th>REGION</th>\n",
       "      <th>LMED</th>\n",
       "      <th>FMR</th>\n",
       "      <th>IPOV</th>\n",
       "      <th>PER</th>\n",
       "      <th>ZINC2</th>\n",
       "      <th>ZADEQ</th>\n",
       "      <th>BEDRMS</th>\n",
       "      <th>BUILT</th>\n",
       "      <th>VALUE_2011</th>\n",
       "      <th>ROOMS</th>\n",
       "      <th>UTILITY</th>\n",
       "      <th>OTHERCOST</th>\n",
       "      <th>VALUE_2013</th>\n",
       "    </tr>\n",
       "  </thead>\n",
       "  <tbody>\n",
       "    <tr>\n",
       "      <th>0</th>\n",
       "      <td>40</td>\n",
       "      <td>'5'</td>\n",
       "      <td>'3'</td>\n",
       "      <td>55770</td>\n",
       "      <td>1003</td>\n",
       "      <td>11572</td>\n",
       "      <td>1</td>\n",
       "      <td>44982</td>\n",
       "      <td>'1'</td>\n",
       "      <td>4</td>\n",
       "      <td>1980</td>\n",
       "      <td>125000</td>\n",
       "      <td>8</td>\n",
       "      <td>220.500000</td>\n",
       "      <td>41.666667</td>\n",
       "      <td>130000</td>\n",
       "    </tr>\n",
       "    <tr>\n",
       "      <th>1</th>\n",
       "      <td>65</td>\n",
       "      <td>'5'</td>\n",
       "      <td>'3'</td>\n",
       "      <td>55770</td>\n",
       "      <td>895</td>\n",
       "      <td>13403</td>\n",
       "      <td>2</td>\n",
       "      <td>36781</td>\n",
       "      <td>'1'</td>\n",
       "      <td>3</td>\n",
       "      <td>1985</td>\n",
       "      <td>250000</td>\n",
       "      <td>5</td>\n",
       "      <td>230.000000</td>\n",
       "      <td>40.333333</td>\n",
       "      <td>200000</td>\n",
       "    </tr>\n",
       "    <tr>\n",
       "      <th>2</th>\n",
       "      <td>48</td>\n",
       "      <td>'1'</td>\n",
       "      <td>'3'</td>\n",
       "      <td>62084</td>\n",
       "      <td>935</td>\n",
       "      <td>17849</td>\n",
       "      <td>3</td>\n",
       "      <td>57446</td>\n",
       "      <td>'1'</td>\n",
       "      <td>3</td>\n",
       "      <td>1985</td>\n",
       "      <td>169000</td>\n",
       "      <td>6</td>\n",
       "      <td>236.333333</td>\n",
       "      <td>108.333333</td>\n",
       "      <td>260000</td>\n",
       "    </tr>\n",
       "    <tr>\n",
       "      <th>3</th>\n",
       "      <td>58</td>\n",
       "      <td>'5'</td>\n",
       "      <td>'4'</td>\n",
       "      <td>53995</td>\n",
       "      <td>1224</td>\n",
       "      <td>14895</td>\n",
       "      <td>2</td>\n",
       "      <td>129964</td>\n",
       "      <td>'1'</td>\n",
       "      <td>3</td>\n",
       "      <td>1985</td>\n",
       "      <td>140000</td>\n",
       "      <td>7</td>\n",
       "      <td>217.666667</td>\n",
       "      <td>55.000000</td>\n",
       "      <td>170000</td>\n",
       "    </tr>\n",
       "    <tr>\n",
       "      <th>4</th>\n",
       "      <td>57</td>\n",
       "      <td>'5'</td>\n",
       "      <td>'3'</td>\n",
       "      <td>55770</td>\n",
       "      <td>895</td>\n",
       "      <td>14849</td>\n",
       "      <td>2</td>\n",
       "      <td>258664</td>\n",
       "      <td>'1'</td>\n",
       "      <td>3</td>\n",
       "      <td>1985</td>\n",
       "      <td>225000</td>\n",
       "      <td>5</td>\n",
       "      <td>187.000000</td>\n",
       "      <td>45.833333</td>\n",
       "      <td>230000</td>\n",
       "    </tr>\n",
       "  </tbody>\n",
       "</table>\n",
       "</div>"
      ],
      "text/plain": [
       "   AGE1 METRO3 REGION   LMED   FMR   IPOV  PER   ZINC2 ZADEQ  BEDRMS  BUILT  \\\n",
       "0    40    '5'    '3'  55770  1003  11572    1   44982   '1'       4   1980   \n",
       "1    65    '5'    '3'  55770   895  13403    2   36781   '1'       3   1985   \n",
       "2    48    '1'    '3'  62084   935  17849    3   57446   '1'       3   1985   \n",
       "3    58    '5'    '4'  53995  1224  14895    2  129964   '1'       3   1985   \n",
       "4    57    '5'    '3'  55770   895  14849    2  258664   '1'       3   1985   \n",
       "\n",
       "   VALUE_2011  ROOMS     UTILITY   OTHERCOST  VALUE_2013  \n",
       "0      125000      8  220.500000   41.666667      130000  \n",
       "1      250000      5  230.000000   40.333333      200000  \n",
       "2      169000      6  236.333333  108.333333      260000  \n",
       "3      140000      7  217.666667   55.000000      170000  \n",
       "4      225000      5  187.000000   45.833333      230000  "
      ]
     },
     "execution_count": 323,
     "metadata": {},
     "output_type": "execute_result"
    }
   ],
   "source": [
    "# Keep only positive values fore the variables \"AGE1\", \"IPOV\", etc.\n",
    "owned_single_family_units_df2 = owned_single_family_units_df1[(\n",
    "    owned_single_family_units_df1.AGE1>0) & (\n",
    "    owned_single_family_units_df1.IPOV>0) & (\n",
    "    owned_single_family_units_df1.PER>0) & (\n",
    "    owned_single_family_units_df1.ZINC2>0) & (\n",
    "    owned_single_family_units_df1.UTILITY>0) & (\n",
    "    owned_single_family_units_df1.OTHERCOST>0)\n",
    "].reset_index(drop=True)\n",
    "owned_single_family_units_df2.head()"
   ]
  },
  {
   "cell_type": "code",
   "execution_count": 324,
   "id": "829eebb7-a889-4e03-b913-327790b303bc",
   "metadata": {},
   "outputs": [
    {
     "data": {
      "text/plain": [
       "(20821, 16)"
      ]
     },
     "execution_count": 324,
     "metadata": {},
     "output_type": "execute_result"
    }
   ],
   "source": [
    "owned_single_family_units_df2.shape"
   ]
  },
  {
   "cell_type": "code",
   "execution_count": 325,
   "id": "4649bb82-583f-43a6-8f6e-7b43b05d7b66",
   "metadata": {},
   "outputs": [
    {
     "data": {
      "text/html": [
       "<div>\n",
       "<style scoped>\n",
       "    .dataframe tbody tr th:only-of-type {\n",
       "        vertical-align: middle;\n",
       "    }\n",
       "\n",
       "    .dataframe tbody tr th {\n",
       "        vertical-align: top;\n",
       "    }\n",
       "\n",
       "    .dataframe thead th {\n",
       "        text-align: right;\n",
       "    }\n",
       "</style>\n",
       "<table border=\"1\" class=\"dataframe\">\n",
       "  <thead>\n",
       "    <tr style=\"text-align: right;\">\n",
       "      <th></th>\n",
       "      <th>LMED</th>\n",
       "      <th>ZINC2</th>\n",
       "      <th>FMR</th>\n",
       "      <th>UTILITY</th>\n",
       "      <th>OTHERCOST</th>\n",
       "      <th>VALUE_2011</th>\n",
       "      <th>VALUE_2013</th>\n",
       "    </tr>\n",
       "  </thead>\n",
       "  <tbody>\n",
       "    <tr>\n",
       "      <th>20816</th>\n",
       "      <td>11.138348</td>\n",
       "      <td>11.512385</td>\n",
       "      <td>7.029088</td>\n",
       "      <td>5.468763</td>\n",
       "      <td>3.624341</td>\n",
       "      <td>11.918391</td>\n",
       "      <td>12.206073</td>\n",
       "    </tr>\n",
       "    <tr>\n",
       "      <th>20817</th>\n",
       "      <td>11.018629</td>\n",
       "      <td>9.862666</td>\n",
       "      <td>6.698268</td>\n",
       "      <td>5.335934</td>\n",
       "      <td>4.335110</td>\n",
       "      <td>12.388394</td>\n",
       "      <td>12.429216</td>\n",
       "    </tr>\n",
       "    <tr>\n",
       "      <th>20818</th>\n",
       "      <td>11.018629</td>\n",
       "      <td>10.735222</td>\n",
       "      <td>7.074117</td>\n",
       "      <td>5.542243</td>\n",
       "      <td>3.555348</td>\n",
       "      <td>11.849398</td>\n",
       "      <td>11.918391</td>\n",
       "    </tr>\n",
       "    <tr>\n",
       "      <th>20819</th>\n",
       "      <td>11.018629</td>\n",
       "      <td>10.125190</td>\n",
       "      <td>7.255591</td>\n",
       "      <td>5.519793</td>\n",
       "      <td>3.314186</td>\n",
       "      <td>11.608236</td>\n",
       "      <td>12.301383</td>\n",
       "    </tr>\n",
       "    <tr>\n",
       "      <th>20820</th>\n",
       "      <td>11.018629</td>\n",
       "      <td>9.902587</td>\n",
       "      <td>7.074117</td>\n",
       "      <td>6.080696</td>\n",
       "      <td>3.912023</td>\n",
       "      <td>11.849398</td>\n",
       "      <td>12.388394</td>\n",
       "    </tr>\n",
       "  </tbody>\n",
       "</table>\n",
       "</div>"
      ],
      "text/plain": [
       "            LMED      ZINC2       FMR   UTILITY  OTHERCOST  VALUE_2011  \\\n",
       "20816  11.138348  11.512385  7.029088  5.468763   3.624341   11.918391   \n",
       "20817  11.018629   9.862666  6.698268  5.335934   4.335110   12.388394   \n",
       "20818  11.018629  10.735222  7.074117  5.542243   3.555348   11.849398   \n",
       "20819  11.018629  10.125190  7.255591  5.519793   3.314186   11.608236   \n",
       "20820  11.018629   9.902587  7.074117  6.080696   3.912023   11.849398   \n",
       "\n",
       "       VALUE_2013  \n",
       "20816   12.206073  \n",
       "20817   12.429216  \n",
       "20818   11.918391  \n",
       "20819   12.301383  \n",
       "20820   12.388394  "
      ]
     },
     "execution_count": 325,
     "metadata": {},
     "output_type": "execute_result"
    }
   ],
   "source": [
    "# Log-transform a number of explanatory variables and the response variable \"VALUE_2013\"\n",
    "variables = owned_single_family_units_df2[[\"LMED\", \"ZINC2\", \"FMR\", \"UTILITY\", \"OTHERCOST\",\"VALUE_2011\", \"VALUE_2013\"]]\n",
    "features_transformed = np.log(variables)\n",
    "features_transformed.tail()"
   ]
  },
  {
   "cell_type": "code",
   "execution_count": 380,
   "id": "f9e430a9-ce01-49a9-b11c-1bfceb1c3fcb",
   "metadata": {},
   "outputs": [
    {
     "data": {
      "text/html": [
       "<div>\n",
       "<style scoped>\n",
       "    .dataframe tbody tr th:only-of-type {\n",
       "        vertical-align: middle;\n",
       "    }\n",
       "\n",
       "    .dataframe tbody tr th {\n",
       "        vertical-align: top;\n",
       "    }\n",
       "\n",
       "    .dataframe thead th {\n",
       "        text-align: right;\n",
       "    }\n",
       "</style>\n",
       "<table border=\"1\" class=\"dataframe\">\n",
       "  <thead>\n",
       "    <tr style=\"text-align: right;\">\n",
       "      <th></th>\n",
       "      <th>AGE1</th>\n",
       "      <th>METRO3</th>\n",
       "      <th>REGION</th>\n",
       "      <th>PER</th>\n",
       "      <th>ZADEQ</th>\n",
       "      <th>BEDRMS</th>\n",
       "      <th>BUILT</th>\n",
       "      <th>ROOMS</th>\n",
       "      <th>LMED</th>\n",
       "      <th>ZINC2</th>\n",
       "      <th>FMR</th>\n",
       "      <th>UTILITY</th>\n",
       "      <th>OTHERCOST</th>\n",
       "      <th>VALUE_2011</th>\n",
       "      <th>VALUE_2013</th>\n",
       "    </tr>\n",
       "  </thead>\n",
       "  <tbody>\n",
       "    <tr>\n",
       "      <th>0</th>\n",
       "      <td>40</td>\n",
       "      <td>'5'</td>\n",
       "      <td>'3'</td>\n",
       "      <td>1</td>\n",
       "      <td>'1'</td>\n",
       "      <td>4</td>\n",
       "      <td>1980</td>\n",
       "      <td>8</td>\n",
       "      <td>10.928991</td>\n",
       "      <td>10.714018</td>\n",
       "      <td>6.910751</td>\n",
       "      <td>5.395898</td>\n",
       "      <td>3.729701</td>\n",
       "      <td>11.736069</td>\n",
       "      <td>11.775290</td>\n",
       "    </tr>\n",
       "    <tr>\n",
       "      <th>1</th>\n",
       "      <td>65</td>\n",
       "      <td>'5'</td>\n",
       "      <td>'3'</td>\n",
       "      <td>2</td>\n",
       "      <td>'1'</td>\n",
       "      <td>3</td>\n",
       "      <td>1985</td>\n",
       "      <td>5</td>\n",
       "      <td>10.928991</td>\n",
       "      <td>10.512737</td>\n",
       "      <td>6.796824</td>\n",
       "      <td>5.438079</td>\n",
       "      <td>3.697178</td>\n",
       "      <td>12.429216</td>\n",
       "      <td>12.206073</td>\n",
       "    </tr>\n",
       "    <tr>\n",
       "      <th>2</th>\n",
       "      <td>48</td>\n",
       "      <td>'1'</td>\n",
       "      <td>'3'</td>\n",
       "      <td>3</td>\n",
       "      <td>'1'</td>\n",
       "      <td>3</td>\n",
       "      <td>1985</td>\n",
       "      <td>6</td>\n",
       "      <td>11.036244</td>\n",
       "      <td>10.958601</td>\n",
       "      <td>6.840547</td>\n",
       "      <td>5.465243</td>\n",
       "      <td>4.685213</td>\n",
       "      <td>12.037654</td>\n",
       "      <td>12.468437</td>\n",
       "    </tr>\n",
       "    <tr>\n",
       "      <th>3</th>\n",
       "      <td>58</td>\n",
       "      <td>'5'</td>\n",
       "      <td>'4'</td>\n",
       "      <td>2</td>\n",
       "      <td>'1'</td>\n",
       "      <td>3</td>\n",
       "      <td>1985</td>\n",
       "      <td>7</td>\n",
       "      <td>10.896647</td>\n",
       "      <td>11.775013</td>\n",
       "      <td>7.109879</td>\n",
       "      <td>5.382965</td>\n",
       "      <td>4.007333</td>\n",
       "      <td>11.849398</td>\n",
       "      <td>12.043554</td>\n",
       "    </tr>\n",
       "    <tr>\n",
       "      <th>4</th>\n",
       "      <td>57</td>\n",
       "      <td>'5'</td>\n",
       "      <td>'3'</td>\n",
       "      <td>2</td>\n",
       "      <td>'1'</td>\n",
       "      <td>3</td>\n",
       "      <td>1985</td>\n",
       "      <td>5</td>\n",
       "      <td>10.928991</td>\n",
       "      <td>12.463285</td>\n",
       "      <td>6.796824</td>\n",
       "      <td>5.231109</td>\n",
       "      <td>3.825012</td>\n",
       "      <td>12.323856</td>\n",
       "      <td>12.345835</td>\n",
       "    </tr>\n",
       "  </tbody>\n",
       "</table>\n",
       "</div>"
      ],
      "text/plain": [
       "   AGE1 METRO3 REGION  PER ZADEQ  BEDRMS  BUILT  ROOMS       LMED      ZINC2  \\\n",
       "0    40    '5'    '3'    1   '1'       4   1980      8  10.928991  10.714018   \n",
       "1    65    '5'    '3'    2   '1'       3   1985      5  10.928991  10.512737   \n",
       "2    48    '1'    '3'    3   '1'       3   1985      6  11.036244  10.958601   \n",
       "3    58    '5'    '4'    2   '1'       3   1985      7  10.896647  11.775013   \n",
       "4    57    '5'    '3'    2   '1'       3   1985      5  10.928991  12.463285   \n",
       "\n",
       "        FMR   UTILITY  OTHERCOST  VALUE_2011  VALUE_2013  \n",
       "0  6.910751  5.395898   3.729701   11.736069   11.775290  \n",
       "1  6.796824  5.438079   3.697178   12.429216   12.206073  \n",
       "2  6.840547  5.465243   4.685213   12.037654   12.468437  \n",
       "3  7.109879  5.382965   4.007333   11.849398   12.043554  \n",
       "4  6.796824  5.231109   3.825012   12.323856   12.345835  "
      ]
     },
     "execution_count": 380,
     "metadata": {},
     "output_type": "execute_result"
    }
   ],
   "source": [
    "# Drop the above columns from the owned_single_family_units_df2 dataframe then concatenate the above transformed dataframe to it\n",
    "cols = [\"LMED\", \"ZINC2\", \"FMR\", \"IPOV\", \"UTILITY\", \"OTHERCOST\", \"VALUE_2011\", \"VALUE_2013\"]\n",
    "owned_single_family_units_df3 = owned_single_family_units_df2.drop(columns = cols)\n",
    "owned_single_family_units_df4 = pd.concat([owned_single_family_units_df3, features_transformed], axis=1)\n",
    "owned_single_family_units_df4.head()"
   ]
  },
  {
   "cell_type": "code",
   "execution_count": 381,
   "id": "f3e3bbd0-3813-498f-8df4-b764aaf7d4dc",
   "metadata": {},
   "outputs": [
    {
     "data": {
      "text/html": [
       "<div>\n",
       "<style scoped>\n",
       "    .dataframe tbody tr th:only-of-type {\n",
       "        vertical-align: middle;\n",
       "    }\n",
       "\n",
       "    .dataframe tbody tr th {\n",
       "        vertical-align: top;\n",
       "    }\n",
       "\n",
       "    .dataframe thead th {\n",
       "        text-align: right;\n",
       "    }\n",
       "</style>\n",
       "<table border=\"1\" class=\"dataframe\">\n",
       "  <thead>\n",
       "    <tr style=\"text-align: right;\">\n",
       "      <th></th>\n",
       "      <th>AGE1</th>\n",
       "      <th>METRO3</th>\n",
       "      <th>REGION</th>\n",
       "      <th>PER</th>\n",
       "      <th>ZADEQ</th>\n",
       "      <th>BEDRMS</th>\n",
       "      <th>BUILT</th>\n",
       "      <th>ROOMS</th>\n",
       "      <th>LMED</th>\n",
       "      <th>ZINC2</th>\n",
       "      <th>FMR</th>\n",
       "      <th>UTILITY</th>\n",
       "      <th>OTHERCOST</th>\n",
       "      <th>VALUE_2011</th>\n",
       "      <th>VALUE_2013</th>\n",
       "    </tr>\n",
       "  </thead>\n",
       "  <tbody>\n",
       "    <tr>\n",
       "      <th>20816</th>\n",
       "      <td>42</td>\n",
       "      <td>Other</td>\n",
       "      <td>Northeast</td>\n",
       "      <td>4</td>\n",
       "      <td>Adequate</td>\n",
       "      <td>3</td>\n",
       "      <td>1970</td>\n",
       "      <td>4</td>\n",
       "      <td>11.138348</td>\n",
       "      <td>11.512385</td>\n",
       "      <td>7.029088</td>\n",
       "      <td>5.468763</td>\n",
       "      <td>3.624341</td>\n",
       "      <td>11.918391</td>\n",
       "      <td>12.206073</td>\n",
       "    </tr>\n",
       "    <tr>\n",
       "      <th>20817</th>\n",
       "      <td>72</td>\n",
       "      <td>Metro</td>\n",
       "      <td>West</td>\n",
       "      <td>1</td>\n",
       "      <td>Adequate</td>\n",
       "      <td>2</td>\n",
       "      <td>1985</td>\n",
       "      <td>6</td>\n",
       "      <td>11.018629</td>\n",
       "      <td>9.862666</td>\n",
       "      <td>6.698268</td>\n",
       "      <td>5.335934</td>\n",
       "      <td>4.335110</td>\n",
       "      <td>12.388394</td>\n",
       "      <td>12.429216</td>\n",
       "    </tr>\n",
       "    <tr>\n",
       "      <th>20818</th>\n",
       "      <td>55</td>\n",
       "      <td>Metro</td>\n",
       "      <td>West</td>\n",
       "      <td>5</td>\n",
       "      <td>Adequate</td>\n",
       "      <td>3</td>\n",
       "      <td>1960</td>\n",
       "      <td>8</td>\n",
       "      <td>11.018629</td>\n",
       "      <td>10.735222</td>\n",
       "      <td>7.074117</td>\n",
       "      <td>5.542243</td>\n",
       "      <td>3.555348</td>\n",
       "      <td>11.849398</td>\n",
       "      <td>11.918391</td>\n",
       "    </tr>\n",
       "    <tr>\n",
       "      <th>20819</th>\n",
       "      <td>26</td>\n",
       "      <td>Metro</td>\n",
       "      <td>West</td>\n",
       "      <td>3</td>\n",
       "      <td>Adequate</td>\n",
       "      <td>4</td>\n",
       "      <td>2008</td>\n",
       "      <td>6</td>\n",
       "      <td>11.018629</td>\n",
       "      <td>10.125190</td>\n",
       "      <td>7.255591</td>\n",
       "      <td>5.519793</td>\n",
       "      <td>3.314186</td>\n",
       "      <td>11.608236</td>\n",
       "      <td>12.301383</td>\n",
       "    </tr>\n",
       "    <tr>\n",
       "      <th>20820</th>\n",
       "      <td>48</td>\n",
       "      <td>Metro</td>\n",
       "      <td>West</td>\n",
       "      <td>1</td>\n",
       "      <td>Adequate</td>\n",
       "      <td>3</td>\n",
       "      <td>1950</td>\n",
       "      <td>5</td>\n",
       "      <td>11.018629</td>\n",
       "      <td>9.902587</td>\n",
       "      <td>7.074117</td>\n",
       "      <td>6.080696</td>\n",
       "      <td>3.912023</td>\n",
       "      <td>11.849398</td>\n",
       "      <td>12.388394</td>\n",
       "    </tr>\n",
       "  </tbody>\n",
       "</table>\n",
       "</div>"
      ],
      "text/plain": [
       "       AGE1 METRO3     REGION  PER     ZADEQ  BEDRMS  BUILT  ROOMS       LMED  \\\n",
       "20816    42  Other  Northeast    4  Adequate       3   1970      4  11.138348   \n",
       "20817    72  Metro       West    1  Adequate       2   1985      6  11.018629   \n",
       "20818    55  Metro       West    5  Adequate       3   1960      8  11.018629   \n",
       "20819    26  Metro       West    3  Adequate       4   2008      6  11.018629   \n",
       "20820    48  Metro       West    1  Adequate       3   1950      5  11.018629   \n",
       "\n",
       "           ZINC2       FMR   UTILITY  OTHERCOST  VALUE_2011  VALUE_2013  \n",
       "20816  11.512385  7.029088  5.468763   3.624341   11.918391   12.206073  \n",
       "20817   9.862666  6.698268  5.335934   4.335110   12.388394   12.429216  \n",
       "20818  10.735222  7.074117  5.542243   3.555348   11.849398   11.918391  \n",
       "20819  10.125190  7.255591  5.519793   3.314186   11.608236   12.301383  \n",
       "20820   9.902587  7.074117  6.080696   3.912023   11.849398   12.388394  "
      ]
     },
     "execution_count": 381,
     "metadata": {},
     "output_type": "execute_result"
    }
   ],
   "source": [
    "# Replace codes with the corresponding value\n",
    "owned_single_family_units_df4.replace({\"REGION\":{\"'1'\": \"Northeast\", \"'2'\": \"Midwest\", \n",
    "                                                 \"'3'\": \"South\", \"'4'\": \"West\"}}, inplace = True)\n",
    "owned_single_family_units_df4[\"METRO3\"] = np.where(owned_single_family_units_df4.METRO3 == \"'1'\",\n",
    "                                                   \"Metro\", \"Other\")\n",
    "owned_single_family_units_df4.replace({\"ZADEQ\":{\"'1'\": \"Adequate\", \"'2'\": \"Moderately_inadequate\",\n",
    "                    \"'3'\": \"Severely_inadequate\", \"'-6'\": \"Vacant_No_Info\"}}, inplace = True)\n",
    "owned_single_family_units_df4.tail()"
   ]
  },
  {
   "cell_type": "code",
   "execution_count": 382,
   "id": "a40f52f6-72d2-4291-a7a1-ad228bee784d",
   "metadata": {},
   "outputs": [
    {
     "data": {
      "text/html": [
       "<div>\n",
       "<style scoped>\n",
       "    .dataframe tbody tr th:only-of-type {\n",
       "        vertical-align: middle;\n",
       "    }\n",
       "\n",
       "    .dataframe tbody tr th {\n",
       "        vertical-align: top;\n",
       "    }\n",
       "\n",
       "    .dataframe thead th {\n",
       "        text-align: right;\n",
       "    }\n",
       "</style>\n",
       "<table border=\"1\" class=\"dataframe\">\n",
       "  <thead>\n",
       "    <tr style=\"text-align: right;\">\n",
       "      <th></th>\n",
       "      <th>Midwest</th>\n",
       "      <th>Northeast</th>\n",
       "      <th>South</th>\n",
       "      <th>West</th>\n",
       "      <th>Metro</th>\n",
       "      <th>Other</th>\n",
       "      <th>Adequate</th>\n",
       "      <th>Moderately_inadequate</th>\n",
       "      <th>Severely_inadequate</th>\n",
       "    </tr>\n",
       "  </thead>\n",
       "  <tbody>\n",
       "    <tr>\n",
       "      <th>0</th>\n",
       "      <td>0</td>\n",
       "      <td>0</td>\n",
       "      <td>1</td>\n",
       "      <td>0</td>\n",
       "      <td>0</td>\n",
       "      <td>1</td>\n",
       "      <td>1</td>\n",
       "      <td>0</td>\n",
       "      <td>0</td>\n",
       "    </tr>\n",
       "    <tr>\n",
       "      <th>1</th>\n",
       "      <td>0</td>\n",
       "      <td>0</td>\n",
       "      <td>1</td>\n",
       "      <td>0</td>\n",
       "      <td>0</td>\n",
       "      <td>1</td>\n",
       "      <td>1</td>\n",
       "      <td>0</td>\n",
       "      <td>0</td>\n",
       "    </tr>\n",
       "    <tr>\n",
       "      <th>2</th>\n",
       "      <td>0</td>\n",
       "      <td>0</td>\n",
       "      <td>1</td>\n",
       "      <td>0</td>\n",
       "      <td>1</td>\n",
       "      <td>0</td>\n",
       "      <td>1</td>\n",
       "      <td>0</td>\n",
       "      <td>0</td>\n",
       "    </tr>\n",
       "    <tr>\n",
       "      <th>3</th>\n",
       "      <td>0</td>\n",
       "      <td>0</td>\n",
       "      <td>0</td>\n",
       "      <td>1</td>\n",
       "      <td>0</td>\n",
       "      <td>1</td>\n",
       "      <td>1</td>\n",
       "      <td>0</td>\n",
       "      <td>0</td>\n",
       "    </tr>\n",
       "    <tr>\n",
       "      <th>4</th>\n",
       "      <td>0</td>\n",
       "      <td>0</td>\n",
       "      <td>1</td>\n",
       "      <td>0</td>\n",
       "      <td>0</td>\n",
       "      <td>1</td>\n",
       "      <td>1</td>\n",
       "      <td>0</td>\n",
       "      <td>0</td>\n",
       "    </tr>\n",
       "  </tbody>\n",
       "</table>\n",
       "</div>"
      ],
      "text/plain": [
       "   Midwest  Northeast  South  West  Metro  Other  Adequate  \\\n",
       "0        0          0      1     0      0      1         1   \n",
       "1        0          0      1     0      0      1         1   \n",
       "2        0          0      1     0      1      0         1   \n",
       "3        0          0      0     1      0      1         1   \n",
       "4        0          0      1     0      0      1         1   \n",
       "\n",
       "   Moderately_inadequate  Severely_inadequate  \n",
       "0                      0                    0  \n",
       "1                      0                    0  \n",
       "2                      0                    0  \n",
       "3                      0                    0  \n",
       "4                      0                    0  "
      ]
     },
     "execution_count": 382,
     "metadata": {},
     "output_type": "execute_result"
    }
   ],
   "source": [
    "# Create the dummy variables for the categorical variables\n",
    "region = pd.get_dummies(owned_single_family_units_df4['REGION'], dtype=int)\n",
    "metro = pd.get_dummies(owned_single_family_units_df4['METRO3'], dtype=int)\n",
    "adequacy = pd.get_dummies(owned_single_family_units_df4['ZADEQ'], dtype=int)\n",
    "# Concatenate all the dummy variables into one dataframe\n",
    "dummies_df = pd.concat([region, metro, adequacy], axis=1)\n",
    "dummies_df.head()"
   ]
  },
  {
   "cell_type": "code",
   "execution_count": 432,
   "id": "2d4865b1-9d92-4055-9ca7-49c30b400554",
   "metadata": {},
   "outputs": [],
   "source": [
    "X_mat = owned_single_family_units_df4.drop(columns=[\"VALUE_2013\", \"METRO3\", \"REGION\", \"ZADEQ\"])\n",
    "X_mat = pd.concat([X_mat, dummies_df[['Midwest', 'Northeast', 'South', 'Metro', 'Adequate']]], axis=1)"
   ]
  },
  {
   "cell_type": "code",
   "execution_count": 439,
   "id": "07b3df7e-4635-491b-8a02-d709648ad84c",
   "metadata": {},
   "outputs": [
    {
     "data": {
      "image/png": "[encoded data removed]",
      "text/plain": [
       "<Figure size 640x480 with 2 Axes>"
      ]
     },
     "metadata": {},
     "output_type": "display_data"
    }
   ],
   "source": [
    "# lower triangular matrix\n",
    "mask2 = np.triu(np.ones_like(X_mat.corr()))\n",
    "warnings.filterwarnings(\"ignore\")\n",
    "# plotting a triangle correlation heatmap\n",
    "sns.heatmap(X_mat.corr(), cmap=\"YlGnBu\", annot=True, fmt='0.1f', mask=mask2)\n",
    "plt.savefig(\"corrMatrix.png\");"
   ]
  },
  {
   "cell_type": "code",
   "execution_count": 384,
   "id": "d63d6b31-8b73-499b-9ab6-fdc7e1b29c4c",
   "metadata": {},
   "outputs": [],
   "source": [
    "y_resp = owned_single_family_units_df4[\"VALUE_2013\"]"
   ]
  },
  {
   "cell_type": "code",
   "execution_count": 385,
   "id": "a841acc6-1dac-4097-b465-d1a0431ddcbb",
   "metadata": {},
   "outputs": [
    {
     "data": {
      "text/plain": [
       "0.048"
      ]
     },
     "execution_count": 385,
     "metadata": {},
     "output_type": "execute_result"
    }
   ],
   "source": [
    "test_size = round(1000 / owned_single_family_units_df4.shape[0],4)\n",
    "test_size"
   ]
  },
  {
   "cell_type": "code",
   "execution_count": 386,
   "id": "a4b71e1f-ed20-4782-b3f1-326df06330a0",
   "metadata": {},
   "outputs": [
    {
     "name": "stdout",
     "output_type": "stream",
     "text": [
      "The number of samples in train set is 19821\n",
      "The number of samples in test set is 1000\n"
     ]
    }
   ],
   "source": [
    "# Separate the data\n",
    "X2_train, X2_test, y2_train, y2_test = train_test_split(X_mat, y_resp, test_size = test_size, random_state=42)\n",
    "print(\"The number of samples in train set is {}\".format(X2_train.shape[0]))\n",
    "print(\"The number of samples in test set is {}\".format(X2_test.shape[0]))"
   ]
  },
  {
   "cell_type": "code",
   "execution_count": 441,
   "id": "02e29f55-39ff-4fd3-a089-7c0781002efe",
   "metadata": {},
   "outputs": [],
   "source": [
    "X2_train.to_csv(\"training_inputs.csv\")\n",
    "y2_train.to_csv(\"training_response.csv\")\n",
    "X2_test.to_csv(\"test_inputs.csv\")\n",
    "y2_test.to_csv(\"test_response.csv\")"
   ]
  },
  {
   "cell_type": "code",
   "execution_count": 437,
   "id": "facf0b6b-f516-41a9-b045-683cde7a3fd6",
   "metadata": {},
   "outputs": [],
   "source": [
    "descriptive_stats = pd.concat([y2_train.describe(), X2_train.describe()], axis=1)\n",
    "descriptive_statistics = descriptive_stats.rename(columns={\"VALUE_2013\": \"ln_value_2013\"})\n",
    "descriptive_statistics.to_csv(\"descriptive_stats.csv\")"
   ]
  },
  {
   "cell_type": "code",
   "execution_count": 387,
   "id": "e2b9da51-c6e8-41cd-a182-e4f9eb1b3fb0",
   "metadata": {},
   "outputs": [
    {
     "data": {
      "text/plain": [
       "0.61"
      ]
     },
     "execution_count": 387,
     "metadata": {},
     "output_type": "execute_result"
    }
   ],
   "source": [
    "# (1) Initiate the model\n",
    "lr2 = LinearRegression()\n",
    "# (2) Fit the model\n",
    "lr2.fit(X2_train, y2_train)\n",
    "# (3) Score the model\n",
    "round(lr2.score(X2_test, y2_test),2)"
   ]
  },
  {
   "cell_type": "code",
   "execution_count": 388,
   "id": "d62da9ae-8ad4-43bc-b5a8-0c3f5b117993",
   "metadata": {},
   "outputs": [
    {
     "data": {
      "text/plain": [
       "array([-4.15115916e+00,  8.47991382e-04, -8.45210427e-03, -3.93258886e-02,\n",
       "        1.91488892e-03,  4.77613216e-02,  1.59614781e-01,  5.29324517e-02,\n",
       "        3.69681281e-01,  5.34945627e-02,  7.14752260e-03,  5.83990141e-01,\n",
       "       -9.61762889e-02, -7.98542103e-02, -1.07717874e-01, -4.43225115e-02,\n",
       "        2.29460839e-02])"
      ]
     },
     "execution_count": 388,
     "metadata": {},
     "output_type": "execute_result"
    }
   ],
   "source": [
    "params2 = np.append(lr2.intercept_, lr2.coef_)\n",
    "params2"
   ]
  },
  {
   "cell_type": "code",
   "execution_count": 389,
   "id": "4fd81ff6-9066-45f8-9139-01f83a90f135",
   "metadata": {},
   "outputs": [
    {
     "name": "stdout",
     "output_type": "stream",
     "text": [
      "Mean Squared Error 0.22820281510477217\n"
     ]
    }
   ],
   "source": [
    "# Predict\n",
    "y2_pred = lr2.predict(X2_test)\n",
    "# Mean Square error\n",
    "mse2 = metrics.mean_squared_error(y2_test, y2_pred)\n",
    "print(\"Mean Squared Error {}\".format(mse2))"
   ]
  },
  {
   "cell_type": "code",
   "execution_count": 443,
   "id": "10dfdce1-580e-4994-bb9e-8f1002adb699",
   "metadata": {},
   "outputs": [],
   "source": [
    "pd.DataFrame(y2_pred).to_csv(\"predicted.csv\")"
   ]
  },
  {
   "cell_type": "code",
   "execution_count": 430,
   "id": "e6de3fb0-1c8b-4f5b-910d-11437e9601e2",
   "metadata": {},
   "outputs": [
    {
     "data": {
      "text/plain": [
       "72729"
      ]
     },
     "execution_count": 430,
     "metadata": {},
     "output_type": "execute_result"
    }
   ],
   "source": [
    "# Mean Absolute Difference\n",
    "round((np.abs(np.exp(y2_test) - np.exp(y2_pred))).mean())"
   ]
  },
  {
   "cell_type": "code",
   "execution_count": 390,
   "id": "0e56e5c9-6071-45a9-bada-0cc4fd8a3b80",
   "metadata": {},
   "outputs": [
    {
     "data": {
      "text/plain": [
       "array([1.00000000e+00, 3.90000000e+01, 5.00000000e+00, 4.00000000e+00,\n",
       "       1.97000000e+03, 7.00000000e+00, 1.08573245e+01, 1.08546820e+01,\n",
       "       6.85856503e+00, 6.12249281e+00, 4.60517019e+00, 1.14075649e+01,\n",
       "       0.00000000e+00, 0.00000000e+00, 1.00000000e+00, 0.00000000e+00,\n",
       "       1.00000000e+00])"
      ]
     },
     "execution_count": 390,
     "metadata": {},
     "output_type": "execute_result"
    }
   ],
   "source": [
    "new_X2 = np.append(np.ones((len(X2_test), 1)), X2_test, axis=1)\n",
    "new_X2[0]"
   ]
  },
  {
   "cell_type": "code",
   "execution_count": 391,
   "id": "a7bff0fd-b8f7-4261-9edc-ee73f5b01e88",
   "metadata": {},
   "outputs": [
    {
     "data": {
      "text/plain": [
       "array([0.02 , 0.449, 0.508, 0.22 , 0.002, 0.002, 0.275, 0.002, 0.   ,\n",
       "       0.189, 0.732, 0.   , 0.117, 0.168, 0.032, 0.251, 0.812])"
      ]
     },
     "execution_count": 391,
     "metadata": {},
     "output_type": "execute_result"
    }
   ],
   "source": [
    "# Varriance\n",
    "v_b2 = mse2*(np.linalg.inv(np.dot(new_X2.T, new_X2)).diagonal())\n",
    "# Standard error\n",
    "se2 = np.sqrt(v_b2)\n",
    "# t-statistics\n",
    "t_b2 = params2/se2\n",
    "# p-values\n",
    "p_val2 = [2*(1 - stats.t.cdf(np.abs(i), (len(new_X2) - len(new_X2[0])))) for i in t_b2]\n",
    "p_val2 = np.round(p_val2, 3)\n",
    "p_val2"
   ]
  },
  {
   "cell_type": "code",
   "execution_count": 438,
   "id": "82641ae1-bf83-4249-b83a-41e61e7e0f8e",
   "metadata": {},
   "outputs": [
    {
     "data": {
      "image/png": "[encoded data removed]",
      "text/plain": [
       "<Figure size 420x300 with 1 Axes>"
      ]
     },
     "metadata": {},
     "output_type": "display_data"
    },
    {
     "data": {
      "image/png": "[encoded data removed]",
      "text/plain": [
       "<Figure size 420x300 with 1 Axes>"
      ]
     },
     "metadata": {},
     "output_type": "display_data"
    }
   ],
   "source": [
    "warnings.filterwarnings(\"ignore\")\n",
    "sns.displot(data=owned_single_family_units_df2, x='VALUE_2013', height=3, aspect=1.4, kde=False)\n",
    "plt.xlabel(\"Current Market Values ($)\")\n",
    "plt.ylabel(\"Number of Housing Units\")\n",
    "plt.title(\"Distribution of Current Market Value\")\n",
    "plt.savefig(\"value2013.png\")\n",
    "sns.displot(data=owned_single_family_units_df4, x='VALUE_2013', height=3, aspect=1.4, kde=False)\n",
    "plt.title(\"Distribution of Logarithmic Market Values\")\n",
    "plt.xlabel(\"Logarithmic of Current Market Values (Log($))\")\n",
    "plt.ylabel(\"Number of Housing Units\")\n",
    "plt.savefig(\"logvalue2013.png\");"
   ]
  },
  {
   "cell_type": "code",
   "execution_count": 440,
   "id": "23f10b69-a814-45d1-ad69-dda8a3b5b044",
   "metadata": {},
   "outputs": [
    {
     "data": {
      "image/png": "[encoded data removed]",
      "text/plain": [
       "<Figure size 900x600 with 1 Axes>"
      ]
     },
     "metadata": {},
     "output_type": "display_data"
    }
   ],
   "source": [
    "# Let's first rename the features that were logarithmically transformed\n",
    "X2_train.rename(columns={\"VALUE_2011\": \"ln_value_2011\", \"UTILITY\": \"ln_utility\", \"OTHERCOST\": \"ln_othercost\",\n",
    "                         \"LMED\": \"ln_lmed\", \"FMR\": \"ln_fmr\", \"ZINC2\": \"ln_zinc2\"}, inplace = True)\n",
    "\n",
    "coefs = pd.DataFrame(lr2.coef_, columns=[\"Coefficients\"], index=X2_train.columns)\n",
    "\n",
    "coefs_sorted = coefs.sort_values(by=\"Coefficients\", key=abs, ascending=True)\n",
    "\n",
    "coefs_sorted.plot(kind=\"barh\", figsize=(9, 6))\n",
    "plt.title(\"Multilinear Regression model - Feature Importance\")\n",
    "plt.axvline(x=0, color=\".5\")\n",
    "plt.subplots_adjust(left=0.3)\n",
    "plt.savefig(\"featureImportance.png\")"
   ]
  },
  {
   "cell_type": "code",
   "execution_count": 417,
   "id": "174b36bf-72d2-4108-a267-9a6a9064cf5f",
   "metadata": {},
   "outputs": [
    {
     "data": {
      "text/html": [
       "<div>\n",
       "<style scoped>\n",
       "    .dataframe tbody tr th:only-of-type {\n",
       "        vertical-align: middle;\n",
       "    }\n",
       "\n",
       "    .dataframe tbody tr th {\n",
       "        vertical-align: top;\n",
       "    }\n",
       "\n",
       "    .dataframe thead th {\n",
       "        text-align: right;\n",
       "    }\n",
       "</style>\n",
       "<table border=\"1\" class=\"dataframe\">\n",
       "  <thead>\n",
       "    <tr style=\"text-align: right;\">\n",
       "      <th></th>\n",
       "      <th>Coefficients</th>\n",
       "    </tr>\n",
       "  </thead>\n",
       "  <tbody>\n",
       "    <tr>\n",
       "      <th>ln_value_2011</th>\n",
       "      <td>0.583990</td>\n",
       "    </tr>\n",
       "    <tr>\n",
       "      <th>ln_fmr</th>\n",
       "      <td>0.369681</td>\n",
       "    </tr>\n",
       "    <tr>\n",
       "      <th>ln_lmed</th>\n",
       "      <td>0.159615</td>\n",
       "    </tr>\n",
       "    <tr>\n",
       "      <th>South</th>\n",
       "      <td>-0.107718</td>\n",
       "    </tr>\n",
       "    <tr>\n",
       "      <th>Midwest</th>\n",
       "      <td>-0.096176</td>\n",
       "    </tr>\n",
       "    <tr>\n",
       "      <th>Northeast</th>\n",
       "      <td>-0.079854</td>\n",
       "    </tr>\n",
       "    <tr>\n",
       "      <th>ln_utility</th>\n",
       "      <td>0.053495</td>\n",
       "    </tr>\n",
       "    <tr>\n",
       "      <th>ln_zinc2</th>\n",
       "      <td>0.052932</td>\n",
       "    </tr>\n",
       "    <tr>\n",
       "      <th>ROOMS</th>\n",
       "      <td>0.047761</td>\n",
       "    </tr>\n",
       "    <tr>\n",
       "      <th>Metro</th>\n",
       "      <td>-0.044323</td>\n",
       "    </tr>\n",
       "    <tr>\n",
       "      <th>BEDRMS</th>\n",
       "      <td>-0.039326</td>\n",
       "    </tr>\n",
       "    <tr>\n",
       "      <th>Adequate</th>\n",
       "      <td>0.022946</td>\n",
       "    </tr>\n",
       "    <tr>\n",
       "      <th>PER</th>\n",
       "      <td>-0.008452</td>\n",
       "    </tr>\n",
       "    <tr>\n",
       "      <th>ln_othercost</th>\n",
       "      <td>0.007148</td>\n",
       "    </tr>\n",
       "    <tr>\n",
       "      <th>BUILT</th>\n",
       "      <td>0.001915</td>\n",
       "    </tr>\n",
       "    <tr>\n",
       "      <th>AGE1</th>\n",
       "      <td>0.000848</td>\n",
       "    </tr>\n",
       "  </tbody>\n",
       "</table>\n",
       "</div>"
      ],
      "text/plain": [
       "               Coefficients\n",
       "ln_value_2011      0.583990\n",
       "ln_fmr             0.369681\n",
       "ln_lmed            0.159615\n",
       "South             -0.107718\n",
       "Midwest           -0.096176\n",
       "Northeast         -0.079854\n",
       "ln_utility         0.053495\n",
       "ln_zinc2           0.052932\n",
       "ROOMS              0.047761\n",
       "Metro             -0.044323\n",
       "BEDRMS            -0.039326\n",
       "Adequate           0.022946\n",
       "PER               -0.008452\n",
       "ln_othercost       0.007148\n",
       "BUILT              0.001915\n",
       "AGE1               0.000848"
      ]
     },
     "execution_count": 417,
     "metadata": {},
     "output_type": "execute_result"
    }
   ],
   "source": [
    "# Feature importance\n",
    "coefs.sort_values(by=\"Coefficients\", key=abs, ascending=False)"
   ]
  },
  {
   "cell_type": "code",
   "execution_count": null,
   "id": "2725623d-d8ca-4fbe-a065-c0e60761a5f6",
   "metadata": {},
   "outputs": [],
   "source": []
  },
  {
   "cell_type": "code",
   "execution_count": null,
   "id": "19ec4696",
   "metadata": {},
   "outputs": [],
   "source": []
  }
 ],
 "metadata": {
  "kernelspec": {
   "display_name": "Python 3 (ipykernel)",
   "language": "python",
   "name": "python3"
  },
  "language_info": {
   "codemirror_mode": {
    "name": "ipython",
    "version": 3
   },
   "file_extension": ".py",
   "mimetype": "text/x-python",
   "name": "python",
   "nbconvert_exporter": "python",
   "pygments_lexer": "ipython3",
   "version": "3.9.18"
  }
 },
 "nbformat": 4,
 "nbformat_minor": 5
}
